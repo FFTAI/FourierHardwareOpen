{
 "cells": [
  {
   "cell_type": "code",
   "execution_count": 1,
   "id": "a9779aeb-21df-4206-9d38-51fb17121cb2",
   "metadata": {},
   "outputs": [],
   "source": [
    "# 1. 请先使用上位机升级机器人电机通信固件版本到0.3.12.12，详细使用请参考上位机使用说明\n",
    "# 2. 请使用上位机对机器人零位进行标定\n",
    "# 3. 请调整机器人电机pd参数（注意不是pid参数），参考值：上肢（头腰双臂）p：200，d：0，可以根据软硬自己调节\n",
    "# 4. 请使用指定的docker镜像进行开发，镜像名为fourier_hardware:v2.2，请使用开源仓库中的docker启动脚本启动docker"
   ]
  },
  {
   "cell_type": "code",
   "execution_count": 2,
   "id": "797ec122-b93d-413c-8ece-52c0e96bd38f",
   "metadata": {},
   "outputs": [],
   "source": [
    "# fourier_hardware_py 用于对机器人进行分组控制\n",
    "import fourier_hardware_py\n",
    "# grx_sot_py 用于对机器人进行运动学，动力学求解\n",
    "import grx_sot_py\n",
    "import numpy as np\n",
    "import time\n",
    "import math"
   ]
  },
  {
   "cell_type": "code",
   "execution_count": 3,
   "id": "5671e940-8c70-4eb2-a527-b393d2a07765",
   "metadata": {},
   "outputs": [],
   "source": [
    "# 加载对应机型的config配置文件\n",
    "config = fourier_hardware_py.HardwareConfigHelper(\"/usr/local/config/fourier_hardware/gr2t2v2\")"
   ]
  },
  {
   "cell_type": "code",
   "execution_count": null,
   "id": "ac1359f8-2614-4c5f-b5cc-be7f8f475d86",
   "metadata": {},
   "outputs": [],
   "source": [
    "# 获取imu数据,注意，如果docker容器启动之后才将imu插入电脑中，docker容器内程序将无法正确获得imu的串口信息，此时，重新启动docker即可。\n",
    "ch108 = fourier_hardware_py.ch108IMU()\n",
    "ch108.initIMU(\"/dev/ttyUSB0\")\n",
    "# 可以通过配置文件获得imu相关信息\n",
    "imu_names = config.getIMUNames()\n",
    "first_imu_name = imu_names[0]\n",
    "print(first_imu_name)\n",
    "print(config.getIMUType(first_imu_name[0])) # imu 型号\n",
    "print(config.getIMUMountLink(first_imu_name)) # imu 绑定的link位置，代表了imu在urdf中的位置。\n",
    "print(config.getIMUPortName(first_imu_name)) # imu的端口位置\n",
    "for i in range(2):\n",
    "    print(ch108.getIMUData()) # w x y z wx wy wz ax ay az \n",
    "    print(ch108.getLossCount()) # 连续丢失数量，最大255\n",
    "    time.sleep(0.1) # 内部维护一个1khz的读取线程，这里time sleep可以按照需要设置"
   ]
  },
  {
   "cell_type": "code",
   "execution_count": 4,
   "id": "a593de43-c59c-4be9-af31-d7c69b052b97",
   "metadata": {},
   "outputs": [
    {
     "data": {
      "text/plain": [
       "True"
      ]
     },
     "execution_count": 4,
     "metadata": {},
     "output_type": "execute_result"
    }
   ],
   "source": [
    "# 配置各控制组的控制模式为PD模式，并忽略下肢控制的运动\n",
    "config.changeControlGroupMotorMode(\"head\",\"pd\")\n",
    "config.changeControlGroupMotorMode(\"left_manipulator\",\"pd\")\n",
    "config.changeControlGroupMotorMode(\"right_manipulator\",\"pd\")\n",
    "config.changeControlGroupMotorMode(\"waist\",\"pd\")\n",
    "config.changeControlGroupMotorMode(\"left_leg\",\"pd\")\n",
    "config.changeControlGroupMotorMode(\"right_leg\",\"pd\")"
   ]
  },
  {
   "cell_type": "code",
   "execution_count": 5,
   "id": "e37fe119-6ca3-49bb-8d6a-83aebef98da4",
   "metadata": {
    "scrolled": true
   },
   "outputs": [],
   "source": [
    "# 此处会尝试与机器人建立连接，如果失败（存在control group无法连接），将会持续报错，请先检查机器人关节ip是否可以ping通，\n",
    "# 如果不能ping通，请尝试重启机器人或寻求硬件支持\n",
    "hardware = fourier_hardware_py.FourierHardware(\"/usr/local/config/fourier_hardware/gr2t2v2\",config)"
   ]
  },
  {
   "cell_type": "code",
   "execution_count": 6,
   "id": "b4548e3e-f90e-432b-a642-e1c8cdfc14e5",
   "metadata": {},
   "outputs": [],
   "source": [
    "# 根据配置文件定义对应的机器人类，支持运动学、动力学求解\n",
    "robot = grx_sot_py.RobotWrapper(\"/usr/local/config/fourier_hardware/gr2t2v2\", grx_sot_py.Flags.ignore_collisions)"
   ]
  },
  {
   "cell_type": "code",
   "execution_count": 7,
   "id": "789d6d3a-bfd7-472d-963c-7dd4b4b397d1",
   "metadata": {},
   "outputs": [],
   "source": [
    "# 定义机器人对应的控制组和与控制组匹配的关节顺序，输出对应的字典信息\n",
    "group_names = []\n",
    "group_joints = []\n",
    "group_joints_pos_order = {}\n",
    "group_joint_vel_order = {}\n",
    "\n",
    "for group_name in config.getControlGroupNames():\n",
    "    if config.getControlGroupMotorMode(group_name)== \"ignore\":\n",
    "        continue\n",
    "    group_names.append(group_name)\n",
    "    robot_joint_names = hardware.getControlGroupJointNames(group_name)\n",
    "    group_joints.append(robot_joint_names)\n",
    "    joint_pos_orders = []\n",
    "    joint_vel_orders = []\n",
    "    for robot_joint_name in robot_joint_names:\n",
    "        joint_pos_orders.append(robot.get_joint_offset(robot_joint_name))\n",
    "        joint_vel_orders.append(robot.get_joint_v_offset(robot_joint_name))\n",
    "    group_joints_pos_order[group_name]= joint_pos_orders\n",
    "    group_joint_vel_order[group_name] = joint_vel_orders"
   ]
  },
  {
   "cell_type": "code",
   "execution_count": 8,
   "id": "4bb68068-ac5c-4b7a-b650-e86897aa43e9",
   "metadata": {},
   "outputs": [
    {
     "name": "stdout",
     "output_type": "stream",
     "text": [
      "gr2t2v2\n",
      "['left_leg', 'right_leg', 'waist', 'head', 'left_manipulator', 'right_manipulator']\n"
     ]
    }
   ],
   "source": [
    "print(config.getRobotName())\n",
    "print(config.getControlGroupNames())"
   ]
  },
  {
   "cell_type": "code",
   "execution_count": 19,
   "id": "efdee1d3-ea8b-4d00-9b55-ce9825bd3784",
   "metadata": {},
   "outputs": [
    {
     "data": {
      "text/plain": [
       "True"
      ]
     },
     "execution_count": 19,
     "metadata": {},
     "output_type": "execute_result"
    }
   ],
   "source": [
    "hardware.setControlGroupPIDParams(\"left_leg\",[50,50,50,50,20,10],[0,0,0,0,0,0],[0,0,0,0,0,0])\n",
    "hardware.setControlGroupPIDParams(\"right_leg\",[50,50,50,50,20,10],[0,0,0,0,0,0],[0,0,0,0,0,0])\n",
    "hardware.setControlGroupPIDParams(\"waist\",[60],[0],[0])\n",
    "hardware.setControlGroupPIDParams(\"head\",[20,20],[0,0],[0,0])\n",
    "hardware.setControlGroupPIDParams(\"right_manipulator\",[300,100,50,50,50,50,50],[0,0,0,0,0,0,0],[0,0,0,0,0,0,0])\n",
    "hardware.setControlGroupPIDParams(\"left_manipulator\",[300,100,50,50,50,50,50],[0,0,0,0,0,0,0],[0,0,0,0,0,0,0])"
   ]
  },
  {
   "cell_type": "code",
   "execution_count": 10,
   "id": "4e9e5daf-71ca-4748-8290-bc3d0e2df8b2",
   "metadata": {},
   "outputs": [
    {
     "name": "stdout",
     "output_type": "stream",
     "text": [
      "MOTOR: 192.168.137.93, ENABLE SUCCESS! \n",
      "MOTOR: 192.168.137.95, ENABLE SUCCESS! \n",
      "MOTOR: 192.168.137.70, ENABLE SUCCESS! \n",
      "MOTOR: 192.168.137.71, ENABLE SUCCESS! \n",
      "MOTOR: 192.168.137.72, ENABLE SUCCESS! \n",
      "MOTOR: 192.168.137.73, ENABLE SUCCESS! \n",
      "MOTOR: 192.168.137.75, ENABLE SUCCESS! \n",
      "MOTOR: 192.168.137.74, ENABLE SUCCESS! \n",
      "MOTOR: 192.168.137.10, ENABLE SUCCESS! \n",
      "MOTOR: 192.168.137.11, ENABLE SUCCESS! \n",
      "MOTOR: 192.168.137.12, ENABLE SUCCESS! \n",
      "MOTOR: 192.168.137.13, ENABLE SUCCESS! \n",
      "MOTOR: 192.168.137.14, ENABLE SUCCESS! \n",
      "MOTOR: 192.168.137.15, ENABLE SUCCESS! \n",
      "MOTOR: 192.168.137.16, ENABLE SUCCESS! \n",
      "MOTOR: 192.168.137.50, ENABLE SUCCESS! \n",
      "MOTOR: 192.168.137.51, ENABLE SUCCESS! \n",
      "MOTOR: 192.168.137.52, ENABLE SUCCESS! \n",
      "MOTOR: 192.168.137.53, ENABLE SUCCESS! \n",
      "MOTOR: 192.168.137.55, ENABLE SUCCESS! \n",
      "MOTOR: 192.168.137.54, ENABLE SUCCESS! \n",
      "MOTOR: 192.168.137.30, ENABLE SUCCESS! \n",
      "MOTOR: 192.168.137.31, ENABLE SUCCESS! \n",
      "MOTOR: 192.168.137.32, ENABLE SUCCESS! \n",
      "MOTOR: 192.168.137.33, ENABLE SUCCESS! \n",
      "MOTOR: 192.168.137.34, ENABLE SUCCESS! \n",
      "MOTOR: 192.168.137.35, ENABLE SUCCESS! \n",
      "MOTOR: 192.168.137.36, ENABLE SUCCESS! \n",
      "MOTOR: 192.168.137.90, ENABLE SUCCESS! \n"
     ]
    },
    {
     "data": {
      "text/plain": [
       "True"
      ]
     },
     "execution_count": 10,
     "metadata": {},
     "output_type": "execute_result"
    }
   ],
   "source": [
    "# 使能整个机器人\n",
    "hardware.enableRobot()"
   ]
  },
  {
   "cell_type": "code",
   "execution_count": 11,
   "id": "b15e6375-26eb-4216-966e-abb349b3e9ba",
   "metadata": {
    "scrolled": true
   },
   "outputs": [
    {
     "name": "stdout",
     "output_type": "stream",
     "text": [
      "left_manipulator: [ 0.          0.          0.          0.          0.          0.\n",
      "  0.         -0.00349039  0.00143703 -0.00019981  0.00528092  0.00020083\n",
      " -0.00170787  0.0003646 ]\n",
      "right_manipulator [ 0.          0.          0.          0.          0.          0.\n",
      "  0.         -0.00668046 -0.00477701 -0.00377041  0.08985603 -0.0103717\n",
      " -0.0046316  -0.01243471]\n"
     ]
    }
   ],
   "source": [
    "# 获取机器人当前状态下的对应控制组['waist', 'head', 'left_manipulator', 'right_manipulator', 'left_leg', 'right_leg']的关节qpos(rad),\n",
    "lm = hardware.getControlGroupState(\"left_manipulator\")\n",
    "rm = hardware.getControlGroupState(\"right_manipulator\")\n",
    "print(\"left_manipulator:\", lm.q)\n",
    "print(\"right_manipulator\", rm.q)"
   ]
  },
  {
   "cell_type": "code",
   "execution_count": 12,
   "id": "dcbfbd0b-e121-46d9-b8b1-279ff9b2e84b",
   "metadata": {
    "scrolled": true
   },
   "outputs": [],
   "source": [
    "# 生成机器人双臂关节从当前位置到零位的轨迹\n",
    "point_init = [-0.0, 0.0, 0.0, 0.0, 0.0, 0.0, 0.0]\n",
    "rm_traj = fourier_hardware_py.bridgeTrajectory(rm.q[-7:],point_init)\n",
    "lm_traj = fourier_hardware_py.bridgeTrajectory(lm.q[-7:],point_init)"
   ]
  },
  {
   "cell_type": "code",
   "execution_count": 13,
   "id": "473bbfbc-cab5-49b4-93fe-98878ac45f9f",
   "metadata": {
    "scrolled": true
   },
   "outputs": [],
   "source": [
    "# 执行回零轨迹，驱动右臂控制组关节回到零位\n",
    "import time\n",
    "\n",
    "for i in range(len(rm_traj[1])):\n",
    "    start_time = time.perf_counter()\n",
    "    # 获取机器人真机的状态信息\n",
    "    state = hardware.readRealRobotState()\n",
    "    # 由于机器人关节速度和关节加速度观测存在误差，且后续矩阵相乘带来延迟，所以这里不考虑科氏力和惯性力，只考虑重力（对state.qd和state.qdd置零）\n",
    "    state.qd = np.zeros((state.qd).size)\n",
    "    state.qdd = np.zeros((state.qdd).size)\n",
    "    # 计算机器人的关节重力补偿力矩，并通过PD的前馈补偿该部分力矩，提高控制精度\n",
    "    gravity_torque = robot.get_joint_compensation_torque(state.q,state.qd,state.qdd)\n",
    "    hardware.setControlGroupPosCmd(\"right_manipulator\",rm_traj[1][i],np.zeros(7),gravity_torque[group_joint_vel_order[\"right_manipulator\"]])\n",
    "    state = hardware.readRealRobotState()\n",
    "\n",
    "    end_time = time.perf_counter()\n",
    "    #计算控制循环的周期，保持控制频率的稳定\n",
    "    execution_time = (end_time - start_time)\n",
    "    if  execution_time < 1.0/400 :\n",
    "        time.sleep(0.0025-execution_time)\n",
    "    else:\n",
    "        print(\"control loop is slow\",execution_time)"
   ]
  },
  {
   "cell_type": "code",
   "execution_count": 14,
   "id": "af67a83f-2f08-4780-9ca6-b696f7ffb73d",
   "metadata": {
    "scrolled": true
   },
   "outputs": [],
   "source": [
    "# 驱动左臂控制组关节回到零位\n",
    "for i in range(len(lm_traj[1])):\n",
    "    start_time = time.perf_counter()\n",
    "    # 获取机器人真机的状态信息\n",
    "    \n",
    "    state = hardware.readRealRobotState()\n",
    "    # 由于机器人关节速度和关节加速度观测存在误差，且后续矩阵相乘带来延迟，所以这里不考虑科氏力和惯性力，只考虑重力（对state.qd和state.qdd置零）\n",
    "    state.qd = np.zeros((state.qd).size)\n",
    "    state.qdd = np.zeros((state.qdd).size)\n",
    "    # 计算机器人的关节重力补偿力矩，并通过PD的前馈补偿该部分力矩，提高控制精度\n",
    "    gravity_torque = robot.get_joint_compensation_torque(state.q,state.qd,state.qdd)\n",
    "    hardware.setControlGroupPosCmd(\"left_manipulator\",lm_traj[1][i],np.zeros(7),gravity_torque[group_joint_vel_order[\"left_manipulator\"]])\n",
    "    state = hardware.readRealRobotState()\n",
    "    \n",
    "    end_time = time.perf_counter()\n",
    "    #计算控制循环的周期，保持控制频率的稳定\n",
    "    execution_time = (end_time - start_time)\n",
    "    if  execution_time < 1.0/400 :\n",
    "        time.sleep(0.0025-execution_time)\n",
    "    else:\n",
    "        print(\"control loop is slow\",execution_time)"
   ]
  },
  {
   "cell_type": "code",
   "execution_count": 15,
   "id": "66a4915e-af39-4d22-833b-997e55848cfa",
   "metadata": {},
   "outputs": [
    {
     "name": "stdout",
     "output_type": "stream",
     "text": [
      "[0.         0.         0.         0.         0.         0.\n",
      " 0.         0.05787623]\n"
     ]
    }
   ],
   "source": [
    "# 生成机器人腰部关节从当前位置到零位的轨迹\n",
    "waist_point_init = [-0.0]\n",
    "waist_state = hardware.getControlGroupState(\"waist\")\n",
    "print(waist_state.q)\n",
    "waist_traj = fourier_hardware_py.bridgeTrajectory(waist_state.q[-1:], waist_point_init)"
   ]
  },
  {
   "cell_type": "code",
   "execution_count": 16,
   "id": "a6c8bb85-7ce8-48e8-a368-e26140e33468",
   "metadata": {},
   "outputs": [],
   "source": [
    "# 驱动腰部控制组关节回到零位\n",
    "for i in range(len(waist_traj[1])):\n",
    "    start_time = time.perf_counter()\n",
    "    # 获取机器人真机的状态信息\n",
    "    \n",
    "    state = hardware.readRealRobotState()\n",
    "    # 由于机器人关节速度和关节加速度观测存在误差，且后续矩阵相乘带来延迟，所以这里不考虑科氏力和惯性力，只考虑重力（对state.qd和state.qdd置零）\n",
    "    state.qd = np.zeros((state.qd).size)\n",
    "    state.qdd = np.zeros((state.qdd).size)\n",
    "    # 计算机器人的关节重力补偿力矩，并通过PD的前馈补偿该部分力矩，提高控制精度\n",
    "    gravity_torque = robot.get_joint_compensation_torque(state.q,state.qd,state.qdd)\n",
    "    hardware.setControlGroupPosCmd(\"waist\",waist_traj[1][i])\n",
    "    state = hardware.readRealRobotState()\n",
    "    \n",
    "    end_time = time.perf_counter()\n",
    "    #计算控制循环的周期，保持控制频率的稳定\n",
    "    execution_time = (end_time - start_time)\n",
    "    if  execution_time < 1.0/400 :\n",
    "        time.sleep(0.0025-execution_time)\n",
    "    else:\n",
    "        print(\"control loop is slow\",execution_time)"
   ]
  },
  {
   "cell_type": "code",
   "execution_count": 17,
   "id": "b468279e-971c-484d-a12a-2323cd7dd064",
   "metadata": {},
   "outputs": [
    {
     "name": "stdout",
     "output_type": "stream",
     "text": [
      "[ 0.          0.          0.          0.          0.          0.\n",
      "  0.         -0.07118839  0.08118156]\n"
     ]
    }
   ],
   "source": [
    "# 生成机器人头部关节从当前位置到零位的轨迹\n",
    "head_point_init = [0.0, 0.0]\n",
    "head_state = hardware.getControlGroupState(\"head\")\n",
    "print(head_state.q)\n",
    "head_traj = fourier_hardware_py.bridgeTrajectory(head_state.q[-2:], head_point_init)"
   ]
  },
  {
   "cell_type": "code",
   "execution_count": 18,
   "id": "9f6fb43e-9106-4f45-ba6c-a1e4a22c027b",
   "metadata": {},
   "outputs": [],
   "source": [
    "# 驱动头部控制组关节回到零位\n",
    "for i in range(len(head_traj[1])):\n",
    "    start_time = time.perf_counter()\n",
    "    # 获取机器人真机的状态信息\n",
    "    \n",
    "    state = hardware.readRealRobotState()\n",
    "    # 由于机器人关节速度和关节加速度观测存在误差，且后续矩阵相乘带来延迟，所以这里不考虑科氏力和惯性力，只考虑重力（对state.qd和state.qdd置零）\n",
    "    state.qd = np.zeros((state.qd).size)\n",
    "    state.qdd = np.zeros((state.qdd).size)\n",
    "    # 计算机器人的关节重力补偿力矩，并通过PD的前馈补偿该部分力矩，提高控制精度\n",
    "    gravity_torque = robot.get_joint_compensation_torque(state.q,state.qd,state.qdd)\n",
    "    hardware.setControlGroupPosCmd(\"head\",head_traj[1][i])\n",
    "    state = hardware.readRealRobotState()\n",
    "    \n",
    "    end_time = time.perf_counter()\n",
    "    #计算控制循环的周期，保持控制频率的稳定\n",
    "    execution_time = (end_time - start_time)\n",
    "    if  execution_time < 1.0/400 :\n",
    "        time.sleep(0.0025-execution_time)\n",
    "    else:\n",
    "        print(\"control loop is slow\",execution_time)"
   ]
  },
  {
   "cell_type": "code",
   "execution_count": 21,
   "id": "97e74e71-1040-47d7-b41b-a82155b32f70",
   "metadata": {},
   "outputs": [
    {
     "name": "stdout",
     "output_type": "stream",
     "text": [
      "[ 0.          0.          0.          0.          0.          0.\n",
      "  0.         -0.44437818  0.01144917  0.08791179  0.42361097 -0.29711867\n",
      " -0.01354484]\n"
     ]
    }
   ],
   "source": [
    "# 生成机器人腿部关节从当前位置到零位的轨迹\n",
    "left_leg_point_init = [0.0, 0.0,0.0,0.0, 0.0, 0.0]\n",
    "left_leg_state = hardware.getControlGroupState(\"left_leg\")\n",
    "print(left_leg_state.q)\n",
    "left_leg_traj = fourier_hardware_py.bridgeTrajectory(left_leg_state.q[-6:], left_leg_point_init)"
   ]
  },
  {
   "cell_type": "code",
   "execution_count": 22,
   "id": "b6ed7953-3d97-4c18-a889-b144b4969f0f",
   "metadata": {},
   "outputs": [],
   "source": [
    "# 驱动left leg控制组关节回到零位\n",
    "for i in range(len(left_leg_traj[1])):\n",
    "    start_time = time.perf_counter()\n",
    "    # 获取机器人真机的状态信息\n",
    "    \n",
    "    state = hardware.readRealRobotState()\n",
    "    # 由于机器人关节速度和关节加速度观测存在误差，且后续矩阵相乘带来延迟，所以这里不考虑科氏力和惯性力，只考虑重力（对state.qd和state.qdd置零）\n",
    "    state.qd = np.zeros((state.qd).size)\n",
    "    state.qdd = np.zeros((state.qdd).size)\n",
    "    # 计算机器人的关节重力补偿力矩，并通过PD的前馈补偿该部分力矩，提高控制精度\n",
    "    gravity_torque = robot.get_joint_compensation_torque(state.q,state.qd,state.qdd)\n",
    "    hardware.setControlGroupPosCmd(\"left_leg\",left_leg_traj[1][i])\n",
    "    state = hardware.readRealRobotState()\n",
    "    \n",
    "    end_time = time.perf_counter()\n",
    "    #计算控制循环的周期，保持控制频率的稳定\n",
    "    execution_time = (end_time - start_time)\n",
    "    if  execution_time < 1.0/400 :\n",
    "        time.sleep(0.0025-execution_time)\n",
    "    else:\n",
    "        print(\"control loop is slow\",execution_time)"
   ]
  },
  {
   "cell_type": "code",
   "execution_count": 23,
   "id": "00920fdc-0903-4624-a90f-ffddea2dc3a7",
   "metadata": {},
   "outputs": [
    {
     "name": "stdout",
     "output_type": "stream",
     "text": [
      "[ 0.          0.          0.          0.          0.          0.\n",
      "  0.         -0.37289606  0.03074731  0.14017145  0.37487368 -0.30617617\n",
      "  0.01289041]\n"
     ]
    }
   ],
   "source": [
    "# 生成机器人腿部关节从当前位置到零位的轨迹\n",
    "right_leg_point_init = [0.0, 0.0,0.0,0.0, 0.0, 0.0]\n",
    "right_leg_state = hardware.getControlGroupState(\"right_leg\")\n",
    "print(right_leg_state.q)\n",
    "right_leg_traj = fourier_hardware_py.bridgeTrajectory(right_leg_state.q[-6:], right_leg_point_init)"
   ]
  },
  {
   "cell_type": "code",
   "execution_count": 24,
   "id": "f5cf9b3c-acb7-452f-8b36-21c7c3ea26e5",
   "metadata": {},
   "outputs": [],
   "source": [
    "# 驱动left leg控制组关节回到零位\n",
    "for i in range(len(right_leg_traj[1])):\n",
    "    start_time = time.perf_counter()\n",
    "    # 获取机器人真机的状态信息\n",
    "    \n",
    "    state = hardware.readRealRobotState()\n",
    "    # 由于机器人关节速度和关节加速度观测存在误差，且后续矩阵相乘带来延迟，所以这里不考虑科氏力和惯性力，只考虑重力（对state.qd和state.qdd置零）\n",
    "    state.qd = np.zeros((state.qd).size)\n",
    "    state.qdd = np.zeros((state.qdd).size)\n",
    "    # 计算机器人的关节重力补偿力矩，并通过PD的前馈补偿该部分力矩，提高控制精度\n",
    "    gravity_torque = robot.get_joint_compensation_torque(state.q,state.qd,state.qdd)\n",
    "    hardware.setControlGroupPosCmd(\"right_leg\",right_leg_traj[1][i])\n",
    "    state = hardware.readRealRobotState()\n",
    "    \n",
    "    end_time = time.perf_counter()\n",
    "    #计算控制循环的周期，保持控制频率的稳定\n",
    "    execution_time = (end_time - start_time)\n",
    "    if  execution_time < 1.0/400 :\n",
    "        time.sleep(0.0025-execution_time)\n",
    "    else:\n",
    "        print(\"control loop is slow\",execution_time)"
   ]
  },
  {
   "cell_type": "code",
   "execution_count": 16,
   "id": "cc24b0b9-1969-43fa-b660-6f07c1c5d491",
   "metadata": {
    "scrolled": true
   },
   "outputs": [
    {
     "name": "stdout",
     "output_type": "stream",
     "text": [
      "[-3.10000365e-03 -4.84231530e-03  6.07732396e+02 -6.41495937e+00\n",
      "  1.90972705e+01  1.89363015e-03 -2.37918257e+00  1.22717004e+00\n",
      " -4.57144545e-01  4.16662888e+00  5.93708219e-03 -3.91233890e-01\n",
      "  1.66646919e+01 -1.20043858e+00 -3.56332761e-01  7.76378233e+00\n",
      " -1.49506666e-03 -9.35917836e-02  5.07350019e-04  3.98534162e-06\n",
      " -4.38111461e-01 -2.90889742e-01  1.36533127e-02 -9.92231193e-04\n",
      " -1.17515184e-01 -7.61478786e-04 -4.86104274e-02 -2.11125685e-03\n",
      " -2.95321962e-01 -1.96549986e-01  5.99203300e-04 -1.22503087e-01\n",
      "  2.26971335e-04 -5.00821472e-02 -1.85259033e-03]\n",
      "[-0.29088974  0.01365331 -0.00099223 -0.11751518 -0.00076148 -0.04861043\n",
      " -0.00211126]\n"
     ]
    }
   ],
   "source": [
    "# 计算机器人的关节重力补偿力矩，并通过PD的前馈补偿该部分力矩，提高控制精度\n",
    "gravity_torque = robot.get_joint_compensation_torque(state.q,state.qd,state.qdd)\n",
    "print(gravity_torque)\n",
    "print(gravity_torque[group_joint_vel_order[\"left_manipulator\"]])"
   ]
  },
  {
   "cell_type": "code",
   "execution_count": null,
   "id": "d4cb22ee-05f4-44de-9591-1ca7e31839f0",
   "metadata": {
    "scrolled": true
   },
   "outputs": [],
   "source": [
    "position_desired = np.zeros(17)  # deg\n",
    "ERROR_CODE = 50 #关节组报错的错误码\n",
    "\n",
    "# 设置循环频率的时间\n",
    "sim_dt = 0.0025\n",
    "sim_duration = 60.00\n",
    "sim_steps = int(sim_duration / sim_dt)\n",
    "\n",
    "for k in range(sim_steps):\n",
    "    start_time = time.perf_counter()\n",
    "    # current control\n",
    "    position_desired[0] = (15 * math.sin(0.0025 * k - math.pi / 2) + 15) # waist_yaw_joint\n",
    "\n",
    "    position_desired[1] = -(15 * math.sin(0.0025 * k)) # head_yaw_joint\n",
    "    position_desired[2] = -(15 * math.sin(0.0025 * k)) # head_pitch_joint\n",
    "    \n",
    "    position_desired[3] = -(40 * math.sin(0.0025 * k - math.pi / 2) + 40) # left_shoulder_pitch_joint\n",
    "    position_desired[4] = 40 * math.sin(0.0025 * k - math.pi / 2) + 40 # left_shoulder_roll_joint\n",
    "    position_desired[5] = -(40 * math.sin(0.0025 * k - math.pi / 2) + 40) # left_shoulder_yaw_joint\n",
    "    position_desired[6] = -(40 * math.sin(0.0025 * k - math.pi / 2) + 40) # left_elbow_pitch_joint\n",
    "    position_desired[7] = -(40 * math.sin(0.0025 * k - math.pi / 2) + 40) # left_wrist_yaw_joint\n",
    "    position_desired[8] = -(10 * math.sin(0.0025 * k)) # left_wrist_roll_joint\n",
    "    position_desired[9] = -(10 * math.sin(0.0025 * k)) # left_wrist_pitch_joint\n",
    "    \n",
    "    position_desired[10] = -(40 * math.sin(0.0025 * k - math.pi / 2) + 40) # right_shoulder_pitch_joint\n",
    "    position_desired[11] = -(40 * math.sin(0.0025 * k - math.pi / 2) + 40) # right_shoulder_roll_joint\n",
    "    position_desired[12] = 40 * math.sin(0.0025 * k - math.pi / 2) + 40 # right_shoulder_yaw_joint\n",
    "    position_desired[13] = -(40 * math.sin(0.0025 * k - math.pi / 2) + 40) # right_elbow_pitch_joint\n",
    "    position_desired[14] = 40 * math.sin(0.0025 * k - math.pi / 2) + 40 # right_wrist_yaw_joint\n",
    "    position_desired[15] = -(10 * math.sin(0.0025 * k)) # right_wrist_roll_joint\n",
    "    position_desired[16] =  -(10 * math.sin(0.0025 * k)) # right_wrist_pitch_joint\n",
    "\n",
    "    #将控制命令从关节角度转换为弧度\n",
    "    position_desired = np.deg2rad(position_desired)\n",
    "\n",
    "    # 返回一个字典，字典的key是control group 的名字，value是连续失去连接的次数（最大观测值是50），如果value等于50，代表该control group 失去连接\n",
    "    # 应该在程序控制周期内实时观测次值，保证程序运行的安全\n",
    "    motor_stats = hardware.getGroupsLoss()\n",
    "    #检查机器人真机的硬件状态，如果机器人使能后某个电机断连，将会切断控制循环命令，并答应错误信息。\n",
    "    if ERROR_CODE in motor_stats.values():\n",
    "        print(f\"motor get error.\")\n",
    "        break\n",
    "\n",
    "    # 获取机器人真机的状态信息\n",
    "    state = hardware.readRealRobotState()\n",
    "    # 由于机器人关节速度和关节加速度观测存在误差，且后续矩阵相乘带来延迟，所以这里不考虑科氏力和惯性力，只考虑重力（对state.qd和state.qdd置零）\n",
    "    state.qd = np.zeros((state.qd).size)\n",
    "    state.qdd = np.zeros((state.qdd).size)\n",
    "    # 计算机器人的关节重力补偿力矩，并通过PD的前馈补偿该部分力矩，提高控制精度\n",
    "    gravity_torque = robot.get_joint_compensation_torque(state.q,state.qd,state.qdd)\n",
    "    \n",
    "    # 针对双臂控制组进行控制，需要注意对应的输入：关节控制组、对应维度的关节位置信息、速度信息(设置为0)、前馈的力矩值\n",
    "    hardware.setControlGroupPosCmd(\"left_manipulator\",position_desired[3:10],np.zeros(7),gravity_torque[group_joint_vel_order[\"left_manipulator\"]])\n",
    "    hardware.setControlGroupPosCmd(\"right_manipulator\",position_desired[10:17],np.zeros(7),gravity_torque[group_joint_vel_order[\"right_manipulator\"]])\n",
    "    hardware.setControlGroupPosCmd(\"waist\", np.array([position_desired[0]]))\n",
    "    hardware.setControlGroupPosCmd(\"head\", position_desired[1:3])\n",
    "    \n",
    "    end_time = time.perf_counter()\n",
    "    #计算控制循环的周期，保持控制频率的稳定\n",
    "    execution_time = (end_time - start_time)\n",
    "    if  execution_time < 1.0/400 :\n",
    "        time.sleep(0.0025-execution_time)\n",
    "    else:\n",
    "        print(\"control loop is slow\",execution_time)\n"
   ]
  },
  {
   "cell_type": "code",
   "execution_count": 14,
   "id": "f73bc0d7-a7c7-4374-a1bc-f99a8d6f15bd",
   "metadata": {},
   "outputs": [
    {
     "name": "stdout",
     "output_type": "stream",
     "text": [
      "MOTOR: 192.168.137.93, DISABLE SUCCESS! \n"
     ]
    },
    {
     "data": {
      "text/plain": [
       "True"
      ]
     },
     "execution_count": 14,
     "metadata": {},
     "output_type": "execute_result"
    },
    {
     "name": "stdout",
     "output_type": "stream",
     "text": [
      "MOTOR: 192.168.137.95, DISABLE SUCCESS! \n",
      "MOTOR: 192.168.137.10, DISABLE SUCCESS! \n",
      "MOTOR: 192.168.137.11, DISABLE SUCCESS! \n",
      "MOTOR: 192.168.137.12, DISABLE SUCCESS! \n",
      "MOTOR: 192.168.137.13, DISABLE SUCCESS! \n",
      "MOTOR: 192.168.137.14, DISABLE SUCCESS! \n",
      "MOTOR: 192.168.137.15, DISABLE SUCCESS! \n",
      "MOTOR: 192.168.137.16, DISABLE SUCCESS! \n",
      "MOTOR: 192.168.137.30, DISABLE SUCCESS! \n",
      "MOTOR: 192.168.137.31, DISABLE SUCCESS! \n",
      "MOTOR: 192.168.137.32, DISABLE SUCCESS! \n",
      "MOTOR: 192.168.137.33, DISABLE SUCCESS! \n",
      "MOTOR: 192.168.137.34, DISABLE SUCCESS! \n",
      "MOTOR: 192.168.137.35, DISABLE SUCCESS! \n",
      "MOTOR: 192.168.137.36, DISABLE SUCCESS! \n",
      "MOTOR: 192.168.137.90, DISABLE SUCCESS! \n",
      "[2025-02-28 09:55:32] [12182] [error] head loss message more than 50 times .\n",
      "[2025-02-28 09:55:32] [12182] [error] left_manipulator loss message more than 50 times .\n",
      "[2025-02-28 09:55:32] [12182] [error] right_manipulator loss message more than 50 times .\n",
      "[2025-02-28 09:55:33] [12182] [error] head loss message more than 50 times .\n",
      "[2025-02-28 09:55:33] [12182] [error] left_manipulator loss message more than 50 times .\n",
      "[2025-02-28 09:55:33] [12182] [error] right_manipulator loss message more than 50 times .\n",
      "[2025-02-28 09:55:34] [12182] [error] head loss message more than 50 times .\n",
      "[2025-02-28 09:55:34] [12182] [error] left_manipulator loss message more than 50 times .\n",
      "[2025-02-28 09:55:34] [12182] [error] right_manipulator loss message more than 50 times .\n",
      "[2025-02-28 09:55:35] [12182] [error] head loss message more than 50 times .\n",
      "[2025-02-28 09:55:35] [12182] [error] left_manipulator loss message more than 50 times .\n",
      "[2025-02-28 09:55:35] [12182] [error] right_manipulator loss message more than 50 times .\n",
      "[2025-02-28 09:55:37] [12182] [error] head loss message more than 50 times .\n",
      "[2025-02-28 09:55:37] [12182] [error] left_manipulator loss message more than 50 times .\n",
      "[2025-02-28 09:55:37] [12182] [error] right_manipulator loss message more than 50 times .\n",
      "[2025-02-28 09:56:54] [12182] [error] left_manipulator loss message more than 50 times .\n",
      "[2025-02-28 09:56:54] [12182] [error] right_manipulator loss message more than 50 times .\n",
      "[2025-02-28 09:56:55] [12182] [error] left_manipulator loss message more than 50 times .\n",
      "[2025-02-28 09:56:55] [12182] [error] right_manipulator loss message more than 50 times .\n",
      "[2025-02-28 09:56:57] [12182] [error] head loss message more than 50 times .\n",
      "[2025-02-28 09:56:57] [12182] [error] left_manipulator loss message more than 50 times .\n",
      "[2025-02-28 09:56:57] [12182] [error] right_manipulator loss message more than 50 times .\n",
      "[2025-02-28 09:56:57] [12182] [error] waist loss message more than 50 times .\n",
      "[2025-02-28 09:56:58] [12182] [error] head loss message more than 50 times .\n",
      "[2025-02-28 09:56:58] [12182] [error] left_manipulator loss message more than 50 times .\n",
      "[2025-02-28 09:56:58] [12182] [error] right_manipulator loss message more than 50 times .\n",
      "[2025-02-28 09:56:58] [12182] [error] waist loss message more than 50 times .\n",
      "[2025-02-28 09:56:59] [12182] [error] head loss message more than 50 times .\n",
      "[2025-02-28 09:56:59] [12182] [error] left_manipulator loss message more than 50 times .\n",
      "[2025-02-28 09:56:59] [12182] [error] right_manipulator loss message more than 50 times .\n",
      "[2025-02-28 09:56:59] [12182] [error] waist loss message more than 50 times .\n",
      "[2025-02-28 09:57:00] [12182] [error] head loss message more than 50 times .\n",
      "[2025-02-28 09:57:00] [12182] [error] left_manipulator loss message more than 50 times .\n",
      "[2025-02-28 09:57:00] [12182] [error] right_manipulator loss message more than 50 times .\n",
      "[2025-02-28 09:57:00] [12182] [error] waist loss message more than 50 times .\n",
      "[2025-02-28 09:57:01] [12182] [error] head loss message more than 50 times .\n",
      "[2025-02-28 09:57:01] [12182] [error] left_manipulator loss message more than 50 times .\n",
      "[2025-02-28 09:57:01] [12182] [error] right_manipulator loss message more than 50 times .\n",
      "[2025-02-28 09:57:01] [12182] [error] waist loss message more than 50 times .\n",
      "[2025-02-28 09:57:02] [12182] [error] head loss message more than 50 times .\n",
      "[2025-02-28 09:57:02] [12182] [error] left_manipulator loss message more than 50 times .\n",
      "[2025-02-28 09:57:02] [12182] [error] right_manipulator loss message more than 50 times .\n",
      "[2025-02-28 09:57:02] [12182] [error] waist loss message more than 50 times .\n",
      "[2025-02-28 09:57:03] [12182] [error] head loss message more than 50 times .\n",
      "[2025-02-28 09:57:03] [12182] [error] left_manipulator loss message more than 50 times .\n",
      "[2025-02-28 09:57:03] [12182] [error] right_manipulator loss message more than 50 times .\n",
      "[2025-02-28 09:57:03] [12182] [error] waist loss message more than 50 times .\n",
      "[2025-02-28 09:57:04] [12182] [error] head loss message more than 50 times .\n",
      "[2025-02-28 09:57:04] [12182] [error] left_manipulator loss message more than 50 times .\n",
      "[2025-02-28 09:57:04] [12182] [error] right_manipulator loss message more than 50 times .\n",
      "[2025-02-28 09:57:04] [12182] [error] waist loss message more than 50 times .\n"
     ]
    }
   ],
   "source": [
    "hardware.disableRobot()"
   ]
  },
  {
   "cell_type": "code",
   "execution_count": null,
   "id": "52c6c8fc-57f2-4da2-b9db-ecbf0f737433",
   "metadata": {},
   "outputs": [],
   "source": []
  }
 ],
 "metadata": {
  "kernelspec": {
   "display_name": "Python 3 (ipykernel)",
   "language": "python",
   "name": "python3"
  },
  "language_info": {
   "codemirror_mode": {
    "name": "ipython",
    "version": 3
   },
   "file_extension": ".py",
   "mimetype": "text/x-python",
   "name": "python",
   "nbconvert_exporter": "python",
   "pygments_lexer": "ipython3",
   "version": "3.10.12"
  }
 },
 "nbformat": 4,
 "nbformat_minor": 5
}
