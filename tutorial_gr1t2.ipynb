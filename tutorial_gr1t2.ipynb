{
 "cells": [
  {
   "cell_type": "code",
   "execution_count": 1,
   "id": "a9779aeb-21df-4206-9d38-51fb17121cb2",
   "metadata": {
    "scrolled": true
   },
   "outputs": [],
   "source": [
    "# 1. 请先使用上位机升级机器人电机通信固件版本到0.3.12.25 以上，驱动固件版本升级到0.2.10.26 以上 详细使用请参考上位机使用说明\n",
    "# 2. 请使用上位机对机器人零位进行标定（无绝编则不用）\n",
    "# 3. 请使用上位机调整机器人GR1T2电机pd参数（注意不是pid参数），\n",
    "#    参考值：上肢电机10-14/30-34电机 p：200，d：15;\n",
    "#           上肢电机15-16/35-36电机 p：100，d:10;\n",
    "#           腰部电机90              p:300，d:18;\n",
    "#           腰部电机91-92            p:500, d:20。\n",
    "#           头部电机93-95            p:40, d:0\n",
    "#           腿部电机50-53/70-73电机 p:100,d:10;\n",
    "#           脚踝电机54-55/74-75电机 p:100,d:10;\n",
    "#    可以根据软硬自己调节,腕关节可以小一点\n",
    "# 4. 请使用指定的docker镜像进行开发，镜像名为fourier_hardware:latest，请使用开源仓库中的docker启动脚本启动docker\n",
    "# 5. 注意 t2 头部请在上电之前放在中心位置"
   ]
  },
  {
   "cell_type": "code",
   "execution_count": 2,
   "id": "797ec122-b93d-413c-8ece-52c0e96bd38f",
   "metadata": {
    "scrolled": true
   },
   "outputs": [],
   "source": [
    "# fourier_hardware_py 用于对机器人进行分组控制\n",
    "import fourier_hardware_py\n",
    "# grx_sot_py 用于对机器人进行运动学，动力学求解\n",
    "import grx_sot_py\n",
    "import numpy as np\n",
    "from dataclasses import dataclass, field\n",
    "import pickle\n",
    "import time\n",
    "import math"
   ]
  },
  {
   "cell_type": "code",
   "execution_count": 3,
   "id": "5671e940-8c70-4eb2-a527-b393d2a07765",
   "metadata": {},
   "outputs": [],
   "source": [
    "# 加载对应机型的config配置文件\n",
    "config = fourier_hardware_py.HardwareConfigHelper(\"/usr/local/config/fourier_hardware/gr1t2\")"
   ]
  },
  {
   "cell_type": "code",
   "execution_count": 4,
   "id": "a593de43-c59c-4be9-af31-d7c69b052b97",
   "metadata": {},
   "outputs": [
    {
     "data": {
      "text/plain": [
       "True"
      ]
     },
     "execution_count": 4,
     "metadata": {},
     "output_type": "execute_result"
    }
   ],
   "source": [
    "# 配置各控制组的控制模式为PD模式，并忽略下肢控制的运动\n",
    "config.changeControlGroupMotorMode(\"left_manipulator\",\"pd\")\n",
    "config.changeControlGroupMotorMode(\"right_manipulator\",\"pd\")\n",
    "config.changeControlGroupMotorMode(\"left_wrist\",\"pd\")\n",
    "config.changeControlGroupMotorMode(\"right_wrist\",\"pd\")\n",
    "config.changeControlGroupMotorMode(\"head\", \"pd\")\n",
    "config.changeControlGroupMotorMode(\"head_direct\", \"pd\")\n",
    "config.changeControlGroupMotorMode(\"waist\",\"pd\")\n",
    "config.changeControlGroupMotorMode(\"left_leg\",\"pd\")\n",
    "config.changeControlGroupMotorMode(\"right_leg\",\"pd\")\n",
    "config.changeControlGroupMotorMode(\"left_ankle\",\"pd\")\n",
    "config.changeControlGroupMotorMode(\"right_ankle\",\"pd\")"
   ]
  },
  {
   "cell_type": "code",
   "execution_count": 5,
   "id": "72e2e127-9983-43f7-98e7-c827da274979",
   "metadata": {},
   "outputs": [
    {
     "name": "stdout",
     "output_type": "stream",
     "text": [
      "FSA(192.168.137.93): FSA subscribe port 2336 is connected to local port: 47149\n",
      "FSA(192.168.137.94): FSA subscribe port 2336 is connected to local port: 35752\n",
      "FSA(192.168.137.95): FSA subscribe port 2336 is connected to local port: 50820\n",
      "FSA(192.168.137.74): FSA subscribe port 2336 is connected to local port: 50601\n",
      "FSA(192.168.137.75): FSA subscribe port 2336 is connected to local port: 42938\n",
      "FSA(192.168.137.70): FSA subscribe port 2336 is connected to local port: 38764\n",
      "FSA(192.168.137.71): FSA subscribe port 2336 is connected to local port: 37348\n",
      "FSA(192.168.137.72): FSA subscribe port 2336 is connected to local port: 36906\n",
      "FSA(192.168.137.73): FSA subscribe port 2336 is connected to local port: 40026\n",
      "FSA(192.168.137.10): FSA subscribe port 2336 is connected to local port: 57199\n",
      "FSA(192.168.137.11): FSA subscribe port 2336 is connected to local port: 54077\n",
      "FSA(192.168.137.12): FSA subscribe port 2336 is connected to local port: 36577\n",
      "FSA(192.168.137.13): FSA subscribe port 2336 is connected to local port: 49136\n",
      "FSA(192.168.137.14): FSA subscribe port 2336 is connected to local port: 54790\n",
      "FSA(192.168.137.15): FSA subscribe port 2336 is connected to local port: 49288\n",
      "FSA(192.168.137.16): FSA subscribe port 2336 is connected to local port: 49170\n",
      "FSA(192.168.137.54): FSA subscribe port 2336 is connected to local port: 48391\n",
      "FSA(192.168.137.55): FSA subscribe port 2336 is connected to local port: 44284\n",
      "FSA(192.168.137.50): FSA subscribe port 2336 is connected to local port: 50815\n",
      "FSA(192.168.137.51): FSA subscribe port 2336 is connected to local port: 49574\n",
      "FSA(192.168.137.52): FSA subscribe port 2336 is connected to local port: 38926\n",
      "FSA(192.168.137.53): FSA subscribe port 2336 is connected to local port: 54827\n",
      "FSA(192.168.137.30): FSA subscribe port 2336 is connected to local port: 40410\n",
      "FSA(192.168.137.31): FSA subscribe port 2336 is connected to local port: 38098\n",
      "FSA(192.168.137.32): FSA subscribe port 2336 is connected to local port: 54138\n",
      "FSA(192.168.137.33): FSA subscribe port 2336 is connected to local port: 48454\n",
      "FSA(192.168.137.34): FSA subscribe port 2336 is connected to local port: 60988\n",
      "FSA(192.168.137.35): FSA subscribe port 2336 is connected to local port: 43666\n",
      "FSA(192.168.137.36): FSA subscribe port 2336 is connected to local port: 43529\n",
      "FSA(192.168.137.90): FSA subscribe port 2336 is connected to local port: 56484\n",
      "FSA(192.168.137.91): FSA subscribe port 2336 is connected to local port: 59340\n",
      "FSA(192.168.137.92): FSA subscribe port 2336 is connected to local port: 33949\n",
      "[2025-05-20 19:31:29] [9873] [error] 192.168.137.52 Get subscribe data failed with code: -302\n",
      "[2025-05-20 19:31:29] [9873] [error] 192.168.137.53 Get subscribe data failed with code: -302\n",
      "[2025-05-20 19:31:29] [9873] [error] 192.168.137.30 Get subscribe data failed with code: -302\n",
      "[2025-05-20 19:31:29] [9873] [error] 192.168.137.31 Get subscribe data failed with code: -302\n",
      "[2025-05-20 19:31:29] [9873] [error] 192.168.137.32 Get subscribe data failed with code: -302\n",
      "[2025-05-20 19:31:29] [9873] [error] 192.168.137.33 Get subscribe data failed with code: -302\n",
      "[2025-05-20 19:31:29] [9873] [error] 192.168.137.34 Get subscribe data failed with code: -302\n",
      "[2025-05-20 19:31:29] [9873] [error] 192.168.137.36 Get subscribe data failed with code: -302\n",
      "[2025-05-20 19:31:29] [9873] [error] 192.168.137.90 Get subscribe data failed with code: -302\n",
      "[2025-05-20 19:31:29] [9873] [error] 192.168.137.92 Get subscribe data failed with code: -302\n"
     ]
    }
   ],
   "source": [
    "hardware = fourier_hardware_py.FourierHardware(\"/usr/local/config/fourier_hardware/gr1t2\",config)"
   ]
  },
  {
   "cell_type": "code",
   "execution_count": 6,
   "id": "46e5e25b-c8e2-45cb-bafd-0e71d0282b2d",
   "metadata": {},
   "outputs": [
    {
     "name": "stdout",
     "output_type": "stream",
     "text": [
      "gr1t2\n",
      "['head', 'head_direct', 'waist', 'left_manipulator', 'right_manipulator', 'left_wrist', 'right_wrist', 'left_leg', 'right_leg', 'left_ankle', 'right_ankle']\n",
      "{'head': [22, 23], 'head_direct': [24], 'waist': [19, 20, 21], 'left_manipulator': [25, 26, 27, 28, 29], 'right_manipulator': [32, 33, 34, 35, 36], 'left_wrist': [30, 31], 'right_wrist': [37, 38], 'left_leg': [7, 8, 9, 10], 'right_leg': [13, 14, 15, 16], 'left_ankle': [11, 12], 'right_ankle': [17, 18]}\n",
      "{'head': [21, 22], 'head_direct': [23], 'waist': [18, 19, 20], 'left_manipulator': [24, 25, 26, 27, 28], 'right_manipulator': [31, 32, 33, 34, 35], 'left_wrist': [29, 30], 'right_wrist': [36, 37], 'left_leg': [6, 7, 8, 9], 'right_leg': [12, 13, 14, 15], 'left_ankle': [10, 11], 'right_ankle': [16, 17]}\n",
      "[2025-05-20 19:31:35] [9873] [error] 192.168.137.32 Get subscribe data failed with code: -302\n"
     ]
    }
   ],
   "source": [
    "robot = grx_sot_py.RobotWrapper(\"/usr/local/config/fourier_hardware/gr1t2\", grx_sot_py.Flags.ignore_collisions)\n",
    "# 定义机器人对应的控制组和与控制组匹配的关节顺序，输出对应的字典信息\n",
    "group_names = []\n",
    "group_joints = []\n",
    "group_joints_pos_order = {}\n",
    "group_joints_vel_order = {}\n",
    "\n",
    "for group_name in config.getControlGroupNames():\n",
    "    if config.getControlGroupMotorMode(group_name)== \"ignore\":\n",
    "        continue\n",
    "    group_names.append(group_name)\n",
    "    robot_joint_names = hardware.getControlGroupJointNames(group_name)\n",
    "    group_joints.append(robot_joint_names)\n",
    "    joint_pos_orders = []\n",
    "    joint_vel_orders = []\n",
    "    for robot_joint_name in robot_joint_names:\n",
    "        joint_pos_orders.append(robot.get_joint_offset(robot_joint_name))\n",
    "        joint_vel_orders.append(robot.get_joint_v_offset(robot_joint_name))\n",
    "    group_joints_pos_order[group_name]= joint_pos_orders\n",
    "    group_joints_vel_order[group_name] = joint_vel_orders\n",
    "print(config.getRobotName())\n",
    "print(config.getControlGroupNames())\n",
    "print(group_joints_pos_order)\n",
    "print(group_joints_vel_order)"
   ]
  },
  {
   "cell_type": "markdown",
   "id": "1364b7bd-63af-4478-a547-ca17f7860e57",
   "metadata": {},
   "source": [
    "## 对head control group 进行测试"
   ]
  },
  {
   "cell_type": "code",
   "execution_count": 7,
   "id": "4cfbcabd-e078-4598-8b7a-26a6251eb4ba",
   "metadata": {},
   "outputs": [
    {
     "data": {
      "text/plain": [
       "True"
      ]
     },
     "execution_count": 7,
     "metadata": {},
     "output_type": "execute_result"
    }
   ],
   "source": [
    "hardware.setControlGroupPIDParams(\"head\",[40,40],[0,0],[0,0])"
   ]
  },
  {
   "cell_type": "code",
   "execution_count": 8,
   "id": "d1822038-d091-4dd9-81c0-f05fe81f232d",
   "metadata": {},
   "outputs": [
    {
     "name": "stdout",
     "output_type": "stream",
     "text": [
      "[2025-05-20 19:31:38] [9873] [error] 192.168.137.93 Get subscribe data failed with code: -302\n",
      "[2025-05-20 19:31:38] [9873] [error] 192.168.137.94 Get subscribe data failed with code: -302\n",
      "[2025-05-20 19:31:38] [9873] [error] 192.168.137.74 Get subscribe data failed with code: -302\n",
      "[2025-05-20 19:31:38] [9873] [error] 192.168.137.75 Get subscribe data failed with code: -302\n",
      "[2025-05-20 19:31:38] [9873] [error] 192.168.137.70 Get subscribe data failed with code: -302\n",
      "[2025-05-20 19:31:38] [9873] [error] 192.168.137.71 Get subscribe data failed with code: -302\n",
      "[2025-05-20 19:31:38] [9873] [error] 192.168.137.10 Get subscribe data failed with code: -302\n",
      "[2025-05-20 19:31:38] [9873] [error] 192.168.137.11 Get subscribe data failed with code: -302\n",
      "[2025-05-20 19:31:38] [9873] [error] 192.168.137.12 Get subscribe data failed with code: -302\n",
      "[2025-05-20 19:31:38] [9873] [error] 192.168.137.13 Get subscribe data failed with code: -302\n",
      "[2025-05-20 19:31:38] [9873] [error] 192.168.137.14 Get subscribe data failed with code: -302\n",
      "[2025-05-20 19:31:38] [9873] [error] 192.168.137.15 Get subscribe data failed with code: -302\n",
      "[2025-05-20 19:31:38] [9873] [error] 192.168.137.54 Get subscribe data failed with code: -302\n",
      "[2025-05-20 19:31:38] [9873] [error] 192.168.137.55 Get subscribe data failed with code: -302\n",
      "[2025-05-20 19:31:38] [9873] [error] 192.168.137.50 Get subscribe data failed with code: -302\n",
      "[2025-05-20 19:31:38] [9873] [error] 192.168.137.51 Get subscribe data failed with code: -302\n",
      "[2025-05-20 19:31:38] [9873] [error] 192.168.137.53 Get subscribe data failed with code: -302\n",
      "[2025-05-20 19:31:38] [9873] [error] 192.168.137.30 Get subscribe data failed with code: -302\n",
      "[2025-05-20 19:31:38] [9873] [error] 192.168.137.32 Get subscribe data failed with code: -302\n",
      "[2025-05-20 19:31:38] [9873] [error] 192.168.137.33 Get subscribe data failed with code: -302\n",
      "[2025-05-20 19:31:38] [9873] [error] 192.168.137.34 Get subscribe data failed with code: -302\n",
      "[2025-05-20 19:31:38] [9873] [error] 192.168.137.35 Get subscribe data failed with code: -302\n",
      "[2025-05-20 19:31:38] [9873] [error] 192.168.137.90 Get subscribe data failed with code: -302\n",
      "[2025-05-20 19:31:38] [9873] [error] 192.168.137.91 Get subscribe data failed with code: -302\n"
     ]
    },
    {
     "data": {
      "text/plain": [
       "True"
      ]
     },
     "execution_count": 8,
     "metadata": {},
     "output_type": "execute_result"
    }
   ],
   "source": [
    "hardware.enableControlGroup(\"head\")"
   ]
  },
  {
   "cell_type": "code",
   "execution_count": 9,
   "id": "e3223b3f-588c-4ad8-be50-5cad43b2048f",
   "metadata": {},
   "outputs": [],
   "source": [
    "# 生成机器人头部关节从标定位置到urdf零位的轨迹\n",
    "head_point_init = [-0.0, 0.]\n",
    "head_state = hardware.getControlGroupState(\"head\")\n",
    "head_traj = fourier_hardware_py.bridgeTrajectory(head_state.q[-2:], head_point_init)\n",
    "# 驱动头部控制组关节回到urdf零位\n",
    "for i in range(len(head_traj[1])):\n",
    "    start_time = time.perf_counter()\n",
    "    hardware.setControlGroupPosCmd(\"head\",head_traj[1][i])\n",
    "    end_time = time.perf_counter()\n",
    "    #计算控制循环的周期，保持控制频率的稳定\n",
    "    execution_time = (end_time - start_time)\n",
    "    if  execution_time < 1.0/500 :\n",
    "        time.sleep(0.002-execution_time)\n",
    "    else:\n",
    "        print(\"control loop is slow\",execution_time)"
   ]
  },
  {
   "cell_type": "markdown",
   "id": "eae0eb58-0f89-40cb-a4c6-03ed503b9f78",
   "metadata": {},
   "source": [
    "## 对head_direct control group 进行测试"
   ]
  },
  {
   "cell_type": "code",
   "execution_count": 10,
   "id": "e7e55c54-16e8-4b13-a1f1-d9eb1425a1b1",
   "metadata": {},
   "outputs": [
    {
     "data": {
      "text/plain": [
       "True"
      ]
     },
     "execution_count": 10,
     "metadata": {},
     "output_type": "execute_result"
    }
   ],
   "source": [
    "hardware.setControlGroupPIDParams(\"head_direct\",[40],[0],[0])"
   ]
  },
  {
   "cell_type": "code",
   "execution_count": 11,
   "id": "322bb695-d84e-4455-9c69-e10b15d546f9",
   "metadata": {},
   "outputs": [
    {
     "data": {
      "text/plain": [
       "True"
      ]
     },
     "execution_count": 11,
     "metadata": {},
     "output_type": "execute_result"
    }
   ],
   "source": [
    "hardware.enableControlGroup(\"head_direct\")"
   ]
  },
  {
   "cell_type": "code",
   "execution_count": 12,
   "id": "9164b8bc-a4e9-456d-88f8-f5e6e9101c9a",
   "metadata": {},
   "outputs": [],
   "source": [
    "head_direct_point_init = [0.0]\n",
    "head_direct_state = hardware.getControlGroupState(\"head_direct\")\n",
    "head_direct_traj = fourier_hardware_py.bridgeTrajectory(head_direct_state.q[-1:], head_direct_point_init)\n",
    "for i in range(len(head_direct_traj[1])):\n",
    "    start_time = time.perf_counter()\n",
    "    hardware.setControlGroupPosCmd(\"head_direct\",head_direct_traj[1][i])\n",
    "    end_time = time.perf_counter()\n",
    "    #计算控制循环的周期，保持控制频率的稳定\n",
    "    execution_time = (end_time - start_time)\n",
    "    if  execution_time < 1.0/500 :\n",
    "        time.sleep(0.002-execution_time)\n",
    "    else:\n",
    "        print(\"control loop is slow\",execution_time)"
   ]
  },
  {
   "cell_type": "code",
   "execution_count": 13,
   "id": "3d26cb72-fcc1-416f-a9be-5f6317e7d71c",
   "metadata": {},
   "outputs": [
    {
     "data": {
      "text/plain": [
       "True"
      ]
     },
     "execution_count": 13,
     "metadata": {},
     "output_type": "execute_result"
    }
   ],
   "source": [
    "hardware.setControlGroupPIDParams(\"left_wrist\",[40,40],[0,0],[0,0])"
   ]
  },
  {
   "cell_type": "markdown",
   "id": "0ae9cb54-e76f-4982-8c7a-ce73f51cc7a1",
   "metadata": {},
   "source": [
    "## 对left wrist control group 进行测试"
   ]
  },
  {
   "cell_type": "code",
   "execution_count": 14,
   "id": "e9936884-a310-4fa4-b144-83f748d59633",
   "metadata": {},
   "outputs": [
    {
     "name": "stdout",
     "output_type": "stream",
     "text": [
      "[2025-05-20 19:31:48] [9873] [error] 192.168.137.16 Get subscribe data failed with code: -302\n"
     ]
    },
    {
     "data": {
      "text/plain": [
       "True"
      ]
     },
     "execution_count": 14,
     "metadata": {},
     "output_type": "execute_result"
    },
    {
     "name": "stdout",
     "output_type": "stream",
     "text": [
      "[2025-05-20 19:31:48] [9873] [error] 192.168.137.50 Get subscribe data failed with code: -302\n",
      "[2025-05-20 19:31:48] [9873] [error] 192.168.137.51 Get subscribe data failed with code: -302\n",
      "[2025-05-20 19:31:48] [9873] [error] 192.168.137.52 Get subscribe data failed with code: -302\n",
      "[2025-05-20 19:31:48] [9873] [error] 192.168.137.53 Get subscribe data failed with code: -302\n",
      "[2025-05-20 19:31:48] [9873] [error] 192.168.137.30 Get subscribe data failed with code: -302\n",
      "[2025-05-20 19:31:48] [9873] [error] 192.168.137.31 Get subscribe data failed with code: -302\n",
      "[2025-05-20 19:31:48] [9873] [error] 192.168.137.32 Get subscribe data failed with code: -302\n",
      "[2025-05-20 19:31:48] [9873] [error] 192.168.137.33 Get subscribe data failed with code: -302\n",
      "[2025-05-20 19:31:48] [9873] [error] 192.168.137.34 Get subscribe data failed with code: -302\n",
      "[2025-05-20 19:31:48] [9873] [error] 192.168.137.35 Get subscribe data failed with code: -302\n",
      "[2025-05-20 19:31:48] [9873] [error] 192.168.137.36 Get subscribe data failed with code: -302\n",
      "[2025-05-20 19:31:48] [9873] [error] 192.168.137.90 Get subscribe data failed with code: -302\n",
      "[2025-05-20 19:31:48] [9873] [error] 192.168.137.92 Get subscribe data failed with code: -302\n"
     ]
    }
   ],
   "source": [
    "hardware.enableControlGroup(\"left_wrist\")"
   ]
  },
  {
   "cell_type": "code",
   "execution_count": 15,
   "id": "bfdb6d6a-d185-430a-9544-d14221a73d21",
   "metadata": {},
   "outputs": [],
   "source": [
    "left_wrist_point_init = [-0.0, 0.0]\n",
    "left_wrist_state = hardware.getControlGroupState(\"left_wrist\")\n",
    "left_wrist_traj = fourier_hardware_py.bridgeTrajectory(left_wrist_state.q[-2:], left_wrist_point_init)\n",
    "for i in range(len(left_wrist_traj[1])):\n",
    "    start_time = time.perf_counter()\n",
    "    hardware.setControlGroupPosCmd(\"left_wrist\",left_wrist_traj[1][i])\n",
    "    end_time = time.perf_counter()\n",
    "    #计算控制循环的周期，保持控制频率的稳定\n",
    "    execution_time = (end_time - start_time)\n",
    "    if  execution_time < 1.0/500 :\n",
    "        time.sleep(0.002-execution_time)\n",
    "    else:\n",
    "        print(\"control loop is slow\",execution_time)"
   ]
  },
  {
   "cell_type": "code",
   "execution_count": 16,
   "id": "15a61c83-4da4-4f09-858b-78df9f94fd9e",
   "metadata": {},
   "outputs": [
    {
     "data": {
      "text/plain": [
       "True"
      ]
     },
     "execution_count": 16,
     "metadata": {},
     "output_type": "execute_result"
    }
   ],
   "source": [
    "hardware.setControlGroupPIDParams(\"right_wrist\",[40,40],[0,0],[0,0])"
   ]
  },
  {
   "cell_type": "markdown",
   "id": "217e5d9b-5c53-4dfb-915a-224b9027b703",
   "metadata": {},
   "source": [
    "## 对right wrist control group 进行测试"
   ]
  },
  {
   "cell_type": "code",
   "execution_count": 17,
   "id": "1cd8deb7-2182-4770-a35a-38d27618e705",
   "metadata": {},
   "outputs": [
    {
     "name": "stdout",
     "output_type": "stream",
     "text": [
      "[2025-05-20 19:31:52] [9873] [error] 192.168.137.36 Get subscribe data failed with code: -302\n",
      "[2025-05-20 19:31:52] [9873] [error] 192.168.137.90 Get subscribe data failed with code: -302\n"
     ]
    },
    {
     "data": {
      "text/plain": [
       "True"
      ]
     },
     "execution_count": 17,
     "metadata": {},
     "output_type": "execute_result"
    },
    {
     "name": "stdout",
     "output_type": "stream",
     "text": [
      "[2025-05-20 19:31:52] [9873] [error] 192.168.137.92 Get subscribe data failed with code: -302\n"
     ]
    }
   ],
   "source": [
    "hardware.enableControlGroup(\"right_wrist\")"
   ]
  },
  {
   "cell_type": "code",
   "execution_count": 18,
   "id": "0ecce82a-c70d-4173-8800-182707ce3d62",
   "metadata": {},
   "outputs": [],
   "source": [
    "right_wrist_point_init = [-0.0, 0.0]\n",
    "right_wrist_state = hardware.getControlGroupState(\"right_wrist\")\n",
    "right_wrist_traj = fourier_hardware_py.bridgeTrajectory(right_wrist_state.q[-2:], right_wrist_point_init)\n",
    "for i in range(len(right_wrist_traj[1])):\n",
    "    start_time = time.perf_counter()\n",
    "    hardware.setControlGroupPosCmd(\"right_wrist\",right_wrist_traj[1][i])\n",
    "    end_time = time.perf_counter()\n",
    "    #计算控制循环的周期，保持控制频率的稳定\n",
    "    execution_time = (end_time - start_time)\n",
    "    if  execution_time < 1.0/500 :\n",
    "        time.sleep(0.002-execution_time)\n",
    "    else:\n",
    "        print(\"control loop is slow\",execution_time)"
   ]
  },
  {
   "cell_type": "markdown",
   "id": "3421c944-7624-4aba-ad05-a1ac0e74ebab",
   "metadata": {},
   "source": [
    "## 对 left_ankle control group 进行测试"
   ]
  },
  {
   "cell_type": "code",
   "execution_count": 19,
   "id": "78557355-2aa9-4999-bf91-ac962ada011b",
   "metadata": {},
   "outputs": [
    {
     "data": {
      "text/plain": [
       "True"
      ]
     },
     "execution_count": 19,
     "metadata": {},
     "output_type": "execute_result"
    }
   ],
   "source": [
    "hardware.setControlGroupPIDParams(\"left_ankle\",[40,40],[0,0],[0,0])"
   ]
  },
  {
   "cell_type": "code",
   "execution_count": 20,
   "id": "4cfccc24-c85b-4653-94d6-95c83d636b00",
   "metadata": {},
   "outputs": [
    {
     "name": "stdout",
     "output_type": "stream",
     "text": [
      "[2025-05-20 19:31:55] [9873] [error] 192.168.137.70 Get subscribe data failed with code: -302\n"
     ]
    },
    {
     "data": {
      "text/plain": [
       "True"
      ]
     },
     "execution_count": 20,
     "metadata": {},
     "output_type": "execute_result"
    },
    {
     "name": "stdout",
     "output_type": "stream",
     "text": [
      "[2025-05-20 19:31:55] [9873] [error] 192.168.137.73 Get subscribe data failed with code: -302\n",
      "[2025-05-20 19:31:55] [9873] [error] 192.168.137.10 Get subscribe data failed with code: -302\n",
      "[2025-05-20 19:31:55] [9873] [error] 192.168.137.11 Get subscribe data failed with code: -302\n",
      "[2025-05-20 19:31:55] [9873] [error] 192.168.137.13 Get subscribe data failed with code: -302\n",
      "[2025-05-20 19:31:55] [9873] [error] 192.168.137.15 Get subscribe data failed with code: -302\n",
      "[2025-05-20 19:31:55] [9873] [error] 192.168.137.16 Get subscribe data failed with code: -302\n",
      "[2025-05-20 19:31:55] [9873] [error] 192.168.137.55 Get subscribe data failed with code: -302\n",
      "[2025-05-20 19:31:55] [9873] [error] 192.168.137.50 Get subscribe data failed with code: -302\n",
      "[2025-05-20 19:31:55] [9873] [error] 192.168.137.52 Get subscribe data failed with code: -302\n",
      "[2025-05-20 19:31:55] [9873] [error] 192.168.137.31 Get subscribe data failed with code: -302\n",
      "[2025-05-20 19:31:55] [9873] [error] 192.168.137.32 Get subscribe data failed with code: -302\n",
      "[2025-05-20 19:31:55] [9873] [error] 192.168.137.33 Get subscribe data failed with code: -302\n",
      "[2025-05-20 19:31:55] [9873] [error] 192.168.137.34 Get subscribe data failed with code: -302\n",
      "[2025-05-20 19:31:55] [9873] [error] 192.168.137.35 Get subscribe data failed with code: -302\n",
      "[2025-05-20 19:31:55] [9873] [error] 192.168.137.36 Get subscribe data failed with code: -302\n",
      "[2025-05-20 19:31:55] [9873] [error] 192.168.137.91 Get subscribe data failed with code: -302\n",
      "[2025-05-20 19:31:55] [9873] [error] 192.168.137.92 Get subscribe data failed with code: -302\n"
     ]
    }
   ],
   "source": [
    "hardware.enableControlGroup(\"left_ankle\")"
   ]
  },
  {
   "cell_type": "code",
   "execution_count": 21,
   "id": "aad7968d-5827-4daa-9fea-2a49e7210b7d",
   "metadata": {},
   "outputs": [],
   "source": [
    "left_ankle_point_init = [-0.0, 0.0]\n",
    "left_ankle_state = hardware.getControlGroupState(\"left_ankle\")\n",
    "left_ankle_traj = fourier_hardware_py.bridgeTrajectory(left_ankle_state.q[-2:], left_ankle_point_init)\n",
    "for i in range(len(left_ankle_traj[1])):\n",
    "    start_time = time.perf_counter()\n",
    "    hardware.setControlGroupPosCmd(\"left_ankle\",left_ankle_traj[1][i])\n",
    "    end_time = time.perf_counter()\n",
    "    #计算控制循环的周期，保持控制频率的稳定\n",
    "    execution_time = (end_time - start_time)\n",
    "    if  execution_time < 1.0/500 :\n",
    "        time.sleep(0.002-execution_time)\n",
    "    else:\n",
    "        print(\"control loop is slow\",execution_time)"
   ]
  },
  {
   "cell_type": "markdown",
   "id": "c3d2cadc-bca5-436f-8ba8-06f9463690ab",
   "metadata": {},
   "source": [
    "## 对 right_ankle control group 进行测试"
   ]
  },
  {
   "cell_type": "code",
   "execution_count": 22,
   "id": "fdff8f69-cd84-4a37-a17c-d0b443017f88",
   "metadata": {},
   "outputs": [
    {
     "data": {
      "text/plain": [
       "True"
      ]
     },
     "execution_count": 22,
     "metadata": {},
     "output_type": "execute_result"
    }
   ],
   "source": [
    "hardware.setControlGroupPIDParams(\"right_ankle\",[40,40],[0,0],[0,0])"
   ]
  },
  {
   "cell_type": "code",
   "execution_count": 23,
   "id": "038425dd-8a17-4afa-b99f-89a96d6ad73d",
   "metadata": {},
   "outputs": [
    {
     "name": "stdout",
     "output_type": "stream",
     "text": [
      "[2025-05-20 19:31:58] [9873] [error] 192.168.137.54 Get subscribe data failed with code: -302\n"
     ]
    },
    {
     "data": {
      "text/plain": [
       "True"
      ]
     },
     "execution_count": 23,
     "metadata": {},
     "output_type": "execute_result"
    },
    {
     "name": "stdout",
     "output_type": "stream",
     "text": [
      "[2025-05-20 19:31:58] [9873] [error] 192.168.137.51 Get subscribe data failed with code: -302\n",
      "[2025-05-20 19:31:58] [9873] [error] 192.168.137.52 Get subscribe data failed with code: -302\n",
      "[2025-05-20 19:31:58] [9873] [error] 192.168.137.53 Get subscribe data failed with code: -302\n",
      "[2025-05-20 19:31:58] [9873] [error] 192.168.137.30 Get subscribe data failed with code: -302\n",
      "[2025-05-20 19:31:58] [9873] [error] 192.168.137.31 Get subscribe data failed with code: -302\n",
      "[2025-05-20 19:31:58] [9873] [error] 192.168.137.32 Get subscribe data failed with code: -302\n",
      "[2025-05-20 19:31:58] [9873] [error] 192.168.137.33 Get subscribe data failed with code: -302\n",
      "[2025-05-20 19:31:58] [9873] [error] 192.168.137.34 Get subscribe data failed with code: -302\n",
      "[2025-05-20 19:31:58] [9873] [error] 192.168.137.36 Get subscribe data failed with code: -302\n",
      "[2025-05-20 19:31:58] [9873] [error] 192.168.137.90 Get subscribe data failed with code: -302\n",
      "[2025-05-20 19:31:58] [9873] [error] 192.168.137.91 Get subscribe data failed with code: -302\n",
      "[2025-05-20 19:31:58] [9873] [error] 192.168.137.92 Get subscribe data failed with code: -302\n"
     ]
    }
   ],
   "source": [
    "hardware.enableControlGroup(\"right_ankle\")"
   ]
  },
  {
   "cell_type": "code",
   "execution_count": 24,
   "id": "7403b5d7-6690-4655-975c-19bf27c7a774",
   "metadata": {},
   "outputs": [],
   "source": [
    "right_ankle_point_init = [-0.0, 0.0]\n",
    "right_ankle_state = hardware.getControlGroupState(\"right_ankle\")\n",
    "right_ankle_traj = fourier_hardware_py.bridgeTrajectory(right_ankle_state.q[-2:], right_ankle_point_init)\n",
    "for i in range(len(right_ankle_traj[1])):\n",
    "    start_time = time.perf_counter()\n",
    "    hardware.setControlGroupPosCmd(\"right_ankle\",right_ankle_traj[1][i])\n",
    "    end_time = time.perf_counter()\n",
    "    #计算控制循环的周期，保持控制频率的稳定\n",
    "    execution_time = (end_time - start_time)\n",
    "    if  execution_time < 1.0/500 :\n",
    "        time.sleep(0.002-execution_time)\n",
    "    else:\n",
    "        print(\"control loop is slow\",execution_time)"
   ]
  },
  {
   "cell_type": "code",
   "execution_count": 25,
   "id": "03cedcd3-bdf5-4ed9-a203-2a4fcc20d219",
   "metadata": {},
   "outputs": [
    {
     "name": "stdout",
     "output_type": "stream",
     "text": [
      "[2025-05-20 19:32:00] [9873] [error] 192.168.137.70 Get subscribe data failed with code: -302\n",
      "[2025-05-20 19:32:00] [9873] [error] 192.168.137.71 Get subscribe data failed with code: -302\n",
      "[2025-05-20 19:32:00] [9873] [error] 192.168.137.72 Get subscribe data failed with code: -302\n",
      "[2025-05-20 19:32:00] [9873] [error] 192.168.137.73 Get subscribe data failed with code: -302\n",
      "[2025-05-20 19:32:00] [9873] [error] 192.168.137.16 Get subscribe data failed with code: -302\n",
      "[2025-05-20 19:32:00] [9873] [error] 192.168.137.54 Get subscribe data failed with code: -302\n",
      "[2025-05-20 19:32:00] [9873] [error] 192.168.137.50 Get subscribe data failed with code: -302\n",
      "[2025-05-20 19:32:00] [9873] [error] 192.168.137.51 Get subscribe data failed with code: -302\n",
      "[2025-05-20 19:32:00] [9873] [error] 192.168.137.52 Get subscribe data failed with code: -302\n",
      "[2025-05-20 19:32:00] [9873] [error] 192.168.137.53 Get subscribe data failed with code: -302\n",
      "[2025-05-20 19:32:00] [9873] [error] 192.168.137.30 Get subscribe data failed with code: -302\n",
      "[2025-05-20 19:32:00] [9873] [error] 192.168.137.31 Get subscribe data failed with code: -302\n",
      "[2025-05-20 19:32:00] [9873] [error] 192.168.137.32 Get subscribe data failed with code: -302\n",
      "[2025-05-20 19:32:00] [9873] [error] 192.168.137.33 Get subscribe data failed with code: -302\n",
      "[2025-05-20 19:32:00] [9873] [error] 192.168.137.34 Get subscribe data failed with code: -302\n",
      "[2025-05-20 19:32:00] [9873] [error] 192.168.137.35 Get subscribe data failed with code: -302\n",
      "[2025-05-20 19:32:00] [9873] [error] 192.168.137.36 Get subscribe data failed with code: -302\n",
      "[2025-05-20 19:32:00] [9873] [error] 192.168.137.90 Get subscribe data failed with code: -302\n",
      "[2025-05-20 19:32:00] [9873] [error] 192.168.137.92 Get subscribe data failed with code: -302\n",
      "[2025-05-20 19:32:00] [9873] [error] 192.168.137.10 Get subscribe data failed with code: -302\n",
      "[2025-05-20 19:32:00] [9873] [error] 192.168.137.11 Get subscribe data failed with code: -302\n",
      "[2025-05-20 19:32:00] [9873] [error] 192.168.137.12 Get subscribe data failed with code: -302\n",
      "[2025-05-20 19:32:00] [9873] [error] 192.168.137.13 Get subscribe data failed with code: -302\n",
      "[2025-05-20 19:32:00] [9873] [error] 192.168.137.14 Get subscribe data failed with code: -302\n",
      "[2025-05-20 19:32:00] [9873] [error] 192.168.137.15 Get subscribe data failed with code: -302\n",
      "[2025-05-20 19:32:00] [9873] [error] 192.168.137.54 Get subscribe data failed with code: -302\n",
      "[2025-05-20 19:32:00] [9873] [error] 192.168.137.55 Get subscribe data failed with code: -302\n",
      "[2025-05-20 19:32:00] [9873] [error] 192.168.137.50 Get subscribe data failed with code: -302\n",
      "[2025-05-20 19:32:00] [9873] [error] 192.168.137.51 Get subscribe data failed with code: -302\n",
      "[2025-05-20 19:32:00] [9873] [error] 192.168.137.52 Get subscribe data failed with code: -302\n",
      "[2025-05-20 19:32:00] [9873] [error] 192.168.137.53 Get subscribe data failed with code: -302\n",
      "[2025-05-20 19:32:00] [9873] [error] 192.168.137.30 Get subscribe data failed with code: -302\n",
      "[2025-05-20 19:32:00] [9873] [error] 192.168.137.33 Get subscribe data failed with code: -302\n",
      "[2025-05-20 19:32:00] [9873] [error] 192.168.137.34 Get subscribe data failed with code: -302\n",
      "[2025-05-20 19:32:00] [9873] [error] 192.168.137.35 Get subscribe data failed with code: -302\n",
      "[2025-05-20 19:32:00] [9873] [error] 192.168.137.90 Get subscribe data failed with code: -302\n",
      "[2025-05-20 19:32:00] [9873] [error] 192.168.137.91 Get subscribe data failed with code: -302\n",
      "[2025-05-20 19:32:00] [9873] [error] 192.168.137.50 Get subscribe data failed with code: -302\n",
      "[2025-05-20 19:32:00] [9873] [error] 192.168.137.31 Get subscribe data failed with code: -302\n",
      "[2025-05-20 19:32:00] [9873] [error] 192.168.137.32 Get subscribe data failed with code: -302\n",
      "[2025-05-20 19:32:00] [9873] [error] 192.168.137.34 Get subscribe data failed with code: -302\n",
      "[2025-05-20 19:32:00] [9873] [error] 192.168.137.35 Get subscribe data failed with code: -302\n",
      "[2025-05-20 19:32:00] [9873] [error] 192.168.137.36 Get subscribe data failed with code: -302\n",
      "[2025-05-20 19:32:00] [9873] [error] 192.168.137.91 Get subscribe data failed with code: -302\n",
      "[2025-05-20 19:32:00] [9873] [error] 192.168.137.92 "
     ]
    },
    {
     "data": {
      "text/plain": [
       "True"
      ]
     },
     "execution_count": 25,
     "metadata": {},
     "output_type": "execute_result"
    },
    {
     "name": "stdout",
     "output_type": "stream",
     "text": [
      "Get subscribe data failed with code: -302\n",
      "[2025-05-20 19:32:00] [9873] [error] 192.168.137.30 Get subscribe data failed with code: -302\n",
      "[2025-05-20 19:32:00] [9873] [error] 192.168.137.31 Get subscribe data failed with code: -302\n",
      "[2025-05-20 19:32:00] [9873] [error] 192.168.137.32 Get subscribe data failed with code: -302\n",
      "[2025-05-20 19:32:00] [9873] [error] 192.168.137.33 Get subscribe data failed with code: -302\n",
      "[2025-05-20 19:32:00] [9873] [error] 192.168.137.34 Get subscribe data failed with code: -302\n",
      "[2025-05-20 19:32:00] [9873] [error] 192.168.137.36 Get subscribe data failed with code: -302\n",
      "[2025-05-20 19:32:00] [9873] [error] 192.168.137.90 Get subscribe data failed with code: -302\n",
      "[2025-05-20 19:32:00] [9873] [error] 192.168.137.91 Get subscribe data failed with code: -302\n",
      "[2025-05-20 19:32:00] [9873] [error] 192.168.137.92 Get subscribe data failed with code: -302\n",
      "[2025-05-20 19:32:00] [9873] [error] 192.168.137.36 Get subscribe data failed with code: -302\n",
      "[2025-05-20 19:32:00] [9873] [error] 192.168.137.90 Get subscribe data failed with code: -302\n"
     ]
    }
   ],
   "source": [
    "hardware.disableRobot()"
   ]
  },
  {
   "cell_type": "code",
   "execution_count": 26,
   "id": "63eb8074-62a9-434e-9f8e-7804ad4c063b",
   "metadata": {},
   "outputs": [
    {
     "name": "stdout",
     "output_type": "stream",
     "text": [
      "[2025-05-20 19:32:05] [9873] [error] 192.168.137.93 Get subscribe data failed with code: -302\n"
     ]
    },
    {
     "data": {
      "text/plain": [
       "True"
      ]
     },
     "execution_count": 26,
     "metadata": {},
     "output_type": "execute_result"
    },
    {
     "name": "stdout",
     "output_type": "stream",
     "text": [
      "[2025-05-20 19:32:05] [9873] [error] 192.168.137.94 Get subscribe data failed with code: -302\n",
      "[2025-05-20 19:32:05] [9873] [error] 192.168.137.74 Get subscribe data failed with code: -302\n",
      "[2025-05-20 19:32:05] [9873] [error] 192.168.137.70 Get subscribe data failed with code: -302\n",
      "[2025-05-20 19:32:05] [9873] [error] 192.168.137.71 Get subscribe data failed with code: -302\n",
      "[2025-05-20 19:32:05] [9873] [error] 192.168.137.10 Get subscribe data failed with code: -302\n",
      "[2025-05-20 19:32:05] [9873] [error] 192.168.137.11 Get subscribe data failed with code: -302\n",
      "[2025-05-20 19:32:05] [9873] [error] 192.168.137.12 Get subscribe data failed with code: -302\n",
      "[2025-05-20 19:32:05] [9873] [error] 192.168.137.13 Get subscribe data failed with code: -302\n",
      "[2025-05-20 19:32:05] [9873] [error] 192.168.137.14 Get subscribe data failed with code: -302\n",
      "[2025-05-20 19:32:05] [9873] [error] 192.168.137.15 Get subscribe data failed with code: -302\n",
      "[2025-05-20 19:32:05] [9873] [error] 192.168.137.54 Get subscribe data failed with code: -302\n",
      "[2025-05-20 19:32:05] [9873] [error] 192.168.137.55 Get subscribe data failed with code: -302\n",
      "[2025-05-20 19:32:05] [9873] [error] 192.168.137.50 Get subscribe data failed with code: -302\n",
      "[2025-05-20 19:32:05] [9873] [error] 192.168.137.32 Get subscribe data failed with code: -302\n",
      "[2025-05-20 19:32:05] [9873] [error] 192.168.137.35 Get subscribe data failed with code: -302\n",
      "[2025-05-20 19:32:05] [9873] [error] 192.168.137.91 Get subscribe data failed with code: -302\n",
      "[2025-05-20 19:32:05] [9873] [error] 192.168.137.92 Get subscribe data failed with code: -302\n",
      "[2025-05-20 19:32:05] [9873] [error] 192.168.137.14 Get subscribe data failed with code: -302\n",
      "[2025-05-20 19:32:05] [9873] [error] 192.168.137.70 Get subscribe data failed with code: -302\n",
      "[2025-05-20 19:32:05] [9873] [error] 192.168.137.72 Get subscribe data failed with code: -302\n",
      "[2025-05-20 19:32:05] [9873] [error] 192.168.137.73 Get subscribe data failed with code: -302\n",
      "[2025-05-20 19:32:05] [9873] [error] 192.168.137.10 Get subscribe data failed with code: -302\n",
      "[2025-05-20 19:32:05] [9873] [error] 192.168.137.11 Get subscribe data failed with code: -302\n",
      "[2025-05-20 19:32:05] [9873] [error] 192.168.137.13 Get subscribe data failed with code: -302\n",
      "[2025-05-20 19:32:05] [9873] [error] 192.168.137.15 Get subscribe data failed with code: -302\n",
      "[2025-05-20 19:32:05] [9873] [error] 192.168.137.16 Get subscribe data failed with code: -302\n",
      "[2025-05-20 19:32:05] [9873] [error] 192.168.137.55 Get subscribe data failed with code: -302\n",
      "[2025-05-20 19:32:05] [9873] [error] 192.168.137.50 Get subscribe data failed with code: -302\n",
      "[2025-05-20 19:32:05] [9873] [error] 192.168.137.30 Get subscribe data failed with code: -302\n",
      "[2025-05-20 19:32:05] [9873] [error] 192.168.137.31 Get subscribe data failed with code: -302\n",
      "[2025-05-20 19:32:05] [9873] [error] 192.168.137.32 Get subscribe data failed with code: -302\n",
      "[2025-05-20 19:32:05] [9873] [error] 192.168.137.33 Get subscribe data failed with code: -302\n",
      "[2025-05-20 19:32:05] [9873] [error] 192.168.137.34 Get subscribe data failed with code: -302\n",
      "[2025-05-20 19:32:05] [9873] [error] 192.168.137.35 Get subscribe data failed with code: -302\n",
      "[2025-05-20 19:32:05] [9873] [error] 192.168.137.36 Get subscribe data failed with code: -302\n",
      "[2025-05-20 19:32:05] [9873] [error] 192.168.137.91 Get subscribe data failed with code: -302\n",
      "[2025-05-20 19:32:05] [9873] [error] 192.168.137.92 Get subscribe data failed with code: -302\n",
      "[2025-05-20 19:32:05] [9873] [error] 192.168.137.71 Get subscribe data failed with code: -302\n",
      "[2025-05-20 19:32:05] [9873] [error] 192.168.137.72 Get subscribe data failed with code: -302\n",
      "[2025-05-20 19:32:05] [9873] [error] 192.168.137.73 Get subscribe data failed with code: -302\n",
      "[2025-05-20 19:32:05] [9873] [error] 192.168.137.12 Get subscribe data failed with code: -302\n",
      "[2025-05-20 19:32:05] [9873] [error] 192.168.137.14 Get subscribe data failed with code: -302\n",
      "[2025-05-20 19:32:05] [9873] [error] 192.168.137.15 Get subscribe data failed with code: -302\n",
      "[2025-05-20 19:32:05] [9873] [error] 192.168.137.16 Get subscribe data failed with code: -302\n",
      "[2025-05-20 19:32:05] [9873] [error] 192.168.137.54 Get subscribe data failed with code: -302\n",
      "[2025-05-20 19:32:05] [9873] [error] 192.168.137.51 Get subscribe data failed with code: -302\n",
      "[2025-05-20 19:32:05] [9873] [error] 192.168.137.52 Get subscribe data failed with code: -302\n",
      "[2025-05-20 19:32:05] [9873] [error] 192.168.137.53 Get subscribe data failed with code: -302\n",
      "[2025-05-20 19:32:05] [9873] [error] 192.168.137.30 Get subscribe data failed with code: -302\n",
      "[2025-05-20 19:32:05] [9873] [error] 192.168.137.31 Get subscribe data failed with code: -302\n",
      "[2025-05-20 19:32:05] [9873] [error] 192.168.137.33 Get subscribe data failed with code: -302\n",
      "[2025-05-20 19:32:05] [9873] [error] 192.168.137.34 Get subscribe data failed with code: -302\n",
      "[2025-05-20 19:32:05] [9873] [error] 192.168.137.35 Get subscribe data failed with code: -302\n",
      "[2025-05-20 19:32:05] [9873] [error] 192.168.137.36 Get subscribe data failed with code: -302\n",
      "[2025-05-20 19:32:05] [9873] [error] 192.168.137.90 Get subscribe data failed with code: -302\n",
      "[2025-05-20 19:32:05] [9873] [error] 192.168.137.91 Get subscribe data failed with code: -302\n",
      "[2025-05-20 19:32:05] [9873] [error] 192.168.137.14 Get subscribe data failed with code: -302\n",
      "[2025-05-20 19:32:05] [9873] [error] 192.168.137.16 Get subscribe data failed with code: -302\n",
      "[2025-05-20 19:32:05] [9873] [error] 192.168.137.54 Get subscribe data failed with code: -302\n",
      "[2025-05-20 19:32:05] [9873] [error] 192.168.137.51 Get subscribe data failed with code: -302\n",
      "[2025-05-20 19:32:05] [9873] [error] 192.168.137.52 Get subscribe data failed with code: -302\n",
      "[2025-05-20 19:32:05] [9873] [error] 192.168.137.53 Get subscribe data failed with code: -302\n",
      "[2025-05-20 19:32:05] [9873] [error] 192.168.137.30 Get subscribe data failed with code: -302\n",
      "[2025-05-20 19:32:05] [9873] [error] 192.168.137.31 Get subscribe data failed with code: -302\n",
      "[2025-05-20 19:32:05] [9873] [error] 192.168.137.32 Get subscribe data failed with code: -302\n",
      "[2025-05-20 19:32:05] [9873] [error] 192.168.137.33 Get subscribe data failed with code: -302\n",
      "[2025-05-20 19:32:05] [9873] [error] 192.168.137.34 Get subscribe data failed with code: -302\n",
      "[2025-05-20 19:32:05] [9873] [error] 192.168.137.36 Get subscribe data failed with code: -302\n",
      "[2025-05-20 19:32:05] [9873] [error] 192.168.137.90 Get subscribe data failed with code: -302\n",
      "[2025-05-20 19:32:05] [9873] [error] 192.168.137.91 Get subscribe data failed with code: -302\n",
      "[2025-05-20 19:32:05] [9873] [error] 192.168.137.92 Get subscribe data failed with code: -302\n",
      "[2025-05-20 19:32:05] [9873] [error] 192.168.137.16 Get subscribe data failed with code: -302\n",
      "[2025-05-20 19:32:05] [9873] [error] 192.168.137.54 Get subscribe data failed with code: -302\n",
      "[2025-05-20 19:32:05] [9873] [error] 192.168.137.51 Get subscribe data failed with code: -302\n",
      "[2025-05-20 19:32:05] [9873] [error] 192.168.137.52 Get subscribe data failed with code: -302\n",
      "[2025-05-20 19:32:05] [9873] [error] 192.168.137.53 Get subscribe data failed with code: -302\n",
      "[2025-05-20 19:32:05] [9873] [error] 192.168.137.30 Get subscribe data failed with code: -302\n",
      "[2025-05-20 19:32:05] [9873] [error] 192.168.137.31 Get subscribe data failed with code: -302\n",
      "[2025-05-20 19:32:05] [9873] [error] 192.168.137.32 Get subscribe data failed with code: -302\n",
      "[2025-05-20 19:32:05] [9873] [error] 192.168.137.33 Get subscribe data failed with code: -302\n",
      "[2025-05-20 19:32:05] [9873] [error] 192.168.137.34 Get subscribe data failed with code: -302\n",
      "[2025-05-20 19:32:05] [9873] [error] 192.168.137.36 Get subscribe data failed with code: -302\n",
      "[2025-05-20 19:32:05] [9873] [error] 192.168.137.90 Get subscribe data failed with code: -302\n",
      "[2025-05-20 19:32:05] [9873] [error] 192.168.137.92 Get subscribe data failed with code: -302\n",
      "[2025-05-20 19:32:05] [9873] [error] 192.168.137.54 Get subscribe data failed with code: -302\n",
      "[2025-05-20 19:32:05] [9873] [error] 192.168.137.51 Get subscribe data failed with code: -302\n",
      "[2025-05-20 19:32:05] [9873] [error] 192.168.137.52 Get subscribe data failed with code: -302\n",
      "[2025-05-20 19:32:05] [9873] [error] 192.168.137.53 Get subscribe data failed with code: -302\n",
      "[2025-05-20 19:32:05] [9873] [error] 192.168.137.30 Get subscribe data failed with code: -302\n",
      "[2025-05-20 19:32:05] [9873] [error] 192.168.137.31 Get subscribe data failed with code: -302\n",
      "[2025-05-20 19:32:05] [9873] [error] 192.168.137.32 Get subscribe data failed with code: -302\n",
      "[2025-05-20 19:32:05] [9873] [error] 192.168.137.33 Get subscribe data failed with code: -302\n",
      "[2025-05-20 19:32:05] [9873] [error] 192.168.137.34 Get subscribe data failed with code: -302\n",
      "[2025-05-20 19:32:05] [9873] [error] 192.168.137.36 Get subscribe data failed with code: -302\n",
      "[2025-05-20 19:32:05] [9873] [error] 192.168.137.90 Get subscribe data failed with code: -302\n",
      "[2025-05-20 19:32:05] [9873] [error] 192.168.137.91 Get subscribe data failed with code: -302\n",
      "[2025-05-20 19:32:05] [9873] [error] 192.168.137.92 Get subscribe data failed with code: -302\n",
      "[2025-05-20 19:32:05] [9873] [error] 192.168.137.50 Get subscribe data failed with code: -302\n",
      "[2025-05-20 19:32:05] [9873] [error] 192.168.137.31 Get subscribe data failed with code: -302\n",
      "[2025-05-20 19:32:05] [9873] [error] 192.168.137.32 Get subscribe data failed with code: -302\n",
      "[2025-05-20 19:32:05] [9873] [error] 192.168.137.35 Get subscribe data failed with code: -302\n",
      "[2025-05-20 19:32:05] [9873] [error] 192.168.137.36 Get subscribe data failed with code: -302\n",
      "[2025-05-20 19:32:05] [9873] [error] 192.168.137.91 Get subscribe data failed with code: -302\n",
      "[2025-05-20 19:32:05] [9873] [error] 192.168.137.92 Get subscribe data failed with code: -302\n",
      "[2025-05-20 19:32:05] [9873] [error] 192.168.137.30 Get subscribe data failed with code: -302\n",
      "[2025-05-20 19:32:05] [9873] [error] 192.168.137.31 Get subscribe data failed with code: -302\n",
      "[2025-05-20 19:32:05] [9873] [error] 192.168.137.32 Get subscribe data failed with code: -302\n",
      "[2025-05-20 19:32:05] [9873] [error] 192.168.137.33 Get subscribe data failed with code: -302\n",
      "[2025-05-20 19:32:05] [9873] [error] 192.168.137.34 Get subscribe data failed with code: -302\n",
      "[2025-05-20 19:32:05] [9873] [error] 192.168.137.35 Get subscribe data failed with code: -302\n",
      "[2025-05-20 19:32:05] [9873] [error] 192.168.137.36 Get subscribe data failed with code: -302\n",
      "[2025-05-20 19:32:05] [9873] [error] 192.168.137.90 Get subscribe data failed with code: -302\n",
      "[2025-05-20 19:32:05] [9873] [error] 192.168.137.91 Get subscribe data failed with code: -302\n",
      "[2025-05-20 19:32:05] [9873] [error] 192.168.137.35 Get subscribe data failed with code: -302\n",
      "[2025-05-20 19:32:05] [9873] [error] 192.168.137.36 Get subscribe data failed with code: -302\n",
      "[2025-05-20 19:32:05] [9873] [error] 192.168.137.90 Get subscribe data failed with code: -302\n",
      "[2025-05-20 19:32:05] [9873] [error] 192.168.137.91 Get subscribe data failed with code: -302\n",
      "[2025-05-20 19:32:05] [9873] [error] 192.168.137.91 Get subscribe data failed with code: -302\n",
      "[2025-05-20 19:32:05] [9873] [error] 192.168.137.92 Get subscribe data failed with code: -302\n",
      "[2025-05-20 19:32:07] [9873] [error] 192.168.137.12 Get subscribe data failed with code: -302\n",
      "[2025-05-20 19:32:12] [9873] [error] 192.168.137.70 Get subscribe data failed with code: -302\n",
      "[2025-05-20 19:32:15] [9873] [error] 192.168.137.36 Get subscribe data failed with code: -302\n",
      "[2025-05-20 19:32:18] [9873] [error] 192.168.137.74 Get subscribe data failed with code: -302\n",
      "[2025-05-20 19:32:18] [9873] [error] 192.168.137.75 Get subscribe data failed with code: -302\n",
      "[2025-05-20 19:32:18] [9873] [error] 192.168.137.71 Get subscribe data failed with code: -302\n",
      "[2025-05-20 19:32:18] [9873] [error] 192.168.137.72 Get subscribe data failed with code: -302\n",
      "[2025-05-20 19:32:18] [9873] [error] 192.168.137.11 Get subscribe data failed with code: -302\n",
      "[2025-05-20 19:32:18] [9873] [error] 192.168.137.12 Get subscribe data failed with code: -302\n",
      "[2025-05-20 19:32:18] [9873] [error] 192.168.137.14 Get subscribe data failed with code: -302\n",
      "[2025-05-20 19:32:18] [9873] [error] 192.168.137.15 Get subscribe data failed with code: -302\n",
      "[2025-05-20 19:32:18] [9873] [error] 192.168.137.54 Get subscribe data failed with code: -302\n",
      "[2025-05-20 19:32:18] [9873] [error] 192.168.137.51 Get subscribe data failed with code: -302\n",
      "[2025-05-20 19:32:18] [9873] [error] 192.168.137.52 Get subscribe data failed with code: -302\n",
      "[2025-05-20 19:32:18] [9873] [error] 192.168.137.53 Get subscribe data failed with code: -302\n",
      "[2025-05-20 19:32:18] [9873] [error] 192.168.137.30 Get subscribe data failed with code: -302\n",
      "[2025-05-20 19:32:18] [9873] [error] 192.168.137.34 Get subscribe data failed with code: -302\n",
      "[2025-05-20 19:32:18] [9873] [error] 192.168.137.90 Get subscribe data failed with code: -302\n",
      "[2025-05-20 19:32:18] [9873] [error] 192.168.137.91 Get subscribe data failed with code: -302\n",
      "[2025-05-20 19:32:20] [9873] [error] 192.168.137.36 Get subscribe data failed with code: -302\n",
      "[2025-05-20 19:32:21] [9873] [error] 192.168.137.36 Get subscribe data failed with code: -302\n",
      "[2025-05-20 19:32:25] [9873] [error] 192.168.137.36 Get subscribe data failed with code: -302\n",
      "[2025-05-20 19:32:29] [9873] [error] 192.168.137.36 Get subscribe data failed with code: -302\n",
      "[2025-05-20 19:32:32] [9873] [error] 192.168.137.11 Get subscribe data failed with code: -302\n",
      "[2025-05-20 19:32:32] [9873] [error] 192.168.137.15 Get subscribe data failed with code: -302\n",
      "[2025-05-20 19:32:32] [9873] [error] 192.168.137.54 Get subscribe data failed with code: -302\n",
      "[2025-05-20 19:32:32] [9873] [error] 192.168.137.55 Get subscribe data failed with code: -302\n",
      "[2025-05-20 19:32:33] [9873] [error] 192.168.137.36 Get subscribe data failed with code: -302\n",
      "[2025-05-20 19:32:33] [9873] [error] 192.168.137.36 Get subscribe data failed with code: -302\n"
     ]
    }
   ],
   "source": [
    "hardware.enableRobot()"
   ]
  },
  {
   "cell_type": "code",
   "execution_count": null,
   "id": "29574353-f37a-42b5-8341-3fcf43587ffa",
   "metadata": {},
   "outputs": [],
   "source": [
    "hardware.disableRobot()"
   ]
  },
  {
   "cell_type": "markdown",
   "id": "3b63e5ec-8de4-4ad1-9d0a-de4ce8307797",
   "metadata": {},
   "source": [
    "# 测试gr1t2绝对值编码器"
   ]
  },
  {
   "cell_type": "code",
   "execution_count": 5,
   "id": "e47fe2cb-fcec-40fe-907b-df0973252c9f",
   "metadata": {},
   "outputs": [],
   "source": [
    "# 计算各个输入的关节位置信息的误差\n",
    "@dataclass\n",
    "class PositionErrorMetrics:\n",
    "    errors: np.ndarray = field(default_factory=lambda: np.array([]))\n",
    "    rmse: float = 0.0\n",
    "    max_error: float = 0.0\n",
    "    mean_error: float = 0.0\n",
    "    std_deviation: float = 0.0\n",
    "\n",
    "    def calculate_metrics(self):\n",
    "        if self.errors.size == 0:\n",
    "            raise ValueError(\"Error array is empty, cannot calculate metrics.\")\n",
    "\n",
    "        # 均方根误差 (RMSE)\n",
    "        self.rmse = np.sqrt(np.mean(np.square(self.errors)))\n",
    "\n",
    "        # 最大误差 (Max Error)\n",
    "        self.max_error = np.max(np.abs(self.errors))\n",
    "\n",
    "        # 平均误差 (Mean Error)\n",
    "        self.mean_error = np.mean(np.abs(self.errors))\n",
    "\n",
    "    def display_metrics(self):\n",
    "        print(f\"RMSE: {self.rmse}\")\n",
    "        print(f\"Max Error: {self.max_error}\")\n",
    "        print(f\"Mean Error: {self.mean_error}\")\n"
   ]
  },
  {
   "cell_type": "code",
   "execution_count": 6,
   "id": "e37fe119-6ca3-49bb-8d6a-83aebef98da4",
   "metadata": {
    "scrolled": true
   },
   "outputs": [
    {
     "name": "stdout",
     "output_type": "stream",
     "text": [
      "FSA(192.168.137.93): FSA subscribe port 2336 is connected to local port: 42456\n",
      "FSA(192.168.137.94): FSA subscribe port 2336 is connected to local port: 41815\n",
      "FSA(192.168.137.95): FSA subscribe port 2336 is connected to local port: 47258\n",
      "FSA(192.168.137.74): FSA subscribe port 2336 is connected to local port: 55578\n",
      "FSA(192.168.137.75): FSA subscribe port 2336 is connected to local port: 45975\n",
      "FSA(192.168.137.70): FSA subscribe port 2336 is connected to local port: 54576\n",
      "FSA(192.168.137.71): FSA subscribe port 2336 is connected to local port: 40068\n",
      "FSA(192.168.137.72): FSA subscribe port 2336 is connected to local port: 41295\n",
      "FSA(192.168.137.73): FSA subscribe port 2336 is connected to local port: 37773\n",
      "FSA(192.168.137.10): FSA subscribe port 2336 is connected to local port: 42420\n",
      "FSA(192.168.137.11): FSA subscribe port 2336 is connected to local port: 52905\n",
      "FSA(192.168.137.12): FSA subscribe port 2336 is connected to local port: 37507\n",
      "FSA(192.168.137.13): FSA subscribe port 2336 is connected to local port: 34964\n",
      "FSA(192.168.137.14): FSA subscribe port 2336 is connected to local port: 40812\n",
      "FSA(192.168.137.15): FSA subscribe port 2336 is connected to local port: 49713\n",
      "FSA(192.168.137.16): FSA subscribe port 2336 is connected to local port: 34180\n",
      "FSA(192.168.137.54): FSA subscribe port 2336 is connected to local port: 56735\n",
      "FSA(192.168.137.55): FSA subscribe port 2336 is connected to local port: 53359\n",
      "FSA(192.168.137.50): FSA subscribe port 2336 is connected to local port: 33896\n",
      "FSA(192.168.137.51): FSA subscribe port 2336 is connected to local port: 38457\n",
      "FSA(192.168.137.52): FSA subscribe port 2336 is connected to local port: 44109\n",
      "FSA(192.168.137.53): FSA subscribe port 2336 is connected to local port: 55289\n",
      "FSA(192.168.137.30): FSA subscribe port 2336 is connected to local port: 39051\n",
      "FSA(192.168.137.31): FSA subscribe port 2336 is connected to local port: 43009\n",
      "FSA(192.168.137.32): FSA subscribe port 2336 is connected to local port: 51734\n",
      "FSA(192.168.137.33): FSA subscribe port 2336 is connected to local port: 44911\n",
      "FSA(192.168.137.34): FSA subscribe port 2336 is connected to local port: 48668\n",
      "FSA(192.168.137.35): FSA subscribe port 2336 is connected to local port: 48332\n",
      "FSA(192.168.137.36): FSA subscribe port 2336 is connected to local port: 50303\n",
      "FSA(192.168.137.90): FSA subscribe port 2336 is connected to local port: 51256\n",
      "FSA(192.168.137.91): FSA subscribe port 2336 is connected to local port: 33817\n",
      "FSA(192.168.137.92): FSA subscribe port 2336 is connected to local port: 39508\n",
      "[2025-05-20 19:35:36] [10093] [error] 192.168.137.52 Get subscribe data failed with code: -302\n",
      "[2025-05-20 19:35:36] [10093] [error] 192.168.137.30 Get subscribe data failed with code: -302\n",
      "[2025-05-20 19:35:36] [10093] [error] 192.168.137.31 Get subscribe data failed with code: -302\n",
      "[2025-05-20 19:35:36] [10093] [error] 192.168.137.32 Get subscribe data failed with code: -302\n",
      "[2025-05-20 19:35:36] [10093] [error] 192.168.137.33 Get subscribe data failed with code: -302\n",
      "[2025-05-20 19:35:36] [10093] [error] 192.168.137.34 Get subscribe data failed with code: -302\n",
      "[2025-05-20 19:35:36] [10093] [error] 192.168.137.36 Get subscribe data failed with code: -302\n",
      "[2025-05-20 19:35:36] [10093] [error] 192.168.137.90 Get subscribe data failed with code: -302\n"
     ]
    }
   ],
   "source": [
    "# 此处会尝试与机器人建立连接，如果失败（存在control group无法连接），将会持续报错，请先检查机器人关节ip是否可以ping通，\n",
    "# 如果不能ping通，请尝试重启机器人或寻求硬件支持\n",
    "hardware = fourier_hardware_py.FourierHardware(\"/usr/local/config/fourier_hardware/gr1t2\",config)\n",
    "# 核心类，用于对gr1t2 绝编进行标定以及计算offset (gr1t2的绝编设置特殊，不同于gr2t2 和 grmini）\n",
    "# 请程序每次关闭之后对机器人进行断电（！！！！！非常重要）\n",
    "t2_abs_helper = fourier_hardware_py.T2ABSHelper(\"/usr/local/config/fourier_hardware/gr1t2\")"
   ]
  },
  {
   "cell_type": "code",
   "execution_count": 7,
   "id": "b4548e3e-f90e-432b-a642-e1c8cdfc14e5",
   "metadata": {},
   "outputs": [],
   "source": [
    "# 根据配置文件定义对应的机器人类，支持运动学、动力学求解\n",
    "robot = grx_sot_py.RobotWrapper(\"/usr/local/config/fourier_hardware/gr1t2\", grx_sot_py.Flags.ignore_collisions)"
   ]
  },
  {
   "cell_type": "code",
   "execution_count": 8,
   "id": "789d6d3a-bfd7-472d-963c-7dd4b4b397d1",
   "metadata": {
    "scrolled": true
   },
   "outputs": [],
   "source": [
    "# 定义机器人对应的控制组和与控制组匹配的关节顺序，输出对应的字典信息\n",
    "group_names = []\n",
    "group_joints = []\n",
    "group_joints_pos_order = {}\n",
    "group_joints_vel_order = {}\n",
    "\n",
    "for group_name in config.getControlGroupNames():\n",
    "    if config.getControlGroupMotorMode(group_name)== \"ignore\":\n",
    "        continue\n",
    "    group_names.append(group_name)\n",
    "    robot_joint_names = hardware.getControlGroupJointNames(group_name)\n",
    "    group_joints.append(robot_joint_names)\n",
    "    joint_pos_orders = []\n",
    "    joint_vel_orders = []\n",
    "    for robot_joint_name in robot_joint_names:\n",
    "        joint_pos_orders.append(robot.get_joint_offset(robot_joint_name))\n",
    "        joint_vel_orders.append(robot.get_joint_v_offset(robot_joint_name))\n",
    "    group_joints_pos_order[group_name]= joint_pos_orders\n",
    "    group_joints_vel_order[group_name] = joint_vel_orders"
   ]
  },
  {
   "cell_type": "code",
   "execution_count": 9,
   "id": "4bb68068-ac5c-4b7a-b650-e86897aa43e9",
   "metadata": {
    "scrolled": true
   },
   "outputs": [
    {
     "name": "stdout",
     "output_type": "stream",
     "text": [
      "gr1t2\n",
      "['head', 'head_direct', 'waist', 'left_manipulator', 'right_manipulator', 'left_wrist', 'right_wrist', 'left_leg', 'right_leg', 'left_ankle', 'right_ankle']\n",
      "{'head': [22, 23], 'head_direct': [24], 'waist': [19, 20, 21], 'left_manipulator': [25, 26, 27, 28, 29], 'right_manipulator': [32, 33, 34, 35, 36], 'left_wrist': [30, 31], 'right_wrist': [37, 38], 'left_leg': [7, 8, 9, 10], 'right_leg': [13, 14, 15, 16], 'left_ankle': [11, 12], 'right_ankle': [17, 18]}\n",
      "{'head': [21, 22], 'head_direct': [23], 'waist': [18, 19, 20], 'left_manipulator': [24, 25, 26, 27, 28], 'right_manipulator': [31, 32, 33, 34, 35], 'left_wrist': [29, 30], 'right_wrist': [36, 37], 'left_leg': [6, 7, 8, 9], 'right_leg': [12, 13, 14, 15], 'left_ankle': [10, 11], 'right_ankle': [16, 17]}\n",
      "(True, array([3.26316071, 0.58828163, 3.9730103 ]))\n",
      "(True, array([3.08636928, 1.42545164, 3.19950032, 1.65900028]))\n",
      "(True, array([1.67970896, 6.05730677, 0.54571366, 4.87920952]))\n",
      "(True, array([1.78670406, 1.26284969]))\n",
      "(True, array([5.27957821, 3.70111203]))\n",
      "[2025-05-20 19:36:02] [10093] [error] 192.168.137.93 Get subscribe data failed with code: -302\n",
      "[2025-05-20 19:36:10] [10093] [error] 192.168.137.91 Get subscribe data failed with code: -302\n",
      "[2025-05-20 19:36:35] [10093] [error] 192.168.137.92 Get subscribe data failed with code: -302\n",
      "[2025-05-20 19:37:04] [10093] [error] 192.168.137.72 Get subscribe data failed with code: -302\n",
      "[2025-05-20 19:37:04] [10093] [error] 192.168.137.90 Get subscribe data failed with code: -302\n",
      "[2025-05-20 19:37:21] [10093] [error] 192.168.137.70 Get subscribe data failed with code: -302\n",
      "[2025-05-20 19:37:21] [10093] [error] 192.168.137.73 Get subscribe data failed with code: -302\n",
      "[2025-05-20 19:37:21] [10093] [error] 192.168.137.51 Get subscribe data failed with code: -302\n",
      "[2025-05-20 19:37:21] [10093] [error] 192.168.137.52 Get subscribe data failed with code: -302\n",
      "[2025-05-20 19:37:21] [10093] [error] 192.168.137.32 Get subscribe data failed with code: -302\n",
      "[2025-05-20 19:37:21] [10093] [error] 192.168.137.33 Get subscribe data failed with code: -302\n",
      "[2025-05-20 19:37:21] [10093] [error] 192.168.137.35 Get subscribe data failed with code: -302\n"
     ]
    }
   ],
   "source": [
    "print(config.getRobotName())\n",
    "print(config.getControlGroupNames())\n",
    "print(group_joints_pos_order)\n",
    "print(group_joints_vel_order)\n",
    "# 获取当前绝编位置，最多尝试3次，返回一个pair，代表成功与否，成功的话后面数组代表当前的绝编位置。\n",
    "print(t2_abs_helper.getControlGroupABSAngle(\"waist\",3))\n",
    "print(t2_abs_helper.getControlGroupABSAngle(\"left_leg\",3))\n",
    "print(t2_abs_helper.getControlGroupABSAngle(\"right_leg\",3))\n",
    "print(t2_abs_helper.getControlGroupABSAngle(\"left_ankle\",3))\n",
    "print(t2_abs_helper.getControlGroupABSAngle(\"right_ankle\",3))"
   ]
  },
  {
   "cell_type": "code",
   "execution_count": 10,
   "id": "4e9e5daf-71ca-4748-8290-bc3d0e2df8b2",
   "metadata": {
    "scrolled": true
   },
   "outputs": [
    {
     "name": "stdout",
     "output_type": "stream",
     "text": [
      "[2025-05-20 19:37:25] [10093] [error] 192.168.137.95 Get subscribe data failed with code: -302\n",
      "[2025-05-20 19:37:25] [10093] [error] 192.168.137.70 Get subscribe data failed with code: -302\n",
      "[2025-05-20 19:37:25] [10093] [error] 192.168.137.72 Get subscribe data failed with code: -302\n",
      "[2025-05-20 19:37:25] [10093] [error] 192.168.137.11 Get subscribe data failed with code: -302\n",
      "[2025-05-20 19:37:25] [10093] [error] 192.168.137.13 Get subscribe data failed with code: -302\n",
      "[2025-05-20 19:37:25] [10093] [error] 192.168.137.15 Get subscribe data failed with code: -302\n",
      "[2025-05-20 19:37:25] [10093] [error] 192.168.137.16 Get subscribe data failed with code: -302\n",
      "[2025-05-20 19:37:25] [10093] [error] 192.168.137.54 Get subscribe data failed with code: -302\n",
      "[2025-05-20 19:37:25] [10093] [error] 192.168.137.55 Get subscribe data failed with code: -302\n",
      "[2025-05-20 19:37:25] [10093] [error] 192.168.137.50 Get subscribe data failed with code: -302\n",
      "[2025-05-20 19:37:25] [10093] [error] 192.168.137.51 Get subscribe data failed with code: -302\n",
      "[2025-05-20 19:37:25] [10093] [error] 192.168.137."
     ]
    },
    {
     "data": {
      "text/plain": [
       "True"
      ]
     },
     "execution_count": 10,
     "metadata": {},
     "output_type": "execute_result"
    },
    {
     "name": "stdout",
     "output_type": "stream",
     "text": [
      "30 Get subscribe data failed with code: -302\n",
      "[2025-05-20 19:37:25] [10093] [error] 192.168.137.31 Get subscribe data failed with code: -302\n",
      "[2025-05-20 19:37:25] [10093] [error] 192.168.137.34 Get subscribe data failed with code: -302\n",
      "[2025-05-20 19:37:25] [10093] [error] 192.168.137.36 Get subscribe data failed with code: -302\n",
      "[2025-05-20 19:37:25] [10093] [error] 192.168.137.90 Get subscribe data failed with code: -302\n",
      "[2025-05-20 19:37:25] [10093] [error] 192.168.137.91 Get subscribe data failed with code: -302\n",
      "[2025-05-20 19:37:25] [10093] [error] 192.168.137.92 Get subscribe data failed with code: -302\n",
      "[2025-05-20 19:37:25] [10093] [error] 192.168.137.74 Get subscribe data failed with code: -302\n",
      "[2025-05-20 19:37:25] [10093] [error] 192.168.137.70 Get subscribe data failed with code: -302\n",
      "[2025-05-20 19:37:25] [10093] [error] 192.168.137.72 Get subscribe data failed with code: -302\n",
      "[2025-05-20 19:37:25] [10093] [error] 192.168.137.11 Get subscribe data failed with code: -302\n",
      "[2025-05-20 19:37:25] [10093] [error] 192.168.137.13 Get subscribe data failed with code: -302\n",
      "[2025-05-20 19:37:25] [10093] [error] 192.168.137.15 Get subscribe data failed with code: -302\n",
      "[2025-05-20 19:37:25] [10093] [error] 192.168.137.16 Get subscribe data failed with code: -302\n",
      "[2025-05-20 19:37:25] [10093] [error] 192.168.137.54 Get subscribe data failed with code: -302\n",
      "[2025-05-20 19:37:25] [10093] [error] 192.168.137.55 Get subscribe data failed with code: -302\n",
      "[2025-05-20 19:37:25] [10093] [error] 192.168.137.50 Get subscribe data failed with code: -302\n",
      "[2025-05-20 19:37:25] [10093] [error] 192.168.137.30 Get subscribe data failed with code: -302\n",
      "[2025-05-20 19:37:25] [10093] [error] 192.168.137.31 Get subscribe data failed with code: -302\n",
      "[2025-05-20 19:37:25] [10093] [error] 192.168.137.34 Get subscribe data failed with code: -302\n",
      "[2025-05-20 19:37:25] [10093] [error] 192.168.137.36 Get subscribe data failed with code: -302\n",
      "[2025-05-20 19:37:25] [10093] [error] 192.168.137.90 Get subscribe data failed with code: -302\n",
      "[2025-05-20 19:37:25] [10093] [error] 192.168.137.91 Get subscribe data failed with code: -302\n",
      "[2025-05-20 19:37:25] [10093] [error] 192.168.137.92 Get subscribe data failed with code: -302\n",
      "[2025-05-20 19:37:25] [10093] [error] 192.168.137.11 Get subscribe data failed with code: -302\n",
      "[2025-05-20 19:37:25] [10093] [error] 192.168.137.12 Get subscribe data failed with code: -302\n",
      "[2025-05-20 19:37:25] [10093] [error] 192.168.137.13 Get subscribe data failed with code: -302\n",
      "[2025-05-20 19:37:25] [10093] [error] 192.168.137.14 Get subscribe data failed with code: -302\n",
      "[2025-05-20 19:37:25] [10093] [error] 192.168.137.15 Get subscribe data failed with code: -302\n",
      "[2025-05-20 19:37:25] [10093] [error] 192.168.137.54 Get subscribe data failed with code: -302\n",
      "[2025-05-20 19:37:25] [10093] [error] 192.168.137.55 Get subscribe data failed with code: -302\n",
      "[2025-05-20 19:37:25] [10093] [error] 192.168.137.50 Get subscribe data failed with code: -302\n",
      "[2025-05-20 19:37:25] [10093] [error] 192.168.137.52 Get subscribe data failed with code: -302\n",
      "[2025-05-20 19:37:25] [10093] [error] 192.168.137.53 Get subscribe data failed with code: -302\n",
      "[2025-05-20 19:37:25] [10093] [error] 192.168.137.30 Get subscribe data failed with code: -302\n",
      "[2025-05-20 19:37:25] [10093] [error] 192.168.137.31 Get subscribe data failed with code: -302\n",
      "[2025-05-20 19:37:25] [10093] [error] 192.168.137.32 Get subscribe data failed with code: -302\n",
      "[2025-05-20 19:37:25] [10093] [error] 192.168.137.33 Get subscribe data failed with code: -302\n",
      "[2025-05-20 19:37:25] [10093] [error] 192.168.137.34 Get subscribe data failed with code: -302\n",
      "[2025-05-20 19:37:25] [10093] [error] 192.168.137.35 Get subscribe data failed with code: -302\n",
      "[2025-05-20 19:37:25] [10093] [error] 192.168.137.36 Get subscribe data failed with code: -302\n",
      "[2025-05-20 19:37:25] [10093] [error] 192.168.137.91 Get subscribe data failed with code: -302\n",
      "[2025-05-20 19:37:25] [10093] [error] 192.168.137.92 Get subscribe data failed with code: -302\n",
      "[2025-05-20 19:37:25] [10093] [error] 192.168.137.10 Get subscribe data failed with code: -302\n",
      "[2025-05-20 19:37:25] [10093] [error] 192.168.137.11 Get subscribe data failed with code: -302\n",
      "[2025-05-20 19:37:25] [10093] [error] 192.168.137.12 Get subscribe data failed with code: -302\n",
      "[2025-05-20 19:37:25] [10093] [error] 192.168.137.13 Get subscribe data failed with code: -302\n",
      "[2025-05-20 19:37:25] [10093] [error] 192.168.137.15 Get subscribe data failed with code: -302\n",
      "[2025-05-20 19:37:25] [10093] [error] 192.168.137.54 Get subscribe data failed with code: -302\n",
      "[2025-05-20 19:37:25] [10093] [error] 192.168.137.51 Get subscribe data failed with code: -302\n",
      "[2025-05-20 19:37:25] [10093] [error] 192.168.137.52 Get subscribe data failed with code: -302\n",
      "[2025-05-20 19:37:25] [10093] [error] 192.168.137.53 Get subscribe data failed with code: -302\n",
      "[2025-05-20 19:37:25] [10093] [error] 192.168.137.31 Get subscribe data failed with code: -302\n",
      "[2025-05-20 19:37:25] [10093] [error] 192.168.137.32 Get subscribe data failed with code: -302\n",
      "[2025-05-20 19:37:25] [10093] [error] 192.168.137.33 Get subscribe data failed with code: -302\n",
      "[2025-05-20 19:37:25] [10093] [error] 192.168.137.34 Get subscribe data failed with code: -302\n",
      "[2025-05-20 19:37:25] [10093] [error] 192.168.137.35 Get subscribe data failed with code: -302\n",
      "[2025-05-20 19:37:25] [10093] [error] 192.168.137.36 Get subscribe data failed with code: -302\n",
      "[2025-05-20 19:37:25] [10093] [error] 192.168.137.90 Get subscribe data failed with code: -302\n",
      "[2025-05-20 19:37:25] [10093] [error] 192.168.137.91 Get subscribe data failed with code: -302\n",
      "[2025-05-20 19:37:25] [10093] [error] 192.168.137.92 Get subscribe data failed with code: -302\n",
      "[2025-05-20 19:37:25] [10093] [error] 192.168.137.15 Get subscribe data failed with code: -302\n",
      "[2025-05-20 19:37:25] [10093] [error] 192.168.137.16 Get subscribe data failed with code: -302\n",
      "[2025-05-20 19:37:25] [10093] [error] 192.168.137.54 Get subscribe data failed with code: -302\n",
      "[2025-05-20 19:37:25] [10093] [error] 192.168.137.55 Get subscribe data failed with code: -302\n",
      "[2025-05-20 19:37:25] [10093] [error] 192.168.137.50 Get subscribe data failed with code: -302\n",
      "[2025-05-20 19:37:25] [10093] [error] 192.168.137.53 Get subscribe data failed with code: -302\n",
      "[2025-05-20 19:37:25] [10093] [error] 192.168.137.30 Get subscribe data failed with code: -302\n",
      "[2025-05-20 19:37:25] [10093] [error] 192.168.137.31 Get subscribe data failed with code: -302\n",
      "[2025-05-20 19:37:25] [10093] [error] 192.168.137.34 Get subscribe data failed with code: -302\n",
      "[2025-05-20 19:37:25] [10093] [error] 192.168.137.36 Get subscribe data failed with code: -302\n",
      "[2025-05-20 19:37:25] [10093] [error] 192.168.137.91 Get subscribe data failed with code: -302\n",
      "[2025-05-20 19:37:25] [10093] [error] 192.168.137.92 Get subscribe data failed with code: -302\n",
      "[2025-05-20 19:37:25] [10093] [error] 192.168.137.54 Get subscribe data failed with code: -302\n",
      "[2025-05-20 19:37:25] [10093] [error] 192.168.137.51 Get subscribe data failed with code: -302\n",
      "[2025-05-20 19:37:25] [10093] [error] 192.168.137.52 Get subscribe data failed with code: -302\n",
      "[2025-05-20 19:37:25] [10093] [error] 192.168.137.53 Get subscribe data failed with code: -302\n",
      "[2025-05-20 19:37:25] [10093] [error] 192.168.137.31 Get subscribe data failed with code: -302\n",
      "[2025-05-20 19:37:25] [10093] [error] 192.168.137.32 Get subscribe data failed with code: -302\n",
      "[2025-05-20 19:37:25] [10093] [error] 192.168.137.33 Get subscribe data failed with code: -302\n",
      "[2025-05-20 19:37:25] [10093] [error] 192.168.137.34 Get subscribe data failed with code: -302\n",
      "[2025-05-20 19:37:25] [10093] [error] 192.168.137.35 Get subscribe data failed with code: -302\n",
      "[2025-05-20 19:37:25] [10093] [error] 192.168.137.90 Get subscribe data failed with code: -302\n",
      "[2025-05-20 19:37:25] [10093] [error] 192.168.137.91 Get subscribe data failed with code: -302\n",
      "[2025-05-20 19:37:25] [10093] [error] 192.168.137.92 Get subscribe data failed with code: -302\n",
      "[2025-05-20 19:37:25] [10093] [error] 192.168.137.50 Get subscribe data failed with code: -302\n",
      "[2025-05-20 19:37:25] [10093] [error] 192.168.137.53 Get subscribe data failed with code: -302\n",
      "[2025-05-20 19:37:25] [10093] [error] 192.168.137.30 Get subscribe data failed with code: -302\n",
      "[2025-05-20 19:37:25] [10093] [error] 192.168.137.31 Get subscribe data failed with code: -302\n",
      "[2025-05-20 19:37:25] [10093] [error] 192.168.137.32 Get subscribe data failed with code: -302\n",
      "[2025-05-20 19:37:25] [10093] [error] 192.168.137.33 Get subscribe data failed with code: -302\n",
      "[2025-05-20 19:37:25] [10093] [error] 192.168.137.34 Get subscribe data failed with code: -302\n",
      "[2025-05-20 19:37:25] [10093] [error] 192.168.137.35 Get subscribe data failed with code: -302\n",
      "[2025-05-20 19:37:25] [10093] [error] 192.168.137.36 Get subscribe data failed with code: -302\n",
      "[2025-05-20 19:37:25] [10093] [error] 192.168.137.91 Get subscribe data failed with code: -302\n",
      "[2025-05-20 19:37:25] [10093] [error] 192.168.137.92 Get subscribe data failed with code: -302\n",
      "[2025-05-20 19:37:25] [10093] [error] 192.168.137.32 Get subscribe data failed with code: -302\n",
      "[2025-05-20 19:37:25] [10093] [error] 192.168.137.33 Get subscribe data failed with code: -302\n",
      "[2025-05-20 19:37:25] [10093] [error] 192.168.137.35 Get subscribe data failed with code: -302\n",
      "[2025-05-20 19:37:25] [10093] [error] 192.168.137.90 Get subscribe data failed with code: -302\n",
      "[2025-05-20 19:37:25] [10093] [error] 192.168.137.35 Get subscribe data failed with code: -302\n",
      "[2025-05-20 19:37:25] [10093] [error] 192.168.137.90 Get subscribe data failed with code: -302\n",
      "[2025-05-20 19:37:25] [10093] [error] 192.168.137.91 Get subscribe data failed with code: -302\n",
      "[2025-05-20 19:37:25] [10093] [error] 192.168.137.92 Get subscribe data failed with code: -302\n",
      "[2025-05-20 19:37:25] [10093] [error] 192.168.137.90 Get subscribe data failed with code: -302\n"
     ]
    }
   ],
   "source": [
    "# 使能整个机器人\n",
    "hardware.enableRobot()"
   ]
  },
  {
   "cell_type": "code",
   "execution_count": 11,
   "id": "59aa93bf-943a-49d1-ac74-e32751b21d94",
   "metadata": {},
   "outputs": [
    {
     "name": "stdout",
     "output_type": "stream",
     "text": [
      "[ 0.00000000e+00  0.00000000e+00  0.00000000e+00  0.00000000e+00\n",
      "  0.00000000e+00  0.00000000e+00  0.00000000e+00  7.29974202e-05\n",
      " -3.82450295e-04]\n",
      "[2025-05-20 19:37:44] [10093] [error] 192.168.137.11 Get subscribe data failed with code: -302\n",
      "[2025-05-20 19:37:49] [10093] [error] 192.168.137.10 Get subscribe data failed with code: -302\n",
      "[2025-05-20 19:37:56] [10093] [error] 192.168.137.10 Get subscribe data failed with code: -302\n"
     ]
    }
   ],
   "source": [
    "# 请注意在电机上电时，请确保头部处于中间位置！！！\n",
    "print(hardware.getControlGroupState(\"head\").q)"
   ]
  },
  {
   "cell_type": "code",
   "execution_count": null,
   "id": "f73bc0d7-a7c7-4374-a1bc-f99a8d6f15bd",
   "metadata": {
    "scrolled": true
   },
   "outputs": [],
   "source": [
    "# 去使能机器人电机\n",
    "hardware.disableRobot()"
   ]
  },
  {
   "cell_type": "code",
   "execution_count": null,
   "id": "a1c63a42-65b9-46a9-b228-89997e5237ba",
   "metadata": {},
   "outputs": [],
   "source": []
  }
 ],
 "metadata": {
  "kernelspec": {
   "display_name": "Python 3 (ipykernel)",
   "language": "python",
   "name": "python3"
  },
  "language_info": {
   "codemirror_mode": {
    "name": "ipython",
    "version": 3
   },
   "file_extension": ".py",
   "mimetype": "text/x-python",
   "name": "python",
   "nbconvert_exporter": "python",
   "pygments_lexer": "ipython3",
   "version": "3.10.12"
  }
 },
 "nbformat": 4,
 "nbformat_minor": 5
}
