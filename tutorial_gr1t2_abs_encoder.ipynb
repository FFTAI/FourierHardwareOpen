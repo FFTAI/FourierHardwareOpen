{
 "cells": [
  {
   "cell_type": "markdown",
   "id": "2bb5dbbf-d1fd-491f-87ee-621fa87a1e68",
   "metadata": {},
   "source": [
    "1. 请先使用上位机升级机器人电机通信固件版本到0.3.12.12，升级机器人电机驱动固件版本到0.2.10.11，详细使用请参考上位机使用说明\n",
    "2. 请使用上位机调整机器人GR1T2电机pd参数（注意不是pid参数），\n",
    "   参考值：上肢电机10-14/30-34电机 p：200，d：15;\n",
    "          上肢电机15-16/35-36电机 p：100，d:10;\n",
    "          腰部电机90              p:300，d:18;\n",
    "          腰部电机91-92            p:500, d:20。\n",
    "   可以根据软硬自己调节,腕关节可以小一点\n",
    "3. 请使用指定的docker镜像进行开发，镜像名为fourier_hardware:v2.4，请使用开源仓库中的docker启动脚本启动docker"
   ]
  },
  {
   "cell_type": "code",
   "execution_count": 1,
   "id": "d3a3e36d-d1f1-493e-a473-c1c77f64a897",
   "metadata": {},
   "outputs": [
    {
     "name": "stdout",
     "output_type": "stream",
     "text": [
      "unknown error happened . \n"
     ]
    },
    {
     "data": {
      "text/plain": [
       "(True, array([2.94601011, 0.54341268, 4.02018022]))"
      ]
     },
     "execution_count": 1,
     "metadata": {},
     "output_type": "execute_result"
    }
   ],
   "source": [
    "# fourier_hardware_py 用于对机器人进行分组控制\n",
    "import fourier_hardware_py\n",
    "# 核心类，用于对gr1t2 绝编进行标定以及计算offset (gr1t2的绝编设置特殊，不同于gr2t2 和 grmini）\n",
    "# 请程序每次关闭之后对机器人进行断电（！！！！！非常重要）\n",
    "t2_abs_helper = fourier_hardware_py.T2ABSHelper(\"/usr/local/config/fourier_hardware/gr1t2\")\n",
    "# 获取当前绝编位置，最多尝试3次，返回一个pair，代表成功与否，成功的话后面数组代表当前的绝编位置。\n",
    "t2_abs_helper.getControlGroupABSAngle(\"waist\",3)"
   ]
  },
  {
   "cell_type": "markdown",
   "id": "14a0b8ea-8210-48ed-8e4e-d934f94c75f1",
   "metadata": {},
   "source": [
    "**只有在标定时才需要调用（标定时为了保证精度，请使用插销固定关节）**"
   ]
  },
  {
   "cell_type": "code",
   "execution_count": 2,
   "id": "a4e6f854-c2e1-4120-85cd-cfb37e7aad78",
   "metadata": {},
   "outputs": [
    {
     "data": {
      "text/plain": [
       "True"
      ]
     },
     "execution_count": 2,
     "metadata": {},
     "output_type": "execute_result"
    }
   ],
   "source": [
    "# 尝试对腰部绝编进行标定，标定将记录此刻的绝编位置，安装到上述路径下\n",
    "# 对于t2，有以下几个control group需要标定：waist left_leg right_leg left_ankele right_ankle\n",
    "t2_abs_helper.calibrateControlGroup(\"waist\") #同样会返回是否标定成功"
   ]
  },
  {
   "cell_type": "markdown",
   "id": "bc8ea63b-027c-4821-85ba-008311e03f64",
   "metadata": {},
   "source": [
    "**使用t2_abs_helper 更新hardware_config_helper (这个操作本质会读取标定时绝编读数和机器人上电时绝编读数，修改hardware config中的offset，\n",
    "后续位置更新由offset 和 相对编码器计算得出**"
   ]
  },
  {
   "cell_type": "code",
   "execution_count": 3,
   "id": "65435781-a635-4da8-8871-4c1b35a8e0b7",
   "metadata": {},
   "outputs": [
    {
     "data": {
      "text/plain": [
       "True"
      ]
     },
     "execution_count": 3,
     "metadata": {},
     "output_type": "execute_result"
    }
   ],
   "source": [
    "hardware_config_helper = fourier_hardware_py.HardwareConfigHelper(\"/usr/local/config/fourier_hardware/gr1t2\")\n",
    "t2_abs_helper.updateControlGroupOffset(\"waist\",hardware_config_helper)\n",
    "# 请注意，此处必须返回True，才代表成功"
   ]
  },
  {
   "cell_type": "code",
   "execution_count": 4,
   "id": "457c703c-e286-463c-9574-9066a8966ca6",
   "metadata": {},
   "outputs": [
    {
     "data": {
      "text/plain": [
       "(True, array([2.94601011, 0.54456317, 4.02018022]))"
      ]
     },
     "execution_count": 4,
     "metadata": {},
     "output_type": "execute_result"
    }
   ],
   "source": [
    "t2_abs_helper.getControlGroupABSAngle(\"waist\",3)"
   ]
  },
  {
   "cell_type": "code",
   "execution_count": 6,
   "id": "aa0ed6ca-5013-4443-ade7-c3e16eadbecf",
   "metadata": {},
   "outputs": [
    {
     "name": "stdout",
     "output_type": "stream",
     "text": [
      "unknown error happened . \n",
      "waist update offset:True\n",
      "waist control group's joint:[2.94601011 0.54494667 4.02018022]\n",
      "left_leg update offset:True\n",
      "left_leg control group's joint:[3.10976267 1.37291276 3.14849567 1.65900028]\n",
      "unknown error happened . \n",
      "unknown error happened . \n",
      "right_leg update offset:True\n",
      "right_leg control group's joint:[1.66283512 6.05653954 0.55568457 4.87614155]\n",
      "left_ankle update offset:True\n",
      "left_ankle control group's joint:[1.8327235  1.33226228]\n",
      "right_ankle update offset:True\n",
      "right_ankle control group's joint:[5.32751512 3.68308783]\n"
     ]
    }
   ],
   "source": [
    "# 尝试对所有绝编进行标定，注意，如果不关注一些control group，可以只标定部分，然后只更新部分control group的offset\n",
    "# 只有在标定时再调用\n",
    "t2_abs_helper.calibrateAllControlGroup()\n",
    "\n",
    "hardware_config_helper = fourier_hardware_py.HardwareConfigHelper(\"/usr/local/config/fourier_hardware/gr1t2\")\n",
    "abs_control_group = [\"waist\",\"left_leg\",\"right_leg\",\"left_ankle\",\"right_ankle\"]\n",
    "for item in abs_control_group:\n",
    "    update_flag = t2_abs_helper.updateControlGroupOffset(item,hardware_config_helper)\n",
    "    print(item + \" update offset:\" + str(update_flag))\n",
    "    print(item + \" control group's joint:\" + (str(t2_abs_helper.getControlGroupABSAngle(item,5)[1]) if (t2_abs_helper.getControlGroupABSAngle(item,5)[0]) else \"get abs angle false\"))\n",
    "# 请注意，此处必须返回True，才代表成功"
   ]
  },
  {
   "cell_type": "code",
   "execution_count": 7,
   "id": "7e864c71-dab3-46c5-a366-bbd887ea6c19",
   "metadata": {},
   "outputs": [
    {
     "name": "stdout",
     "output_type": "stream",
     "text": [
      "{\"control_groups\":[{\"control_group_type\":\"t2_head\",\"data_filter\":true,\"joints\":[\"head_roll_joint\",\"head_pitch_joint\",\"head_yaw_joint\"],\"motors\":[{\"ctft\":2.68,\"filter_cf\":3,\"fri_scale\":0.1,\"ftc\":1.4056048973281507,\"fti\":0.04874999967318416,\"ftv\":0.8515706976979021,\"motor_name\":\"192.168.137.93\",\"offset\":0.0,\"reverse_direction\":false,\"type\":\"revolute\"},{\"ctft\":2.68,\"filter_cf\":3,\"fri_scale\":0.1,\"ftc\":2.0314999714106157,\"fti\":0.8453249951392948,\"ftv\":2.0710740949759314,\"motor_name\":\"192.168.137.94\",\"offset\":0.0,\"reverse_direction\":false,\"type\":\"revolute\"},{\"ctft\":2.68,\"filter_cf\":3,\"fri_scale\":0.1,\"ftc\":2.006597377479171,\"fti\":0.5849999960996998,\"ftv\":0.6344,\"motor_name\":\"192.168.137.95\",\"offset\":0.0,\"reverse_direction\":false,\"type\":\"revolute\"}],\"motors_kind\":\"fsa\",\"motors_mode\":\"pd\",\"name\":\"head\"},{\"control_group_type\":\"direct\",\"data_filter\":true,\"joints\":[\"waist_yaw_joint\",\"waist_pitch_joint\",\"waist_roll_joint\"],\"motors\":[{\"ctft\":2.68,\"filter_cf\":3,\"fri_scale\":0.1,\"ftc\":1.4056048973281507,\"fti\":0.04874999967318416,\"ftv\":0.8515706976979021,\"motor_name\":\"192.168.137.90\",\"offset\":0.0,\"reverse_direction\":true,\"type\":\"revolute\"},{\"ctft\":2.68,\"filter_cf\":3,\"fri_scale\":0.1,\"ftc\":2.0314999714106157,\"fti\":0.8453249951392948,\"ftv\":2.0710740949759314,\"motor_name\":\"192.168.137.91\",\"offset\":-0.0007669930000000491,\"reverse_direction\":true,\"type\":\"revolute\"},{\"ctft\":2.68,\"filter_cf\":3,\"fri_scale\":0.1,\"ftc\":2.006597377479171,\"fti\":0.5849999960996998,\"ftv\":0.6344,\"motor_name\":\"192.168.137.92\",\"offset\":0.0015339850000000155,\"reverse_direction\":true,\"type\":\"revolute\"}],\"motors_kind\":\"fsa\",\"motors_mode\":\"pd\",\"name\":\"waist\"},{\"control_group_type\":\"direct\",\"data_filter\":true,\"joints\":[\"left_shoulder_pitch_joint\",\"left_shoulder_roll_joint\",\"left_shoulder_yaw_joint\",\"left_elbow_pitch_joint\",\"left_wrist_yaw_joint\"],\"motors\":[{\"ctft\":5.46,\"filter_cf\":3,\"fri_scale\":0.1,\"ftc\":1.052999985364378,\"fti\":0.105,\"ftv\":2.924999961831586,\"motor_name\":\"192.168.137.10\",\"offset\":0.0,\"reverse_direction\":true,\"type\":\"revolute\"},{\"ctft\":5.46,\"filter_cf\":3,\"fri_scale\":0.1,\"ftc\":0.9047999958559064,\"fti\":0.585,\"ftv\":2.4665756450354257,\"motor_name\":\"192.168.137.11\",\"offset\":0.0,\"reverse_direction\":true,\"type\":\"revolute\"},{\"ctft\":6.828,\"filter_cf\":3,\"fri_scale\":0.1,\"ftc\":0.83,\"fti\":0.162,\"ftv\":0.58,\"motor_name\":\"192.168.137.12\",\"offset\":0.0,\"reverse_direction\":false,\"type\":\"revolute\"},{\"ctft\":6.828,\"filter_cf\":3,\"fri_scale\":0.1,\"ftc\":0.82,\"fti\":0.0,\"ftv\":0.74,\"motor_name\":\"192.168.137.13\",\"offset\":0.0,\"reverse_direction\":true,\"type\":\"revolute\"},{\"ctft\":2.048,\"filter_cf\":3,\"fri_scale\":0.1,\"ftc\":0.117,\"fti\":0.0,\"ftv\":0.36,\"motor_name\":\"192.168.137.14\",\"offset\":0.0,\"reverse_direction\":false,\"type\":\"revolute\"}],\"motors_kind\":\"fsa\",\"motors_mode\":\"pd\",\"name\":\"left_manipulator\"},{\"control_group_type\":\"direct\",\"data_filter\":true,\"joints\":[\"right_shoulder_pitch_joint\",\"right_shoulder_roll_joint\",\"right_shoulder_yaw_joint\",\"right_elbow_pitch_joint\",\"right_wrist_yaw_joint\"],\"motors\":[{\"ctft\":5.46,\"filter_cf\":3,\"fri_scale\":0.1,\"ftc\":0.8475999955554232,\"fti\":0.105,\"ftv\":1.6273730362525431,\"motor_name\":\"192.168.137.30\",\"offset\":0.0,\"reverse_direction\":false,\"type\":\"revolute\"},{\"ctft\":5.46,\"filter_cf\":3,\"fri_scale\":0.1,\"ftc\":1.0322,\"fti\":0.315,\"ftv\":2.3920000000000003,\"motor_name\":\"192.168.137.31\",\"offset\":0.0,\"reverse_direction\":true,\"type\":\"revolute\"},{\"ctft\":6.828,\"filter_cf\":3,\"fri_scale\":0.1,\"ftc\":0.46200002725764494,\"fti\":0.105,\"ftv\":1.170041256744117,\"motor_name\":\"192.168.137.32\",\"offset\":0.0,\"reverse_direction\":false,\"type\":\"revolute\"},{\"ctft\":6.828,\"filter_cf\":3,\"fri_scale\":0.1,\"ftc\":0.568,\"fti\":0.0,\"ftv\":0.77,\"motor_name\":\"192.168.137.33\",\"offset\":0.0,\"reverse_direction\":false,\"type\":\"revolute\"},{\"ctft\":2.048,\"filter_cf\":3,\"fri_scale\":0.1,\"ftc\":0.117,\"fti\":0.0,\"ftv\":0.364,\"motor_name\":\"192.168.137.34\",\"offset\":0.0,\"reverse_direction\":false,\"type\":\"revolute\"}],\"motors_kind\":\"fsa\",\"motors_mode\":\"pd\",\"name\":\"right_manipulator\"},{\"control_group_type\":\"t2_left_wrist\",\"data_filter\":true,\"joints\":[\"left_wrist_roll_joint\",\"left_wrist_pitch_joint\"],\"motors\":[{\"ctft\":5.46,\"filter_cf\":3,\"fri_scale\":0.1,\"ftc\":0.8475999955554232,\"fti\":0.105,\"ftv\":1.6273730362525431,\"motor_name\":\"192.168.137.15\",\"offset\":0.0,\"reverse_direction\":false,\"type\":\"revolute\"},{\"ctft\":5.46,\"filter_cf\":3,\"fri_scale\":0.1,\"ftc\":1.0322,\"fti\":0.315,\"ftv\":2.3920000000000003,\"motor_name\":\"192.168.137.16\",\"offset\":0.0,\"reverse_direction\":false,\"type\":\"revolute\"}],\"motors_kind\":\"fsa\",\"motors_mode\":\"pd\",\"name\":\"left_wrist\"},{\"control_group_type\":\"t2_right_wrist\",\"data_filter\":true,\"joints\":[\"right_wrist_roll_joint\",\"right_wrist_pitch_joint\"],\"motors\":[{\"ctft\":5.46,\"filter_cf\":3,\"fri_scale\":0.1,\"ftc\":0.8475999955554232,\"fti\":0.105,\"ftv\":1.6273730362525431,\"motor_name\":\"192.168.137.35\",\"offset\":0.0,\"reverse_direction\":false,\"type\":\"revolute\"},{\"ctft\":5.46,\"filter_cf\":3,\"fri_scale\":0.1,\"ftc\":1.0322,\"fti\":0.315,\"ftv\":2.3920000000000003,\"motor_name\":\"192.168.137.36\",\"offset\":0.0,\"reverse_direction\":false,\"type\":\"revolute\"}],\"motors_kind\":\"fsa\",\"motors_mode\":\"pd\",\"name\":\"right_wrist\"},{\"control_group_type\":\"direct\",\"data_filter\":true,\"joints\":[\"left_hip_roll_joint\",\"left_hip_yaw_joint\",\"left_hip_pitch_joint\",\"left_knee_pitch_joint\"],\"motors\":[{\"ctft\":5.46,\"filter_cf\":3,\"fri_scale\":0.1,\"ftc\":0.8475999955554232,\"fti\":0.105,\"ftv\":1.6273730362525431,\"motor_name\":\"192.168.137.70\",\"offset\":-0.0005751844999999367,\"reverse_direction\":true,\"type\":\"revolute\"},{\"ctft\":5.46,\"filter_cf\":3,\"fri_scale\":0.1,\"ftc\":1.0322,\"fti\":0.315,\"ftv\":2.3920000000000003,\"motor_name\":\"192.168.137.71\",\"offset\":0.0,\"reverse_direction\":false,\"type\":\"revolute\"},{\"ctft\":6.828,\"filter_cf\":3,\"fri_scale\":0.1,\"ftc\":0.46200002725764494,\"fti\":0.105,\"ftv\":1.170041256744117,\"motor_name\":\"192.168.137.72\",\"offset\":0.00015259188544140733,\"reverse_direction\":false,\"type\":\"revolute\"},{\"ctft\":6.828,\"filter_cf\":3,\"fri_scale\":0.1,\"ftc\":0.568,\"fti\":0.0,\"ftv\":0.77,\"motor_name\":\"192.168.137.73\",\"offset\":0.0011504890000000323,\"reverse_direction\":true,\"type\":\"revolute\"}],\"motors_kind\":\"fsa\",\"motors_mode\":\"pd\",\"name\":\"left_leg\"},{\"control_group_type\":\"direct\",\"data_filter\":true,\"joints\":[\"right_hip_roll_joint\",\"right_hip_yaw_joint\",\"right_hip_pitch_joint\",\"right_knee_pitch_joint\"],\"motors\":[{\"ctft\":5.46,\"filter_cf\":3,\"fri_scale\":0.1,\"ftc\":0.8475999955554232,\"fti\":0.105,\"ftv\":1.6273730362525431,\"motor_name\":\"192.168.137.50\",\"offset\":0.0005752445000000161,\"reverse_direction\":true,\"type\":\"revolute\"},{\"ctft\":5.46,\"filter_cf\":3,\"fri_scale\":0.1,\"ftc\":1.0322,\"fti\":0.315,\"ftv\":2.3920000000000003,\"motor_name\":\"192.168.137.51\",\"offset\":0.0001382671283542704,\"reverse_direction\":false,\"type\":\"revolute\"},{\"ctft\":6.828,\"filter_cf\":3,\"fri_scale\":0.1,\"ftc\":0.46200002725764494,\"fti\":0.105,\"ftv\":1.170041256744117,\"motor_name\":\"192.168.137.52\",\"offset\":0.0,\"reverse_direction\":true,\"type\":\"revolute\"},{\"ctft\":6.828,\"filter_cf\":3,\"fri_scale\":0.1,\"ftc\":0.568,\"fti\":0.0,\"ftv\":0.77,\"motor_name\":\"192.168.137.53\",\"offset\":-0.0007667539999998141,\"reverse_direction\":false,\"type\":\"revolute\"}],\"motors_kind\":\"fsa\",\"motors_mode\":\"pd\",\"name\":\"right_leg\"},{\"control_group_type\":\"t2_left_ankle\",\"data_filter\":true,\"joints\":[\"left_ankle_pitch_joint\",\"left_ankle_roll_joint\"],\"motors\":[{\"ctft\":5.46,\"filter_cf\":3,\"fri_scale\":0.1,\"ftc\":0.8475999955554232,\"fti\":0.105,\"ftv\":1.6273730362525431,\"motor_name\":\"192.168.137.74\",\"offset\":0.0007669919999999664,\"reverse_direction\":true,\"type\":\"revolute\"},{\"ctft\":5.46,\"filter_cf\":3,\"fri_scale\":0.1,\"ftc\":1.0322,\"fti\":0.315,\"ftv\":2.3920000000000003,\"motor_name\":\"192.168.137.75\",\"offset\":-0.0007669930000000491,\"reverse_direction\":false,\"type\":\"revolute\"}],\"motors_kind\":\"fsa\",\"motors_mode\":\"pd\",\"name\":\"left_ankle\"},{\"control_group_type\":\"t2_right_ankle\",\"data_filter\":true,\"joints\":[\"right_ankle_pitch_joint\",\"right_ankle_roll_joint\"],\"motors\":[{\"ctft\":5.46,\"filter_cf\":3,\"fri_scale\":0.1,\"ftc\":0.8475999955554232,\"fti\":0.105,\"ftv\":1.6273730362525431,\"motor_name\":\"192.168.137.54\",\"offset\":-0.00038337700000035113,\"reverse_direction\":false,\"type\":\"revolute\"},{\"ctft\":5.46,\"filter_cf\":3,\"fri_scale\":0.1,\"ftc\":1.0322,\"fti\":0.315,\"ftv\":2.3920000000000003,\"motor_name\":\"192.168.137.55\",\"offset\":0.00038337699999990704,\"reverse_direction\":true,\"type\":\"revolute\"}],\"motors_kind\":\"fsa\",\"motors_mode\":\"pd\",\"name\":\"right_ankle\"}],\"control_step\":0.0025,\"imus\":[{\"imu_name\":\"base_imu\",\"imu_type\":\"ch108\",\"mount_link\":\"imu_link\",\"port_name\":\"/dev/ttyUSB0\"}],\"pub_state\":false,\"robot_name\":\"gr1t2\"}\n"
     ]
    }
   ],
   "source": [
    "hardware_config_helper.printHardwareConfig()"
   ]
  },
  {
   "cell_type": "markdown",
   "id": "1bcfc4fb-e5ad-4ffe-be2c-8d569158ab15",
   "metadata": {},
   "source": [
    "**对于gr1t2，每次hardware析构或者程序退出，请重新上电，否则位置将有误差**"
   ]
  },
  {
   "cell_type": "code",
   "execution_count": 8,
   "id": "0488c47b-1b3b-438e-a4e9-f5fc63e9f7b1",
   "metadata": {},
   "outputs": [],
   "source": [
    "# 配置各控制组的控制模式为PD模式，并忽略下肢控制的运动\n",
    "# 腰部由于绝编和电机输出轴减速比过大，所以，在上电时，腰部位置尽量在中间，防止offset求取错误。\n",
    "hardware_config_helper.changeControlGroupMotorMode(\"left_manipulator\",\"pd\")\n",
    "hardware_config_helper.changeControlGroupMotorMode(\"right_manipulator\",\"pd\")\n",
    "hardware_config_helper.changeControlGroupMotorMode(\"waist\",\"pd\")\n",
    "hardware_config_helper.changeControlGroupMotorMode(\"left_wrist\",\"pd\")\n",
    "hardware_config_helper.changeControlGroupMotorMode(\"right_wrist\",\"pd\")\n",
    "hardware_config_helper.changeControlGroupMotorMode(\"left_leg\",\"pd\")\n",
    "hardware_config_helper.changeControlGroupMotorMode(\"right_leg\",\"pd\")\n",
    "hardware_config_helper.changeControlGroupMotorMode(\"left_ankle\",\"pd\")\n",
    "hardware_config_helper.changeControlGroupMotorMode(\"right_ankle\",\"pd\")\n",
    "hardware_config_helper.changeControlGroupMotorMode(\"head\",\"ignore\")\n",
    "# 此处会尝试与机器人建立连接，如果失败（存在control group无法连接），将会持续报错，请先检查机器人关节ip是否可以ping通，\n",
    "# 如果不能ping通，请尝试重启机器人或寻求硬件支持\n",
    "# ！！！！注意，t2 在 关闭程序之后需要重启机器。\n",
    "hardware = fourier_hardware_py.FourierHardware(\"/usr/local/config/fourier_hardware/gr1t2\",hardware_config_helper)"
   ]
  },
  {
   "cell_type": "code",
   "execution_count": 21,
   "id": "cc8f751c-52a4-4e8c-951a-2cb89c5c8d87",
   "metadata": {
    "scrolled": true
   },
   "outputs": [
    {
     "name": "stdout",
     "output_type": "stream",
     "text": [
      "MOTOR: 192.168.137.74, DISABLE SUCCESS! \n",
      "MOTOR: 192.168.137.75, DISABLE SUCCESS! \n",
      "MOTOR: 192.168.137.70, DISABLE SUCCESS! \n",
      "MOTOR: 192.168.137.71, DISABLE SUCCESS! \n",
      "MOTOR: 192.168.137.72, DISABLE SUCCESS! \n",
      "MOTOR: 192.168.137.73, DISABLE SUCCESS! \n",
      "MOTOR: 192.168.137.10, DISABLE SUCCESS! \n",
      "MOTOR: 192.168.137.11, DISABLE SUCCESS! \n",
      "MOTOR: 192.168.137.12, DISABLE SUCCESS! \n",
      "MOTOR: 192.168.137.13, DISABLE SUCCESS! \n",
      "MOTOR: 192.168.137.14, DISABLE SUCCESS! \n",
      "MOTOR: 192.168.137.15, DISABLE SUCCESS! \n",
      "MOTOR: 192.168.137.16, DISABLE SUCCESS! \n",
      "MOTOR: 192.168.137.54, DISABLE SUCCESS! \n",
      "MOTOR: 192.168.137.55, DISABLE SUCCESS! \n",
      "MOTOR: 192.168.137.50, DISABLE SUCCESS! \n",
      "MOTOR: 192.168.137.51, DISABLE SUCCESS! \n",
      "MOTOR: 192.168.137.52, DISABLE SUCCESS! \n",
      "MOTOR: 192.168.137.53, DISABLE SUCCESS! \n",
      "MOTOR: 192.168.137.30, DISABLE SUCCESS! \n",
      "MOTOR: 192.168.137.31, DISABLE SUCCESS! \n",
      "MOTOR: 192.168.137.32, DISABLE SUCCESS! \n",
      "MOTOR: 192.168.137.33, DISABLE SUCCESS! \n",
      "MOTOR: 192.168.137.34, DISABLE SUCCESS! \n",
      "MOTOR: 192.168.137.35, DISABLE SUCCESS! \n",
      "MOTOR: 192.168.137.36, DISABLE SUCCESS! \n",
      "MOTOR: 192.168.137.90, DISABLE SUCCESS! \n",
      "MOTOR: 192.168.137.91, DISABLE SUCCESS! \n",
      "MOTOR: 192.168.137.92, DISABLE SUCCESS! \n"
     ]
    },
    {
     "data": {
      "text/plain": [
       "True"
      ]
     },
     "execution_count": 21,
     "metadata": {},
     "output_type": "execute_result"
    },
    {
     "name": "stdout",
     "output_type": "stream",
     "text": [
      "[2025-03-27 13:43:24] [457] [error] left_ankle loss message more than 50 times .\n",
      "[2025-03-27 13:43:24] [457] [error] left_leg loss message more than 50 times .\n",
      "[2025-03-27 13:43:24] [457] [error] left_manipulator loss message more than 50 times .\n",
      "[2025-03-27 13:43:24] [457] [error] left_wrist loss message more than 50 times .\n",
      "[2025-03-27 13:43:24] [457] [error] right_ankle loss message more than 50 times .\n",
      "[2025-03-27 13:43:24] [457] [error] right_leg loss message more than 50 times .\n",
      "[2025-03-27 13:43:24] [457] [error] right_manipulator loss message more than 50 times .\n",
      "[2025-03-27 13:43:24] [457] [error] right_wrist loss message more than 50 times .\n",
      "[2025-03-27 13:43:24] [457] [error] waist loss message more than 50 times .\n",
      "[2025-03-27 13:43:25] [457] [error] left_ankle loss message more than 50 times .\n",
      "[2025-03-27 13:43:25] [457] [error] left_leg loss message more than 50 times .\n",
      "[2025-03-27 13:43:25] [457] [error] left_manipulator loss message more than 50 times .\n",
      "[2025-03-27 13:43:25] [457] [error] left_wrist loss message more than 50 times .\n",
      "[2025-03-27 13:43:25] [457] [error] right_ankle loss message more than 50 times .\n",
      "[2025-03-27 13:43:25] [457] [error] right_leg loss message more than 50 times .\n",
      "[2025-03-27 13:43:25] [457] [error] right_manipulator loss message more than 50 times .\n",
      "[2025-03-27 13:43:25] [457] [error] right_wrist loss message more than 50 times .\n",
      "[2025-03-27 13:43:25] [457] [error] waist loss message more than 50 times .\n",
      "[2025-03-27 13:43:26] [457] [error] left_ankle loss message more than 50 times .\n",
      "[2025-03-27 13:43:26] [457] [error] left_leg loss message more than 50 times .\n",
      "[2025-03-27 13:43:26] [457] [error] left_manipulator loss message more than 50 times .\n",
      "[2025-03-27 13:43:26] [457] [error] left_wrist loss message more than 50 times .\n",
      "[2025-03-27 13:43:26] [457] [error] right_ankle loss message more than 50 times .\n",
      "[2025-03-27 13:43:26] [457] [error] right_leg loss message more than 50 times .\n",
      "[2025-03-27 13:43:26] [457] [error] right_manipulator loss message more than 50 times .\n",
      "[2025-03-27 13:43:26] [457] [error] right_wrist loss message more than 50 times .\n",
      "[2025-03-27 13:43:26] [457] [error] waist loss message more than 50 times .\n",
      "[2025-03-27 13:43:27] [457] [error] left_ankle loss message more than 50 times .\n",
      "[2025-03-27 13:43:27] [457] [error] left_leg loss message more than 50 times .\n",
      "[2025-03-27 13:43:27] [457] [error] left_manipulator loss message more than 50 times .\n",
      "[2025-03-27 13:43:27] [457] [error] left_wrist loss message more than 50 times .\n",
      "[2025-03-27 13:43:27] [457] [error] right_ankle loss message more than 50 times .\n",
      "[2025-03-27 13:43:27] [457] [error] right_leg loss message more than 50 times .\n",
      "[2025-03-27 13:43:27] [457] [error] right_manipulator loss message more than 50 times .\n",
      "[2025-03-27 13:43:27] [457] [error] right_wrist loss message more than 50 times .\n",
      "[2025-03-27 13:43:27] [457] [error] waist loss message more than 50 times .\n",
      "[2025-03-27 13:43:28] [457] [error] left_ankle loss message more than 50 times .\n",
      "[2025-03-27 13:43:28] [457] [error] left_leg loss message more than 50 times .\n",
      "[2025-03-27 13:43:28] [457] [error] left_manipulator loss message more than 50 times .\n",
      "[2025-03-27 13:43:28] [457] [error] left_wrist loss message more than 50 times .\n",
      "[2025-03-27 13:43:28] [457] [error] right_ankle loss message more than 50 times .\n",
      "[2025-03-27 13:43:28] [457] [error] right_leg loss message more than 50 times .\n",
      "[2025-03-27 13:43:28] [457] [error] right_manipulator loss message more than 50 times .\n",
      "[2025-03-27 13:43:28] [457] [error] right_wrist loss message more than 50 times .\n",
      "[2025-03-27 13:43:28] [457] [error] waist loss message more than 50 times .\n",
      "[2025-03-27 13:43:29] [457] [error] left_ankle loss message more than 50 times .\n",
      "[2025-03-27 13:43:29] [457] [error] left_leg loss message more than 50 times .\n",
      "[2025-03-27 13:43:29] [457] [error] left_manipulator loss message more than 50 times .\n",
      "[2025-03-27 13:43:29] [457] [error] left_wrist loss message more than 50 times .\n",
      "[2025-03-27 13:43:29] [457] [error] right_ankle loss message more than 50 times .\n",
      "[2025-03-27 13:43:29] [457] [error] right_leg loss message more than 50 times .\n",
      "[2025-03-27 13:43:29] [457] [error] right_manipulator loss message more than 50 times .\n",
      "[2025-03-27 13:43:29] [457] [error] right_wrist loss message more than 50 times .\n",
      "[2025-03-27 13:43:29] [457] [error] waist loss message more than 50 times .\n"
     ]
    }
   ],
   "source": [
    "hardware.disableRobot()"
   ]
  },
  {
   "cell_type": "markdown",
   "id": "3bb31c17-5762-4eb9-ae52-3b615b3f698c",
   "metadata": {},
   "source": [
    "**请在标定结束后断电重新上电**"
   ]
  }
 ],
 "metadata": {
  "kernelspec": {
   "display_name": "Python 3 (ipykernel)",
   "language": "python",
   "name": "python3"
  },
  "language_info": {
   "codemirror_mode": {
    "name": "ipython",
    "version": 3
   },
   "file_extension": ".py",
   "mimetype": "text/x-python",
   "name": "python",
   "nbconvert_exporter": "python",
   "pygments_lexer": "ipython3",
   "version": "3.10.12"
  }
 },
 "nbformat": 4,
 "nbformat_minor": 5
}
