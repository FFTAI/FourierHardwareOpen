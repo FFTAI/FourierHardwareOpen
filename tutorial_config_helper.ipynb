{
 "cells": [
  {
   "cell_type": "code",
   "execution_count": 1,
   "id": "b15f92d8-e4ae-4a1b-8f68-dc400201f74f",
   "metadata": {},
   "outputs": [
    {
     "name": "stdout",
     "output_type": "stream",
     "text": [
      "size of left manipulator motors 7\n",
      "hahaha\n",
      "['waist', 'head1', 'left_manipulator', 'right_manipulator', 'left_leg', 'right_leg']\n",
      "fake\n",
      "pd\n",
      ",\"offset\":0.0,\"reverse_direction\":true,\"type\":\"revolute\"},{\"ctft\":5.72,\"filter_cf\":3,\"fri_scale\":0.7,\"ftc\":1,\"fti\":0.3,\"ftv\":1,\"motor_name\":\"192.168.137.16\",\"offset\":0.0,\"reverse_direction\":true,\"type\":\"revolute\"}],\"motors_kind\":\"fsa\",\"motors_mode\":\"position\",\"name\":\"left_manipulator\"},{\"control_group_type\":\"direct\",\"data_filter\":true,\"joints\":[\"right_shoulder_pitch_joint\",\"right_shoulder_roll_joint\",\"right_shoulder_yaw_joint\",\"right_elbow_pitch_joint\",\"right_wrist_yaw_joint\",\"right_wrist_pitch_joint\",\"right_wrist_roll_joint\"],\"motors\":[{\"ctft\":4.464,\"filter_cf\":3,\"fri_scale\":1.0,\"ftc\":0.5,\"fti\":0.3,\"ftv\":0.5,\"motor_name\":\"192.168.137.30\",\"offset\":0.0,\"reverse_direction\":false,\"type\":\"revolute\"},{\"ctft\":4.464,\"filter_cf\":3,\"fri_scale\":1.0,\"ftc\":0.5,\"fti\":0.3,\"ftv\":1.0,\"motor_name\":\"192.168.137.31\",\"offset\":0.0,\"reverse_direction\":true,\"type\":\"revolute\"},{\"ctft\":5.032,\"filter_cf\":3,\"fri_scale\":0.7,\"ftc\":3.0,\"fti\":0.3,\"ftv\":4,\"motor_name\":\"192.168.137.32\",\"offset\":0.0,\"reverse_direction\":false,\"type\":\"revolute\"},{\"ctft\":5.032,\"filter_cf\":3,\"fri_scale\":0.9,\"ftc\":1,\"fti\":0.3,\"ftv\":1.5,\"motor_name\":\"192.168.137.33\",\"offset\":0.0,\"reverse_direction\":false,\"type\":\"revolute\"},{\"ctft\":5.72,\"filter_cf\":3,\"fri_scale\":0.9,\"ftc\":0.5,\"fti\":0.3,\"ftv\":0.5,\"motor_name\":\"192.168.137.34\",\"offset\":0.0,\"reverse_direction\":false,\"type\":\"revolute\"},{\"ctft\":5.72,\"filter_cf\":3,\"fri_scale\":1.0,\"ftc\":0.5,\"fti\":0.3,\"ftv\":1.0,\"motor_name\":\"192.168.137.35\",\"offset\":0.0,\"reverse_direction\":false,\"type\":\"revolute\"},{\"ctft\":5.72,\"filter_cf\":3,\"fri_scale\":1.0,\"ftc\":0.8,\"fti\":0.3,\"ftv\":0.8,\"motor_name\":\"192.168.137.36\",\"offset\":0.0,\"reverse_direction\":true,\"type\":\"revolute\"}],\"motors_kind\":\"fsa\",\"motors_mode\":\"position\",\"name\":\"right_manipulator\"},{\"control_group_type\":\"direct\",\"data_filter\":true,\"joints\":[\"left_hip_pitch_joint\",\"left_hip_roll_joint\",\"left_hip_yaw_joint\",\"left_knee_pitch_joint\",\"left_ankle_roll_joint\",\"left_ankle_pitch_joint\"],\"motors\":[{\"ctft\":4.3215,\"filter_cf\":3,\"fri_scale\":0.0,\"ftc\":1.052999985364378,\"fti\":0.105,\"ftv\":2.924999961831586,\"motor_name\":\"192.168.137.70\",\"offset\":0.0,\"reverse_direction\":true,\"type\":\"revolute\"},{\"ctft\":2.4592,\"filter_cf\":3,\"fri_scale\":0.0,\"ftc\":0.9047999958559064,\"fti\":0.585,\"ftv\":2.4665756450354257,\"motor_name\":\"192.168.137.71\",\"offset\":0.0,\"reverse_direction\":true,\"type\":\"revolute\"},{\"ctft\":2.3994,\"filter_cf\":3,\"fri_scale\":0.0,\"ftc\":0.83,\"fti\":0.162,\"ftv\":0.58,\"motor_name\":\"192.168.137.72\",\"offset\":0.0,\"reverse_direction\":false,\"type\":\"revolute\"},{\"ctft\":4.3215,\"filter_cf\":3,\"fri_scale\":0.0,\"ftc\":0.82,\"fti\":0.0,\"ftv\":0.74,\"motor_name\":\"192.168.137.73\",\"offset\":0.0,\"reverse_direction\":true,\"type\":\"revolute\"},{\"ctft\":1.887,\"filter_cf\":3,\"fri_scale\":0.0,\"ftc\":0.117,\"fti\":0.0,\"ftv\":0.48,\"motor_name\":\"192.168.137.74\",\"offset\":0.0,\"reverse_direction\":true,\"type\":\"revolute\"},{\"ctft\":2.3994,\"filter_cf\":3,\"fri_scale\":0.0,\"ftc\":0.117,\"fti\":0.0,\"ftv\":0.48,\"motor_name\":\"192.168.137.75\",\"offset\":0.0,\"reverse_direction\":false,\"type\":\"revolute\"}],\"motors_kind\":\"fsa\",\"motors_mode\":\"position\",\"name\":\"left_leg\"},{\"control_group_type\":\"direct\",\"data_filter\":true,\"joints\":[\"right_hip_pitch_joint\",\"right_hip_roll_joint\",\"right_hip_yaw_joint\",\"right_knee_pitch_joint\",\"right_ankle_roll_joint\",\"right_ankle_pitch_joint\"],\"motors\":[{\"ctft\":4.3215,\"filter_cf\":3,\"fri_scale\":0.0,\"ftc\":1.052999985364378,\"fti\":0.105,\"ftv\":2.924999961831586,\"motor_name\":\"192.168.137.50\",\"offset\":0.0,\"reverse_direction\":true,\"type\":\"revolute\"},{\"ctft\":2.4592,\"filter_cf\":3,\"fri_scale\":0.0,\"ftc\":0.9047999958559064,\"fti\":0.585,\"ftv\":2.4665756450354257,\"motor_name\":\"192.168.137.51\",\"offset\":0.0,\"reverse_direction\":false,\"type\":\"revolute\"},{\"ctft\":2.3994,\"filter_cf\":3,\"fri_scale\":0.0,\"ftc\":0.83,\"fti\":0.162,\"ftv\":0.58,\"motor_name\":\"192.168.137.52\",\"offset\":0.0,\"reverse_direction\":false,\"type\":\"revolute\"},{\"ctft\":4.3215,\"filter_cf\":3,\"fri_scale\":0.0,\"ftc\":0.82,\"fti\":0.0,\"ftv\":0.74,\"motor_name\":\"192.168.137.53\",\"offset\":0.0,\"reverse_direction\":false,\"type\":\"revolute\"},{\"ctft\":1.887,\"filter_cf\":3,\"fri_scale\":0.0,\"ftc\":0.117,\"fti\":0.0,\"ftv\":0.48,\"motor_name\":\"192.168.137.54\",\"offset\":0.0,\"reverse_direction\":true,\"type\":\"revolute\"},{\"ctft\":2.3994,\"filter_cf\":3,\"fri_scale\":0.0,\"ftc\":0.117,\"fti\":0.0,\"ftv\":0.48,\"motor_name\":\"192.168.137.55\",\"offset\":0.0,\"reverse_direction\":true,\"type\":\"revolute\"}],\"motors_kind\":\"fsa\",\"motors_mode\":\"position\",\"name\":\"right_leg\"}],\"control_step\":0.0025,\"imus\":[{\"imu_name\":\"base_imu\",\"imu_type\":\"ch108\",\"mount_link\":\"base\",\"port_name\":\"/dev/ttyUSB0\"}],\"pub_state\":false,\"robot_name\":\"hahaha\"}\n"
     ]
    }
   ],
   "source": [
    "import fourier_hardware_py\n",
    "config = fourier_hardware_py.HardwareConfigHelper(\"/usr/local/config/fourier_hardware/gr2t2\")\n",
    "config.changeControlGroupName(\"head\",\"head1\")\n",
    "config.changeControlGroupMotorKind(\"head1\",\"fake\")\n",
    "config.changeControlGroupFilter(\"head1\",False)\n",
    "config.changeControlGroupMotorMode(\"head1\",\"pd\")\n",
    "config.changeRobotName(\"hahaha\")\n",
    "config.changeRobotControlStep(0.0025)\n",
    "print(\"size of left manipulator motors\", config.getControlGroupMotorSize(\"left_manipulator\"))\n",
    "config.changeControlGroupMotorPosOffsets(\"head1\",[0.1,0.2])\n",
    "print(config.getRobotName())\n",
    "print(config.getControlGroupNames())\n",
    "print(config.getControlGroupMotorKind(\"head1\"))\n",
    "print(config.getControlGroupMotorMode(\"head1\"))\n",
    "config.printHardwareConfig()\n"
   ]
  },
  {
   "cell_type": "code",
   "execution_count": 2,
   "id": "adc88aa7-3da1-493d-af30-341f839d1be2",
   "metadata": {},
   "outputs": [
    {
     "data": {
      "text/plain": [
       "['base_imu']"
      ]
     },
     "execution_count": 2,
     "metadata": {},
     "output_type": "execute_result"
    }
   ],
   "source": [
    "config.getIMUNames()"
   ]
  },
  {
   "cell_type": "code",
   "execution_count": 3,
   "id": "0a85947a-f4d4-444b-9bff-c1fb6140cddc",
   "metadata": {},
   "outputs": [
    {
     "data": {
      "text/plain": [
       "'ch108'"
      ]
     },
     "execution_count": 3,
     "metadata": {},
     "output_type": "execute_result"
    }
   ],
   "source": [
    "config.getIMUType('base_imu')"
   ]
  },
  {
   "cell_type": "code",
   "execution_count": 6,
   "id": "4cdb4e19-bdc8-40db-8a30-9ddd876ddc7f",
   "metadata": {},
   "outputs": [
    {
     "data": {
      "text/plain": [
       "'base'"
      ]
     },
     "execution_count": 6,
     "metadata": {},
     "output_type": "execute_result"
    }
   ],
   "source": [
    "config.getIMUMountLink('base_imu')"
   ]
  },
  {
   "cell_type": "code",
   "execution_count": 7,
   "id": "3b1d3d5a-b398-42b1-ba35-c4ef0a9ad211",
   "metadata": {},
   "outputs": [
    {
     "data": {
      "text/plain": [
       "'/dev/ttyUSB0'"
      ]
     },
     "execution_count": 7,
     "metadata": {},
     "output_type": "execute_result"
    }
   ],
   "source": [
    "config.getIMUPortName('base_imu')"
   ]
  },
  {
   "cell_type": "code",
   "execution_count": null,
   "id": "d9dbb55d-b510-4899-bd42-982a205076d7",
   "metadata": {},
   "outputs": [],
   "source": []
  }
 ],
 "metadata": {
  "kernelspec": {
   "display_name": "Python 3 (ipykernel)",
   "language": "python",
   "name": "python3"
  },
  "language_info": {
   "codemirror_mode": {
    "name": "ipython",
    "version": 3
   },
   "file_extension": ".py",
   "mimetype": "text/x-python",
   "name": "python",
   "nbconvert_exporter": "python",
   "pygments_lexer": "ipython3",
   "version": "3.10.12"
  }
 },
 "nbformat": 4,
 "nbformat_minor": 5
}
