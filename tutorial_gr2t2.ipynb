{
 "cells": [
  {
   "cell_type": "code",
   "execution_count": null,
   "id": "a9779aeb-21df-4206-9d38-51fb17121cb2",
   "metadata": {},
   "outputs": [],
   "source": [
    "# Before running this code, please make sure the following steps are completed:\n",
    "# 1. Upgrade the robot actuator communication firmware version to 0.3.12.25 or above.\n",
    "# 2. Calibrate the robot joint zero position(usually done by the manufacturer).\n",
    "# 3. Use the latest docker image for development."
   ]
  },
  {
   "cell_type": "code",
   "execution_count": null,
   "id": "797ec122-b93d-413c-8ece-52c0e96bd38f",
   "metadata": {},
   "outputs": [],
   "source": [
    "# fourier_hardware_py is the main library for the hardware control\n",
    "# grx_sot_py is the library for robot kinematics and dynamics calculation\n",
    "import fourier_hardware_py\n",
    "import grx_sot_py\n",
    "import numpy as np\n",
    "import time\n",
    "import math"
   ]
  },
  {
   "cell_type": "code",
   "execution_count": null,
   "id": "5671e940-8c70-4eb2-a527-b393d2a07765",
   "metadata": {},
   "outputs": [],
   "source": [
    "# create a configuration for GR2T2 robot\n",
    "config = fourier_hardware_py.HardwareConfigHelper(\"/usr/local/config/fourier_hardware/gr2t2v2\")"
   ]
  },
  {
   "cell_type": "code",
   "execution_count": null,
   "id": "ac1359f8-2614-4c5f-b5cc-be7f8f475d86",
   "metadata": {},
   "outputs": [],
   "source": [
    "# create an IMU object and initialize it\n",
    "# Note: \n",
    "# If the imu is not connected to the computer when the docker container starts, the imu's serial port information cannot be obtained correctly in the docker container. \n",
    "# In this case, restart the docker container.\n",
    "ch108 = fourier_hardware_py.ch108IMU()\n",
    "ch108.initIMU(\"/dev/ttyUSB0\")\n",
    "# Ater initialization, you can get the imu information from the config object.\n",
    "imu_names = config.getIMUNames()\n",
    "first_imu_name = imu_names[0]\n",
    "print(first_imu_name)\n",
    "print(config.getIMUType(first_imu_name[0])) # imu type\n",
    "print(config.getIMUMountLink(first_imu_name)) # imu link in urdf\n",
    "print(config.getIMUPortName(first_imu_name)) # imu port\n",
    "for i in range(2):\n",
    "    print(ch108.getIMUData()) # w x y z wx wy wz ax ay az \n",
    "    print(ch108.getLossCount()) # number of lost packets, max 255\n",
    "    time.sleep(0.1) "
   ]
  },
  {
   "cell_type": "code",
   "execution_count": null,
   "id": "a593de43-c59c-4be9-af31-d7c69b052b97",
   "metadata": {},
   "outputs": [
    {
     "data": {
      "text/plain": [
       "True"
      ]
     },
     "execution_count": 4,
     "metadata": {},
     "output_type": "execute_result"
    }
   ],
   "source": [
    "# set PD control mode for each control group \n",
    "config.changeControlGroupMotorMode(\"head\",\"pd\")\n",
    "config.changeControlGroupMotorMode(\"left_manipulator\",\"pd\")\n",
    "config.changeControlGroupMotorMode(\"right_manipulator\",\"pd\")\n",
    "config.changeControlGroupMotorMode(\"waist\",\"pd\")\n",
    "config.changeControlGroupMotorMode(\"left_leg\",\"pd\")\n",
    "config.changeControlGroupMotorMode(\"right_leg\",\"pd\")"
   ]
  },
  {
   "cell_type": "code",
   "execution_count": null,
   "id": "e37fe119-6ca3-49bb-8d6a-83aebef98da4",
   "metadata": {
    "scrolled": true
   },
   "outputs": [],
   "source": [
    "# create a robot hardware object and build connections.\n",
    "# Note:\n",
    "# If the control group cannot connect, the code will keep printing error messages, please check if the robot joint ip can be pinged,\n",
    "# if not, please try to restart the robot or seek hardware support.\n",
    "hardware = fourier_hardware_py.FourierHardware(\"/usr/local/config/fourier_hardware/gr2t2v2\",config)"
   ]
  },
  {
   "cell_type": "code",
   "execution_count": null,
   "id": "b4548e3e-f90e-432b-a642-e1c8cdfc14e5",
   "metadata": {},
   "outputs": [],
   "source": [
    "# create a robot wrapper for kinematics and dynamics calculation\n",
    "robot = grx_sot_py.RobotWrapper(\"/usr/local/config/fourier_hardware/gr2t2v2\", grx_sot_py.Flags.ignore_collisions)"
   ]
  },
  {
   "cell_type": "code",
   "execution_count": null,
   "id": "789d6d3a-bfd7-472d-963c-7dd4b4b397d1",
   "metadata": {},
   "outputs": [],
   "source": [
    "# print robot control group and joint information\n",
    "group_names = []\n",
    "group_joints = []\n",
    "group_joints_pos_order = {}\n",
    "group_joint_vel_order = {}\n",
    "\n",
    "for group_name in config.getControlGroupNames():\n",
    "    if config.getControlGroupMotorMode(group_name)== \"ignore\":\n",
    "        continue\n",
    "    group_names.append(group_name)\n",
    "    robot_joint_names = hardware.getControlGroupJointNames(group_name)\n",
    "    group_joints.append(robot_joint_names)\n",
    "    joint_pos_orders = []\n",
    "    joint_vel_orders = []\n",
    "    for robot_joint_name in robot_joint_names:\n",
    "        joint_pos_orders.append(robot.get_joint_offset(robot_joint_name))\n",
    "        joint_vel_orders.append(robot.get_joint_v_offset(robot_joint_name))\n",
    "    group_joints_pos_order[group_name]= joint_pos_orders\n",
    "    group_joint_vel_order[group_name] = joint_vel_orders"
   ]
  },
  {
   "cell_type": "code",
   "execution_count": 8,
   "id": "4bb68068-ac5c-4b7a-b650-e86897aa43e9",
   "metadata": {},
   "outputs": [
    {
     "name": "stdout",
     "output_type": "stream",
     "text": [
      "gr2t2v2\n",
      "['left_leg', 'right_leg', 'waist', 'head', 'left_manipulator', 'right_manipulator']\n"
     ]
    }
   ],
   "source": [
    "print(config.getRobotName())\n",
    "print(config.getControlGroupNames())"
   ]
  },
  {
   "cell_type": "code",
   "execution_count": 19,
   "id": "efdee1d3-ea8b-4d00-9b55-ce9825bd3784",
   "metadata": {},
   "outputs": [
    {
     "data": {
      "text/plain": [
       "True"
      ]
     },
     "execution_count": 19,
     "metadata": {},
     "output_type": "execute_result"
    }
   ],
   "source": [
    "hardware.setControlGroupPIDParams(\"left_leg\",[50,50,50,50,20,10],[0,0,0,0,0,0],[0,0,0,0,0,0])\n",
    "hardware.setControlGroupPIDParams(\"right_leg\",[50,50,50,50,20,10],[0,0,0,0,0,0],[0,0,0,0,0,0])\n",
    "hardware.setControlGroupPIDParams(\"waist\",[60],[0],[0])\n",
    "hardware.setControlGroupPIDParams(\"head\",[20,20],[0,0],[0,0])\n",
    "hardware.setControlGroupPIDParams(\"right_manipulator\",[300,100,50,50,50,50,50],[0,0,0,0,0,0,0],[0,0,0,0,0,0,0])\n",
    "hardware.setControlGroupPIDParams(\"left_manipulator\",[300,100,50,50,50,50,50],[0,0,0,0,0,0,0],[0,0,0,0,0,0,0])"
   ]
  },
  {
   "cell_type": "code",
   "execution_count": null,
   "id": "4e9e5daf-71ca-4748-8290-bc3d0e2df8b2",
   "metadata": {},
   "outputs": [
    {
     "name": "stdout",
     "output_type": "stream",
     "text": [
      "MOTOR: 192.168.137.93, ENABLE SUCCESS! \n",
      "MOTOR: 192.168.137.95, ENABLE SUCCESS! \n",
      "MOTOR: 192.168.137.70, ENABLE SUCCESS! \n",
      "MOTOR: 192.168.137.71, ENABLE SUCCESS! \n",
      "MOTOR: 192.168.137.72, ENABLE SUCCESS! \n",
      "MOTOR: 192.168.137.73, ENABLE SUCCESS! \n",
      "MOTOR: 192.168.137.75, ENABLE SUCCESS! \n",
      "MOTOR: 192.168.137.74, ENABLE SUCCESS! \n",
      "MOTOR: 192.168.137.10, ENABLE SUCCESS! \n",
      "MOTOR: 192.168.137.11, ENABLE SUCCESS! \n",
      "MOTOR: 192.168.137.12, ENABLE SUCCESS! \n",
      "MOTOR: 192.168.137.13, ENABLE SUCCESS! \n",
      "MOTOR: 192.168.137.14, ENABLE SUCCESS! \n",
      "MOTOR: 192.168.137.15, ENABLE SUCCESS! \n",
      "MOTOR: 192.168.137.16, ENABLE SUCCESS! \n",
      "MOTOR: 192.168.137.50, ENABLE SUCCESS! \n",
      "MOTOR: 192.168.137.51, ENABLE SUCCESS! \n",
      "MOTOR: 192.168.137.52, ENABLE SUCCESS! \n",
      "MOTOR: 192.168.137.53, ENABLE SUCCESS! \n",
      "MOTOR: 192.168.137.55, ENABLE SUCCESS! \n",
      "MOTOR: 192.168.137.54, ENABLE SUCCESS! \n",
      "MOTOR: 192.168.137.30, ENABLE SUCCESS! \n",
      "MOTOR: 192.168.137.31, ENABLE SUCCESS! \n",
      "MOTOR: 192.168.137.32, ENABLE SUCCESS! \n",
      "MOTOR: 192.168.137.33, ENABLE SUCCESS! \n",
      "MOTOR: 192.168.137.34, ENABLE SUCCESS! \n",
      "MOTOR: 192.168.137.35, ENABLE SUCCESS! \n",
      "MOTOR: 192.168.137.36, ENABLE SUCCESS! \n",
      "MOTOR: 192.168.137.90, ENABLE SUCCESS! \n"
     ]
    },
    {
     "data": {
      "text/plain": [
       "True"
      ]
     },
     "execution_count": 10,
     "metadata": {},
     "output_type": "execute_result"
    }
   ],
   "source": [
    "# Enable the robot joint motors\n",
    "hardware.enableRobot()"
   ]
  },
  {
   "cell_type": "code",
   "execution_count": null,
   "id": "b15e6375-26eb-4216-966e-abb349b3e9ba",
   "metadata": {
    "scrolled": true
   },
   "outputs": [
    {
     "name": "stdout",
     "output_type": "stream",
     "text": [
      "left_manipulator: [ 0.          0.          0.          0.          0.          0.\n",
      "  0.         -0.00349039  0.00143703 -0.00019981  0.00528092  0.00020083\n",
      " -0.00170787  0.0003646 ]\n",
      "right_manipulator [ 0.          0.          0.          0.          0.          0.\n",
      "  0.         -0.00668046 -0.00477701 -0.00377041  0.08985603 -0.0103717\n",
      " -0.0046316  -0.01243471]\n"
     ]
    }
   ],
   "source": [
    "# get the joint positions(rad) of the control groups ['waist', 'head', 'left_manipulator', 'right_manipulator', 'left_leg', 'right_leg'] in the current robot state.\n",
    "lm = hardware.getControlGroupState(\"left_manipulator\")\n",
    "rm = hardware.getControlGroupState(\"right_manipulator\")\n",
    "print(\"left_manipulator:\", lm.q)\n",
    "print(\"right_manipulator\", rm.q)"
   ]
  },
  {
   "cell_type": "code",
   "execution_count": null,
   "id": "dcbfbd0b-e121-46d9-b8b1-279ff9b2e84b",
   "metadata": {
    "scrolled": true
   },
   "outputs": [],
   "source": [
    "# generate the trajectory of the robot's arms from the current position to the zero position\n",
    "point_init = [-0.0, 0.0, 0.0, 0.0, 0.0, 0.0, 0.0]\n",
    "rm_traj = fourier_hardware_py.bridgeTrajectory(rm.q[-7:],point_init)\n",
    "lm_traj = fourier_hardware_py.bridgeTrajectory(lm.q[-7:],point_init)"
   ]
  },
  {
   "cell_type": "code",
   "execution_count": null,
   "id": "473bbfbc-cab5-49b4-93fe-98878ac45f9f",
   "metadata": {
    "scrolled": true
   },
   "outputs": [],
   "source": [
    "# excute the trajectory genetated above to move the right arm to zero position\n",
    "import time\n",
    "\n",
    "for i in range(len(rm_traj[1])):\n",
    "    start_time = time.perf_counter()\n",
    "    # get the real robot state\n",
    "    state = hardware.readRealRobotState()\n",
    "    # Note: \n",
    "    # Due to the error in the observation of joint velocity and joint acceleration, and the delay caused by subsequent matrix multiplication, \n",
    "    # the Coriolis force and inertial force are not considered here, only the gravity is considered (set state.qd and state.qdd to zero).\n",
    "    state.qd = np.zeros((state.qd).size)\n",
    "    state.qdd = np.zeros((state.qdd).size)\n",
    "    # calculate the joint compensation torque and use PD feedback to compensate the torque to improve control accuracy\n",
    "    gravity_torque = robot.get_joint_compensation_torque(state.q,state.qd,state.qdd)\n",
    "    # set the control command for the right arm\n",
    "    hardware.setControlGroupPosCmd(\"right_manipulator\",rm_traj[1][i],np.zeros(7),gravity_torque[group_joint_vel_order[\"right_manipulator\"]])\n",
    "    state = hardware.readRealRobotState()\n",
    "\n",
    "    end_time = time.perf_counter()\n",
    "    execution_time = (end_time - start_time)\n",
    "    if  execution_time < 1.0/400 :\n",
    "        time.sleep(0.0025-execution_time)\n",
    "    else:\n",
    "        print(\"control loop is slow\",execution_time)"
   ]
  },
  {
   "cell_type": "code",
   "execution_count": null,
   "id": "af67a83f-2f08-4780-9ca6-b696f7ffb73d",
   "metadata": {
    "scrolled": true
   },
   "outputs": [],
   "source": [
    "# execute the trajectory generated to move the left manipulator to zero position\n",
    "for i in range(len(lm_traj[1])):\n",
    "    start_time = time.perf_counter()\n",
    "    state = hardware.readRealRobotState()\n",
    "    state.qd = np.zeros((state.qd).size)\n",
    "    state.qdd = np.zeros((state.qdd).size)\n",
    "    gravity_torque = robot.get_joint_compensation_torque(state.q,state.qd,state.qdd)\n",
    "    hardware.setControlGroupPosCmd(\"left_manipulator\",lm_traj[1][i],np.zeros(7),gravity_torque[group_joint_vel_order[\"left_manipulator\"]])\n",
    "    state = hardware.readRealRobotState()\n",
    "    \n",
    "    end_time = time.perf_counter()\n",
    "    execution_time = (end_time - start_time)\n",
    "    if  execution_time < 1.0/400 :\n",
    "        time.sleep(0.0025-execution_time)\n",
    "    else:\n",
    "        print(\"control loop is slow\",execution_time)"
   ]
  },
  {
   "cell_type": "code",
   "execution_count": null,
   "id": "66a4915e-af39-4d22-833b-997e55848cfa",
   "metadata": {},
   "outputs": [
    {
     "name": "stdout",
     "output_type": "stream",
     "text": [
      "[0.         0.         0.         0.         0.         0.\n",
      " 0.         0.05787623]\n"
     ]
    }
   ],
   "source": [
    "# generate the trajectory of the robot's waist joint from the current position to the zero position\n",
    "waist_point_init = [-0.0]\n",
    "waist_state = hardware.getControlGroupState(\"waist\")\n",
    "print(waist_state.q)\n",
    "waist_traj = fourier_hardware_py.bridgeTrajectory(waist_state.q[-1:], waist_point_init)"
   ]
  },
  {
   "cell_type": "code",
   "execution_count": null,
   "id": "a6c8bb85-7ce8-48e8-a368-e26140e33468",
   "metadata": {},
   "outputs": [],
   "source": [
    "# exceute the trajectory generated above to move the waist to zero position\n",
    "for i in range(len(waist_traj[1])):\n",
    "    start_time = time.perf_counter()\n",
    "    state = hardware.readRealRobotState()\n",
    "    state.qd = np.zeros((state.qd).size)\n",
    "    state.qdd = np.zeros((state.qdd).size)\n",
    "    gravity_torque = robot.get_joint_compensation_torque(state.q,state.qd,state.qdd)\n",
    "    hardware.setControlGroupPosCmd(\"waist\",waist_traj[1][i])\n",
    "    state = hardware.readRealRobotState()\n",
    "    \n",
    "    end_time = time.perf_counter()\n",
    "    execution_time = (end_time - start_time)\n",
    "    if  execution_time < 1.0/400 :\n",
    "        time.sleep(0.0025-execution_time)\n",
    "    else:\n",
    "        print(\"control loop is slow\",execution_time)"
   ]
  },
  {
   "cell_type": "code",
   "execution_count": null,
   "id": "b468279e-971c-484d-a12a-2323cd7dd064",
   "metadata": {},
   "outputs": [
    {
     "name": "stdout",
     "output_type": "stream",
     "text": [
      "[ 0.          0.          0.          0.          0.          0.\n",
      "  0.         -0.07118839  0.08118156]\n"
     ]
    }
   ],
   "source": [
    "# generate the trajectory of the robot's head joint from the current position to the zero position\n",
    "head_point_init = [0.0, 0.0]\n",
    "head_state = hardware.getControlGroupState(\"head\")\n",
    "print(head_state.q)\n",
    "head_traj = fourier_hardware_py.bridgeTrajectory(head_state.q[-2:], head_point_init)"
   ]
  },
  {
   "cell_type": "code",
   "execution_count": null,
   "id": "9f6fb43e-9106-4f45-ba6c-a1e4a22c027b",
   "metadata": {},
   "outputs": [],
   "source": [
    "# exceute the trajectory generated above to move the head to zero position\n",
    "for i in range(len(head_traj[1])):\n",
    "    start_time = time.perf_counter()\n",
    "    \n",
    "    state = hardware.readRealRobotState()\n",
    "    state.qd = np.zeros((state.qd).size)\n",
    "    state.qdd = np.zeros((state.qdd).size)\n",
    "    gravity_torque = robot.get_joint_compensation_torque(state.q,state.qd,state.qdd)\n",
    "    hardware.setControlGroupPosCmd(\"head\",head_traj[1][i])\n",
    "    state = hardware.readRealRobotState()\n",
    "    \n",
    "    end_time = time.perf_counter()\n",
    "    execution_time = (end_time - start_time)\n",
    "    if  execution_time < 1.0/400 :\n",
    "        time.sleep(0.0025-execution_time)\n",
    "    else:\n",
    "        print(\"control loop is slow\",execution_time)"
   ]
  },
  {
   "cell_type": "code",
   "execution_count": null,
   "id": "97e74e71-1040-47d7-b41b-a82155b32f70",
   "metadata": {},
   "outputs": [
    {
     "name": "stdout",
     "output_type": "stream",
     "text": [
      "[ 0.          0.          0.          0.          0.          0.\n",
      "  0.         -0.44437818  0.01144917  0.08791179  0.42361097 -0.29711867\n",
      " -0.01354484]\n"
     ]
    }
   ],
   "source": [
    "# generate the trajectory of the robot's left leg from the current position to the zero position\n",
    "left_leg_point_init = [0.0, 0.0,0.0,0.0, 0.0, 0.0]\n",
    "left_leg_state = hardware.getControlGroupState(\"left_leg\")\n",
    "print(left_leg_state.q)\n",
    "left_leg_traj = fourier_hardware_py.bridgeTrajectory(left_leg_state.q[-6:], left_leg_point_init)"
   ]
  },
  {
   "cell_type": "code",
   "execution_count": null,
   "id": "b6ed7953-3d97-4c18-a889-b144b4969f0f",
   "metadata": {},
   "outputs": [],
   "source": [
    "# excecute the trajectory genetated to move the left leg to zero position\n",
    "for i in range(len(left_leg_traj[1])):\n",
    "    start_time = time.perf_counter()\n",
    "    state = hardware.readRealRobotState()\n",
    "    state.qd = np.zeros((state.qd).size)\n",
    "    state.qdd = np.zeros((state.qdd).size)\n",
    "    gravity_torque = robot.get_joint_compensation_torque(state.q,state.qd,state.qdd)\n",
    "    hardware.setControlGroupPosCmd(\"left_leg\",left_leg_traj[1][i])\n",
    "    state = hardware.readRealRobotState()\n",
    "    \n",
    "    end_time = time.perf_counter()\n",
    "    execution_time = (end_time - start_time)\n",
    "    if  execution_time < 1.0/400 :\n",
    "        time.sleep(0.0025-execution_time)\n",
    "    else:\n",
    "        print(\"control loop is slow\",execution_time)"
   ]
  },
  {
   "cell_type": "code",
   "execution_count": null,
   "id": "00920fdc-0903-4624-a90f-ffddea2dc3a7",
   "metadata": {},
   "outputs": [
    {
     "name": "stdout",
     "output_type": "stream",
     "text": [
      "[ 0.          0.          0.          0.          0.          0.\n",
      "  0.         -0.37289606  0.03074731  0.14017145  0.37487368 -0.30617617\n",
      "  0.01289041]\n"
     ]
    }
   ],
   "source": [
    "# generate the trajectory of the robot's right leg from the current position to the zero position\n",
    "right_leg_point_init = [0.0, 0.0,0.0,0.0, 0.0, 0.0]\n",
    "right_leg_state = hardware.getControlGroupState(\"right_leg\")\n",
    "print(right_leg_state.q)\n",
    "right_leg_traj = fourier_hardware_py.bridgeTrajectory(right_leg_state.q[-6:], right_leg_point_init)"
   ]
  },
  {
   "cell_type": "code",
   "execution_count": null,
   "id": "f5cf9b3c-acb7-452f-8b36-21c7c3ea26e5",
   "metadata": {},
   "outputs": [],
   "source": [
    "# excecute the trajectory genetated to move the right leg to zero position\n",
    "for i in range(len(right_leg_traj[1])):\n",
    "    start_time = time.perf_counter()\n",
    "    state = hardware.readRealRobotState()\n",
    "    state.qd = np.zeros((state.qd).size)\n",
    "    state.qdd = np.zeros((state.qdd).size)\n",
    "    gravity_torque = robot.get_joint_compensation_torque(state.q,state.qd,state.qdd)\n",
    "    hardware.setControlGroupPosCmd(\"right_leg\",right_leg_traj[1][i])\n",
    "    state = hardware.readRealRobotState()\n",
    "    end_time = time.perf_counter()\n",
    "    execution_time = (end_time - start_time)\n",
    "    if  execution_time < 1.0/400 :\n",
    "        time.sleep(0.0025-execution_time)\n",
    "    else:\n",
    "        print(\"control loop is slow\",execution_time)"
   ]
  },
  {
   "cell_type": "code",
   "execution_count": null,
   "id": "cc24b0b9-1969-43fa-b660-6f07c1c5d491",
   "metadata": {
    "scrolled": true
   },
   "outputs": [
    {
     "name": "stdout",
     "output_type": "stream",
     "text": [
      "[-3.10000365e-03 -4.84231530e-03  6.07732396e+02 -6.41495937e+00\n",
      "  1.90972705e+01  1.89363015e-03 -2.37918257e+00  1.22717004e+00\n",
      " -4.57144545e-01  4.16662888e+00  5.93708219e-03 -3.91233890e-01\n",
      "  1.66646919e+01 -1.20043858e+00 -3.56332761e-01  7.76378233e+00\n",
      " -1.49506666e-03 -9.35917836e-02  5.07350019e-04  3.98534162e-06\n",
      " -4.38111461e-01 -2.90889742e-01  1.36533127e-02 -9.92231193e-04\n",
      " -1.17515184e-01 -7.61478786e-04 -4.86104274e-02 -2.11125685e-03\n",
      " -2.95321962e-01 -1.96549986e-01  5.99203300e-04 -1.22503087e-01\n",
      "  2.26971335e-04 -5.00821472e-02 -1.85259033e-03]\n",
      "[-0.29088974  0.01365331 -0.00099223 -0.11751518 -0.00076148 -0.04861043\n",
      " -0.00211126]\n"
     ]
    }
   ],
   "source": [
    "# calculate and print the gravity torque\n",
    "gravity_torque = robot.get_joint_compensation_torque(state.q,state.qd,state.qdd)\n",
    "print(gravity_torque)\n",
    "print(gravity_torque[group_joint_vel_order[\"left_manipulator\"]])"
   ]
  },
  {
   "cell_type": "code",
   "execution_count": null,
   "id": "d4cb22ee-05f4-44de-9591-1ca7e31839f0",
   "metadata": {
    "scrolled": true
   },
   "outputs": [],
   "source": [
    "position_desired = np.zeros(17)  # deg\n",
    "ERROR_CODE = 50 \n",
    "\n",
    "# set the frequency of the loop\n",
    "sim_dt = 0.0025\n",
    "sim_duration = 60.00\n",
    "sim_steps = int(sim_duration / sim_dt)\n",
    "\n",
    "for k in range(sim_steps):\n",
    "    start_time = time.perf_counter()\n",
    "    # current control\n",
    "    position_desired[0] = (15 * math.sin(0.0025 * k - math.pi / 2) + 15) # waist_yaw_joint\n",
    "\n",
    "    position_desired[1] = -(15 * math.sin(0.0025 * k)) # head_yaw_joint\n",
    "    position_desired[2] = -(15 * math.sin(0.0025 * k)) # head_pitch_joint\n",
    "    \n",
    "    position_desired[3] = -(40 * math.sin(0.0025 * k - math.pi / 2) + 40) # left_shoulder_pitch_joint\n",
    "    position_desired[4] = 40 * math.sin(0.0025 * k - math.pi / 2) + 40 # left_shoulder_roll_joint\n",
    "    position_desired[5] = -(40 * math.sin(0.0025 * k - math.pi / 2) + 40) # left_shoulder_yaw_joint\n",
    "    position_desired[6] = -(40 * math.sin(0.0025 * k - math.pi / 2) + 40) # left_elbow_pitch_joint\n",
    "    position_desired[7] = -(40 * math.sin(0.0025 * k - math.pi / 2) + 40) # left_wrist_yaw_joint\n",
    "    position_desired[8] = -(10 * math.sin(0.0025 * k)) # left_wrist_roll_joint\n",
    "    position_desired[9] = -(10 * math.sin(0.0025 * k)) # left_wrist_pitch_joint\n",
    "    \n",
    "    position_desired[10] = -(40 * math.sin(0.0025 * k - math.pi / 2) + 40) # right_shoulder_pitch_joint\n",
    "    position_desired[11] = -(40 * math.sin(0.0025 * k - math.pi / 2) + 40) # right_shoulder_roll_joint\n",
    "    position_desired[12] = 40 * math.sin(0.0025 * k - math.pi / 2) + 40 # right_shoulder_yaw_joint\n",
    "    position_desired[13] = -(40 * math.sin(0.0025 * k - math.pi / 2) + 40) # right_elbow_pitch_joint\n",
    "    position_desired[14] = 40 * math.sin(0.0025 * k - math.pi / 2) + 40 # right_wrist_yaw_joint\n",
    "    position_desired[15] = -(10 * math.sin(0.0025 * k)) # right_wrist_roll_joint\n",
    "    position_desired[16] =  -(10 * math.sin(0.0025 * k)) # right_wrist_pitch_joint\n",
    "\n",
    "    # convert joint position from degree to radian\n",
    "    position_desired = np.deg2rad(position_desired)\n",
    "\n",
    "    # return the number of times the control group has lost connection continuously (the maximum observation value is 50)\n",
    "    motor_stats = hardware.getGroupsLoss()\n",
    "    # check the hardware status of the real robot, if any motor is disconnected, the control loop will be interrupted and return an error message\n",
    "    if ERROR_CODE in motor_stats.values():\n",
    "        print(f\"motor get error.\")\n",
    "        break\n",
    "\n",
    "    state = hardware.readRealRobotState()\n",
    "    state.qd = np.zeros((state.qd).size)\n",
    "    state.qdd = np.zeros((state.qdd).size)\n",
    "    gravity_torque = robot.get_joint_compensation_torque(state.q,state.qd,state.qdd)\n",
    "    \n",
    "    # execute the trajectory\n",
    "    hardware.setControlGroupPosCmd(\"left_manipulator\",position_desired[3:10],np.zeros(7),gravity_torque[group_joint_vel_order[\"left_manipulator\"]])\n",
    "    hardware.setControlGroupPosCmd(\"right_manipulator\",position_desired[10:17],np.zeros(7),gravity_torque[group_joint_vel_order[\"right_manipulator\"]])\n",
    "    hardware.setControlGroupPosCmd(\"waist\", np.array([position_desired[0]]))\n",
    "    hardware.setControlGroupPosCmd(\"head\", position_desired[1:3])\n",
    "    \n",
    "    end_time = time.perf_counter()\n",
    "    execution_time = (end_time - start_time)\n",
    "    if  execution_time < 1.0/400 :\n",
    "        time.sleep(0.0025-execution_time)\n",
    "    else:\n",
    "        print(\"control loop is slow\",execution_time)\n"
   ]
  },
  {
   "cell_type": "code",
   "execution_count": 14,
   "id": "f73bc0d7-a7c7-4374-a1bc-f99a8d6f15bd",
   "metadata": {},
   "outputs": [
    {
     "name": "stdout",
     "output_type": "stream",
     "text": [
      "MOTOR: 192.168.137.93, DISABLE SUCCESS! \n"
     ]
    },
    {
     "data": {
      "text/plain": [
       "True"
      ]
     },
     "execution_count": 14,
     "metadata": {},
     "output_type": "execute_result"
    },
    {
     "name": "stdout",
     "output_type": "stream",
     "text": [
      "MOTOR: 192.168.137.95, DISABLE SUCCESS! \n",
      "MOTOR: 192.168.137.10, DISABLE SUCCESS! \n",
      "MOTOR: 192.168.137.11, DISABLE SUCCESS! \n",
      "MOTOR: 192.168.137.12, DISABLE SUCCESS! \n",
      "MOTOR: 192.168.137.13, DISABLE SUCCESS! \n",
      "MOTOR: 192.168.137.14, DISABLE SUCCESS! \n",
      "MOTOR: 192.168.137.15, DISABLE SUCCESS! \n",
      "MOTOR: 192.168.137.16, DISABLE SUCCESS! \n",
      "MOTOR: 192.168.137.30, DISABLE SUCCESS! \n",
      "MOTOR: 192.168.137.31, DISABLE SUCCESS! \n",
      "MOTOR: 192.168.137.32, DISABLE SUCCESS! \n",
      "MOTOR: 192.168.137.33, DISABLE SUCCESS! \n",
      "MOTOR: 192.168.137.34, DISABLE SUCCESS! \n",
      "MOTOR: 192.168.137.35, DISABLE SUCCESS! \n",
      "MOTOR: 192.168.137.36, DISABLE SUCCESS! \n",
      "MOTOR: 192.168.137.90, DISABLE SUCCESS! \n",
      "[2025-02-28 09:55:32] [12182] [error] head loss message more than 50 times .\n",
      "[2025-02-28 09:55:32] [12182] [error] left_manipulator loss message more than 50 times .\n",
      "[2025-02-28 09:55:32] [12182] [error] right_manipulator loss message more than 50 times .\n",
      "[2025-02-28 09:55:33] [12182] [error] head loss message more than 50 times .\n",
      "[2025-02-28 09:55:33] [12182] [error] left_manipulator loss message more than 50 times .\n",
      "[2025-02-28 09:55:33] [12182] [error] right_manipulator loss message more than 50 times .\n",
      "[2025-02-28 09:55:34] [12182] [error] head loss message more than 50 times .\n",
      "[2025-02-28 09:55:34] [12182] [error] left_manipulator loss message more than 50 times .\n",
      "[2025-02-28 09:55:34] [12182] [error] right_manipulator loss message more than 50 times .\n",
      "[2025-02-28 09:55:35] [12182] [error] head loss message more than 50 times .\n",
      "[2025-02-28 09:55:35] [12182] [error] left_manipulator loss message more than 50 times .\n",
      "[2025-02-28 09:55:35] [12182] [error] right_manipulator loss message more than 50 times .\n",
      "[2025-02-28 09:55:37] [12182] [error] head loss message more than 50 times .\n",
      "[2025-02-28 09:55:37] [12182] [error] left_manipulator loss message more than 50 times .\n",
      "[2025-02-28 09:55:37] [12182] [error] right_manipulator loss message more than 50 times .\n",
      "[2025-02-28 09:56:54] [12182] [error] left_manipulator loss message more than 50 times .\n",
      "[2025-02-28 09:56:54] [12182] [error] right_manipulator loss message more than 50 times .\n",
      "[2025-02-28 09:56:55] [12182] [error] left_manipulator loss message more than 50 times .\n",
      "[2025-02-28 09:56:55] [12182] [error] right_manipulator loss message more than 50 times .\n",
      "[2025-02-28 09:56:57] [12182] [error] head loss message more than 50 times .\n",
      "[2025-02-28 09:56:57] [12182] [error] left_manipulator loss message more than 50 times .\n",
      "[2025-02-28 09:56:57] [12182] [error] right_manipulator loss message more than 50 times .\n",
      "[2025-02-28 09:56:57] [12182] [error] waist loss message more than 50 times .\n",
      "[2025-02-28 09:56:58] [12182] [error] head loss message more than 50 times .\n",
      "[2025-02-28 09:56:58] [12182] [error] left_manipulator loss message more than 50 times .\n",
      "[2025-02-28 09:56:58] [12182] [error] right_manipulator loss message more than 50 times .\n",
      "[2025-02-28 09:56:58] [12182] [error] waist loss message more than 50 times .\n",
      "[2025-02-28 09:56:59] [12182] [error] head loss message more than 50 times .\n",
      "[2025-02-28 09:56:59] [12182] [error] left_manipulator loss message more than 50 times .\n",
      "[2025-02-28 09:56:59] [12182] [error] right_manipulator loss message more than 50 times .\n",
      "[2025-02-28 09:56:59] [12182] [error] waist loss message more than 50 times .\n",
      "[2025-02-28 09:57:00] [12182] [error] head loss message more than 50 times .\n",
      "[2025-02-28 09:57:00] [12182] [error] left_manipulator loss message more than 50 times .\n",
      "[2025-02-28 09:57:00] [12182] [error] right_manipulator loss message more than 50 times .\n",
      "[2025-02-28 09:57:00] [12182] [error] waist loss message more than 50 times .\n",
      "[2025-02-28 09:57:01] [12182] [error] head loss message more than 50 times .\n",
      "[2025-02-28 09:57:01] [12182] [error] left_manipulator loss message more than 50 times .\n",
      "[2025-02-28 09:57:01] [12182] [error] right_manipulator loss message more than 50 times .\n",
      "[2025-02-28 09:57:01] [12182] [error] waist loss message more than 50 times .\n",
      "[2025-02-28 09:57:02] [12182] [error] head loss message more than 50 times .\n",
      "[2025-02-28 09:57:02] [12182] [error] left_manipulator loss message more than 50 times .\n",
      "[2025-02-28 09:57:02] [12182] [error] right_manipulator loss message more than 50 times .\n",
      "[2025-02-28 09:57:02] [12182] [error] waist loss message more than 50 times .\n",
      "[2025-02-28 09:57:03] [12182] [error] head loss message more than 50 times .\n",
      "[2025-02-28 09:57:03] [12182] [error] left_manipulator loss message more than 50 times .\n",
      "[2025-02-28 09:57:03] [12182] [error] right_manipulator loss message more than 50 times .\n",
      "[2025-02-28 09:57:03] [12182] [error] waist loss message more than 50 times .\n",
      "[2025-02-28 09:57:04] [12182] [error] head loss message more than 50 times .\n",
      "[2025-02-28 09:57:04] [12182] [error] left_manipulator loss message more than 50 times .\n",
      "[2025-02-28 09:57:04] [12182] [error] right_manipulator loss message more than 50 times .\n",
      "[2025-02-28 09:57:04] [12182] [error] waist loss message more than 50 times .\n"
     ]
    }
   ],
   "source": [
    "hardware.disableRobot()"
   ]
  },
  {
   "cell_type": "code",
   "execution_count": null,
   "id": "52c6c8fc-57f2-4da2-b9db-ecbf0f737433",
   "metadata": {},
   "outputs": [],
   "source": []
  }
 ],
 "metadata": {
  "kernelspec": {
   "display_name": "Python 3 (ipykernel)",
   "language": "python",
   "name": "python3"
  },
  "language_info": {
   "codemirror_mode": {
    "name": "ipython",
    "version": 3
   },
   "file_extension": ".py",
   "mimetype": "text/x-python",
   "name": "python",
   "nbconvert_exporter": "python",
   "pygments_lexer": "ipython3",
   "version": "3.10.12"
  }
 },
 "nbformat": 4,
 "nbformat_minor": 5
}
