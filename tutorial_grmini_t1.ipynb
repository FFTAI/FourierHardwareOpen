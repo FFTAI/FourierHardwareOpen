{
 "cells": [
  {
   "cell_type": "code",
   "execution_count": 1,
   "id": "a9779aeb-21df-4206-9d38-51fb17121cb2",
   "metadata": {},
   "outputs": [],
   "source": [
    "# 1. 请先使用上位机升级机器人电机通信固件版本到0.3.12.25 以上，驱动固件版本升级到0.2.10.20 以上 详细使用请参考上位机使用说明\n",
    "# 2. 请使用上位机对机器人零位进行标定,无绝编可不标\n",
    "# 3. 请使用上位机调整机器人电机pd参数（注意不是pid参数），参考值：上肢（头腰双臂）p：100，d：0，可以根据软硬自己调节\n",
    "# 4. 请使用指定的docker镜像进行开发，请使用开源仓库中的docker启动脚本启动docker"
   ]
  },
  {
   "cell_type": "code",
   "execution_count": 2,
   "id": "797ec122-b93d-413c-8ece-52c0e96bd38f",
   "metadata": {},
   "outputs": [],
   "source": [
    "# fourier_hardware_py 用于对机器人进行分组控制\n",
    "import fourier_hardware_py\n",
    "# grx_sot_py 用于对机器人进行运动学，动力学求解\n",
    "import grx_sot_py"
   ]
  },
  {
   "cell_type": "code",
   "execution_count": 3,
   "id": "5671e940-8c70-4eb2-a527-b393d2a07765",
   "metadata": {},
   "outputs": [],
   "source": [
    "# 加载对应机型的config配置文件\n",
    "config = fourier_hardware_py.HardwareConfigHelper(\"/usr/local/config/fourier_hardware/grmini_t1\")"
   ]
  },
  {
   "cell_type": "code",
   "execution_count": 4,
   "id": "a593de43-c59c-4be9-af31-d7c69b052b97",
   "metadata": {},
   "outputs": [
    {
     "data": {
      "text/plain": [
       "True"
      ]
     },
     "execution_count": 4,
     "metadata": {},
     "output_type": "execute_result"
    }
   ],
   "source": [
    "# 配置上肢控制组在ft模式（注意ft模型的控制组必须在电机enable之后立刻发送力矩命令），配置下肢控制组为pd模式\n",
    "config.changeControlGroupMotorMode(\"left_manipulator\",\"ft\")\n",
    "config.changeControlGroupMotorMode(\"right_manipulator\",\"ft\")\n",
    "config.changeControlGroupMotorMode(\"waist\",\"pd\")\n",
    "config.changeControlGroupMotorMode(\"left_leg\",\"pd\")\n",
    "config.changeControlGroupMotorMode(\"right_leg\",\"pd\")\n",
    "config.changePubState(True)"
   ]
  },
  {
   "cell_type": "code",
   "execution_count": null,
   "id": "e37fe119-6ca3-49bb-8d6a-83aebef98da4",
   "metadata": {
    "scrolled": true
   },
   "outputs": [],
   "source": [
    "# 此处会尝试与机器人建立连接，如果失败（存在control group无法连接），将会持续报错，请先检查机器人关节ip是否可以ping通，\n",
    "# 如果不能ping通，请尝试重启机器人或寻求硬件支持\n",
    "hardware = fourier_hardware_py.FourierHardware(\"/usr/local/config/fourier_hardware/grmini_t1\",config)"
   ]
  },
  {
   "cell_type": "code",
   "execution_count": 6,
   "id": "b4548e3e-f90e-432b-a642-e1c8cdfc14e5",
   "metadata": {},
   "outputs": [],
   "source": [
    "# 根据配置文件定义对应的机器人类，支持运动学、动力学求解\n",
    "robot = grx_sot_py.RobotWrapper(\"/usr/local/config/fourier_hardware/grmini_t1\", grx_sot_py.Flags.ignore_collisions)"
   ]
  },
  {
   "cell_type": "code",
   "execution_count": 7,
   "id": "789d6d3a-bfd7-472d-963c-7dd4b4b397d1",
   "metadata": {},
   "outputs": [],
   "source": [
    "# 定义机器人对应的控制组和与控制组匹配的关节顺序，输出对应的字典信息\n",
    "group_names = []\n",
    "group_joints = []\n",
    "group_joints_pos_order = {}\n",
    "group_joint_vel_order = {}\n",
    "\n",
    "for group_name in config.getControlGroupNames():\n",
    "    if config.getControlGroupMotorMode(group_name)== \"ignore\":\n",
    "        continue\n",
    "    group_names.append(group_name)\n",
    "    robot_joint_names = hardware.getControlGroupJointNames(group_name)\n",
    "    group_joints.append(robot_joint_names)\n",
    "    joint_pos_orders = []\n",
    "    joint_vel_orders = []\n",
    "    for robot_joint_name in robot_joint_names:\n",
    "        joint_pos_orders.append(robot.get_joint_offset(robot_joint_name))\n",
    "        joint_vel_orders.append(robot.get_joint_v_offset(robot_joint_name))\n",
    "    group_joints_pos_order[group_name]= joint_pos_orders\n",
    "    group_joint_vel_order[group_name] = joint_vel_orders"
   ]
  },
  {
   "cell_type": "code",
   "execution_count": 8,
   "id": "4bb68068-ac5c-4b7a-b650-e86897aa43e9",
   "metadata": {},
   "outputs": [
    {
     "name": "stdout",
     "output_type": "stream",
     "text": [
      "grmini_t1\n",
      "['waist', 'left_manipulator', 'right_manipulator', 'left_leg', 'right_leg']\n"
     ]
    }
   ],
   "source": [
    "print(config.getRobotName())\n",
    "print(config.getControlGroupNames())"
   ]
  },
  {
   "cell_type": "code",
   "execution_count": null,
   "id": "01ec703c-d735-4160-9cad-a97259efce09",
   "metadata": {
    "scrolled": true
   },
   "outputs": [],
   "source": [
    "result = hardware.enableControlGroup(\"waist\")\n",
    "reuslt = hardware.enableControlGroup(\"left_leg\") and result \n",
    "result = hardware.enableControlGroup(\"right_leg\") and result\n",
    "# result 为 true 代表控制组正常使能\n",
    "print(result)"
   ]
  },
  {
   "cell_type": "code",
   "execution_count": 10,
   "id": "26d51db3-05e4-4edf-b83b-4ae4dfe92d80",
   "metadata": {},
   "outputs": [],
   "source": [
    "# 获取机器人当前状态下的对应控制组['waist', 'head', 'left_manipulator', 'right_manipulator', 'left_leg', 'right_leg']的关节qpos(rad),\n",
    "ll = hardware.getControlGroupState(\"left_leg\")\n",
    "rl = hardware.getControlGroupState(\"right_leg\")\n"
   ]
  },
  {
   "cell_type": "code",
   "execution_count": 11,
   "id": "dcbfbd0b-e121-46d9-b8b1-279ff9b2e84b",
   "metadata": {
    "scrolled": true
   },
   "outputs": [],
   "source": [
    "# 生成机器人双腿关节从当前位置到零位的轨迹\n",
    "import numpy as np\n",
    "leg_init = [-0.312, 0.0, 0.0, 0.669, 0.0, -0.363]\n",
    "ll_traj = fourier_hardware_py.bridgeTrajectory(ll.q[-6:],leg_init)\n",
    "rl_traj = fourier_hardware_py.bridgeTrajectory(rl.q[-6:],leg_init)"
   ]
  },
  {
   "cell_type": "code",
   "execution_count": 12,
   "id": "473bbfbc-cab5-49b4-93fe-98878ac45f9f",
   "metadata": {
    "scrolled": true
   },
   "outputs": [],
   "source": [
    "# 执行回零轨迹，驱动左腿控制组关节回到零位\n",
    "import time\n",
    "\n",
    "# for i in range(len(rm_traj[1])):\n",
    "#     start_time = time.perf_counter()\n",
    "#     # 获取机器人真机的状态信息\n",
    "#     state = hardware.readRealRobotState()\n",
    "#     # 由于机器人关节速度和关节加速度观测存在误差，且后续矩阵相乘带来延迟，所以这里不考虑科氏力和惯性力，只考虑重力（对state.qd和state.qdd置零）\n",
    "#     state.qd = np.zeros((state.qd).size)\n",
    "#     state.qdd = np.zeros((state.qdd).size)\n",
    "#     # 计算机器人的关节重力补偿力矩，并通过PD的前馈补偿该部分力矩，提高控制精度\n",
    "#     regressor = robot.get_joint_torque_regressor(state.q,state.qd,state.qdd)\n",
    "#     params = robot.get_inertia_params()\n",
    "#     gravity_torque = regressor.dot(params)\n",
    "#     hardware.setControlGroupPosCmd(\"right_manipulator\",rm_traj[1][i],np.zeros(5),gravity_torque[group_joint_vel_order[\"right_manipulator\"]])\n",
    "#     state = hardware.readRealRobotState()\n",
    "\n",
    "#     end_time = time.perf_counter()\n",
    "#     #计算控制循环的周期，保持控制频率的稳定\n",
    "#     execution_time = (end_time - start_time)\n",
    "#     if  execution_time < 1.0/400 :\n",
    "#         time.sleep(0.0025-execution_time)\n",
    "#     else:\n",
    "#         print(\"control loop is slow\",execution_time)\n",
    "\n",
    "for i in range(len(ll_traj[1])):\n",
    "    start_time = time.perf_counter()\n",
    "    # 获取机器人真机的状态信息\n",
    "    hardware.setControlGroupPosCmd(\"left_leg\",ll_traj[1][i])\n",
    "    state = hardware.readRealRobotState()\n",
    "\n",
    "    end_time = time.perf_counter()\n",
    "    #计算控制循环的周期，保持控制频率的稳定\n",
    "    execution_time = (end_time - start_time)\n",
    "    if  execution_time < 1.0/400 :\n",
    "        time.sleep(0.0025-execution_time)\n",
    "    else:\n",
    "        print(\"control loop is slow\",execution_time)"
   ]
  },
  {
   "cell_type": "code",
   "execution_count": 13,
   "id": "af67a83f-2f08-4780-9ca6-b696f7ffb73d",
   "metadata": {
    "scrolled": true
   },
   "outputs": [],
   "source": [
    "# 驱动右腿控制组关节回到零位\n",
    "import time\n",
    "\n",
    "# for i in range(len(lm_traj[1])):\n",
    "#     start_time = time.perf_counter()\n",
    "#     # 获取机器人真机的状态信息\n",
    "    \n",
    "#     state = hardware.readRealRobotState()\n",
    "#     # 由于机器人关节速度和关节加速度观测存在误差，且后续矩阵相乘带来延迟，所以这里不考虑科氏力和惯性力，只考虑重力（对state.qd和state.qdd置零）\n",
    "#     state.qd = np.zeros((state.qd).size)\n",
    "#     state.qdd = np.zeros((state.qdd).size)\n",
    "#     # 计算机器人的关节重力补偿力矩，并通过PD的前馈补偿该部分力矩，提高控制精度\n",
    "#     regressor = robot.get_joint_torque_regressor(state.q,state.qd,state.qdd)\n",
    "#     params = robot.get_inertia_params()\n",
    "#     gravity_torque = regressor.dot(params)\n",
    "#     hardware.setControlGroupPosCmd(\"left_manipulator\",lm_traj[1][i])\n",
    "#     state = hardware.readRealRobotState()\n",
    "    \n",
    "#     end_time = time.perf_counter()\n",
    "#     #计算控制循环的周期，保持控制频率的稳定\n",
    "#     execution_time = (end_time - start_time)\n",
    "#     if  execution_time < 1.0/400 :\n",
    "#         time.sleep(0.0025-execution_time)\n",
    "#     else:\n",
    "        # print(\"control loop is slow\",execution_time)\n",
    "for i in range(len(rl_traj[1])):\n",
    "    start_time = time.perf_counter()\n",
    "    # 获取机器人真机的状态信息\n",
    "    hardware.setControlGroupPosCmd(\"right_leg\",rl_traj[1][i])\n",
    "    state = hardware.readRealRobotState()\n",
    "\n",
    "    end_time = time.perf_counter()\n",
    "    #计算控制循环的周期，保持控制频率的稳定\n",
    "    execution_time = (end_time - start_time)\n",
    "    if execution_time < 1.0/400:\n",
    "        time.sleep(0.0025 - execution_time)\n",
    "    else:\n",
    "        print(\"control loop is slow\", execution_time)"
   ]
  },
  {
   "cell_type": "code",
   "execution_count": 26,
   "id": "2e0f962d-0c14-41de-80ba-fe41acd2bdb0",
   "metadata": {},
   "outputs": [
    {
     "name": "stdout",
     "output_type": "stream",
     "text": [
      "True\n"
     ]
    }
   ],
   "source": [
    "# 设置控制组临时pd参数\n",
    "result = hardware.setControlGroupPIDParams(\"left_leg\",[100,100,100,100,20,10],[0,0,0,0,0,0],[0,0,0,0,0,0])\n",
    "result = hardware.setControlGroupPIDParams(\"waist\",[10],[0],[1]) and result\n",
    "result = hardware.setControlGroupPIDParams(\"right_leg\",[100,100,100,100,20,10],[0,0,0,0,0,0],[0,0,0,0,0,0]) and result\n",
    "# 根据result结果可以判定是否设置成功\n",
    "print(result)"
   ]
  },
  {
   "cell_type": "code",
   "execution_count": 15,
   "id": "afdeb934-5d69-4e89-8ec4-9956bfbb8e44",
   "metadata": {},
   "outputs": [
    {
     "name": "stdout",
     "output_type": "stream",
     "text": [
      "True\n",
      "[2025-05-14 14:58:54] [19333] [error] 192.168.137.90 Get subscribe data failed with code: -302\n"
     ]
    }
   ],
   "source": [
    "# 尝试切换控制组的控制模式\n",
    "result = hardware.changeGroupMode(\"waist\", fourier_hardware_py.MotorMode.kPosition)\n",
    "print(result)"
   ]
  },
  {
   "cell_type": "code",
   "execution_count": 24,
   "id": "6b1f0224-e3a9-4b12-b175-1f3d3c57ce64",
   "metadata": {},
   "outputs": [
    {
     "data": {
      "text/plain": [
       "True"
      ]
     },
     "execution_count": 24,
     "metadata": {},
     "output_type": "execute_result"
    }
   ],
   "source": [
    "hardware.setControlGroupPosCmd(\"waist\",[0.1])"
   ]
  },
  {
   "cell_type": "code",
   "execution_count": 22,
   "id": "8cade048-10e9-4e5b-b569-33929b0e639b",
   "metadata": {},
   "outputs": [
    {
     "data": {
      "text/plain": [
       "True"
      ]
     },
     "execution_count": 22,
     "metadata": {},
     "output_type": "execute_result"
    }
   ],
   "source": [
    "hardware.setControlGroupPIDParams(\"waist\",[0.1],[0.0001],[0.13])"
   ]
  },
  {
   "cell_type": "code",
   "execution_count": 25,
   "id": "b6d348ca-5578-42d4-b861-fead6161a463",
   "metadata": {},
   "outputs": [
    {
     "name": "stdout",
     "output_type": "stream",
     "text": [
      "True\n"
     ]
    }
   ],
   "source": [
    "result = hardware.changeGroupMode(\"waist\", fourier_hardware_py.MotorMode.kPD)\n",
    "print(result)"
   ]
  },
  {
   "cell_type": "code",
   "execution_count": null,
   "id": "4e9e5daf-71ca-4748-8290-bc3d0e2df8b2",
   "metadata": {},
   "outputs": [],
   "source": [
    "# 使能整个机器人\n",
    "import numpy as np\n",
    "import math\n",
    "import time\n",
    "ERROR_CODE = 50 #关节组报错的错误码\n",
    "hardware.enableControlGroup(\"left_manipulator\")\n",
    "hardware.enableControlGroup(\"right_manipulator\")\n",
    "while (True):\n",
    "    start_time = time.perf_counter()\n",
    "\n",
    "    # 返回一个字典，字典的key是control group 的名字，value是连续失去连接的次数（最大观测值是50），如果value等于50，代表该control group 失去连接\n",
    "    # 应该在程序控制周期内实时观测此值，保证程序运行的安全\n",
    "    motor_stats = hardware.getGroupsLoss()\n",
    "    #检查机器人真机的硬件状态，如果机器人使能后某个电机断连，将会切断控制循环命令，并答应错误信息。\n",
    "    if ERROR_CODE in motor_stats.values():\n",
    "        print(f\"motor get error.\")\n",
    "        break\n",
    "\n",
    "    # 获取机器人真机的状态信息\n",
    "    state = hardware.readRealRobotState()\n",
    "    # 由于机器人关节速度和关节加速度观测存在误差，且后续矩阵相乘带来延迟，所以这里不考虑科氏力和惯性力，只考虑重力（对state.qd和state.qdd置零）\n",
    "    state.qd = np.zeros((state.qd).size)\n",
    "    state.qdd = np.zeros((state.qdd).size)\n",
    "    # 计算机器人的关节重力补偿力矩，并通过PD的前馈补偿该部分力矩，提高控制精度\n",
    "    gravity_torque = robot.get_joint_compensation_torque(state.q,state.qd,state.qdd)\n",
    "    \n",
    "    # 针对双臂控制组进行控制，直接设置控制组的力矩命令\n",
    "    hardware.setControlGroupFtCmd(\"left_manipulator\",gravity_torque[group_joint_vel_order[\"left_manipulator\"]])\n",
    "    hardware.setControlGroupFtCmd(\"right_manipulator\",gravity_torque[group_joint_vel_order[\"right_manipulator\"]])\n",
    "    end_time = time.perf_counter()\n",
    "    #计算控制循环的周期，保持控制频率的稳定\n",
    "    execution_time = (end_time - start_time)\n",
    "    if  execution_time < 1.0/400 :\n",
    "        time.sleep(0.0025-execution_time)\n",
    "    else:\n",
    "        print(\"control loop is slow\",execution_time)\n"
   ]
  },
  {
   "cell_type": "code",
   "execution_count": null,
   "id": "f73bc0d7-a7c7-4374-a1bc-f99a8d6f15bd",
   "metadata": {},
   "outputs": [],
   "source": [
    "# 去使能机器人\n",
    "hardware.disableRobot()"
   ]
  },
  {
   "cell_type": "code",
   "execution_count": null,
   "id": "52c6c8fc-57f2-4da2-b9db-ecbf0f737433",
   "metadata": {},
   "outputs": [],
   "source": []
  }
 ],
 "metadata": {
  "kernelspec": {
   "display_name": "Python 3 (ipykernel)",
   "language": "python",
   "name": "python3"
  },
  "language_info": {
   "codemirror_mode": {
    "name": "ipython",
    "version": 3
   },
   "file_extension": ".py",
   "mimetype": "text/x-python",
   "name": "python",
   "nbconvert_exporter": "python",
   "pygments_lexer": "ipython3",
   "version": "3.10.12"
  }
 },
 "nbformat": 4,
 "nbformat_minor": 5
}
