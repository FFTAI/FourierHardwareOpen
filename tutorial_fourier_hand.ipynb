{
 "cells": [
  {
   "cell_type": "code",
   "execution_count": 49,
   "id": "b15f92d8-e4ae-4a1b-8f68-dc400201f74f",
   "metadata": {},
   "outputs": [
    {
     "data": {
      "text/plain": [
       "['left_hand', 'right_hand']"
      ]
     },
     "execution_count": 49,
     "metadata": {},
     "output_type": "execute_result"
    }
   ],
   "source": [
    "import fourier_hardware_py\n",
    "config = fourier_hardware_py.HardwareConfigHelper(\"/usr/local/config/fourier_hardware/gr2t2v2\")\n",
    "# 配置文件中有灵巧手相关字段 \n",
    "config.getHandNames()\n"
   ]
  },
  {
   "cell_type": "code",
   "execution_count": 50,
   "id": "d9dbb55d-b510-4899-bd42-982a205076d7",
   "metadata": {},
   "outputs": [
    {
     "data": {
      "text/plain": [
       "'FDH-6L'"
      ]
     },
     "execution_count": 50,
     "metadata": {},
     "output_type": "execute_result"
    }
   ],
   "source": [
    "left_hand_type = config.getHandType(\"left_hand\")\n",
    "# 灵巧手类型，有FDH-6L,FDH-6R,FDH-12L,FDH-12R\n",
    "left_hand_type"
   ]
  },
  {
   "cell_type": "code",
   "execution_count": 51,
   "id": "83fb7afe-3f26-463d-8a32-cba13dbe818f",
   "metadata": {},
   "outputs": [
    {
     "data": {
      "text/plain": [
       "'FDH-6R'"
      ]
     },
     "execution_count": 51,
     "metadata": {},
     "output_type": "execute_result"
    }
   ],
   "source": [
    "right_hand_type = config.getHandType(\"right_hand\")\n",
    "right_hand_type"
   ]
  },
  {
   "cell_type": "code",
   "execution_count": 52,
   "id": "ed1bfeac-71b2-4604-a21f-e43454e8b4cc",
   "metadata": {},
   "outputs": [
    {
     "data": {
      "text/plain": [
       "'192.168.137.19'"
      ]
     },
     "execution_count": 52,
     "metadata": {},
     "output_type": "execute_result"
    }
   ],
   "source": [
    "# 根据灵巧手的名字获得灵巧手的ip\n",
    "left_hand_ip = config.getHandIP(\"left_hand\")\n",
    "left_hand_ip"
   ]
  },
  {
   "cell_type": "code",
   "execution_count": 53,
   "id": "4961fe57-2eb4-45c7-aaf7-81ab13de06dd",
   "metadata": {},
   "outputs": [
    {
     "data": {
      "text/plain": [
       "'192.168.137.39'"
      ]
     },
     "execution_count": 53,
     "metadata": {},
     "output_type": "execute_result"
    }
   ],
   "source": [
    "right_hand_ip = config.getHandIP(\"right_hand\")\n",
    "right_hand_ip"
   ]
  },
  {
   "cell_type": "code",
   "execution_count": null,
   "id": "42400780-9f45-4eb2-9c79-465c32c691f3",
   "metadata": {},
   "outputs": [],
   "source": [
    "# 构造灵巧手的控制对象\n",
    "dexhand = fourier_hardware_py.DexHand()"
   ]
  },
  {
   "cell_type": "code",
   "execution_count": null,
   "id": "14e05169-c1eb-4b3e-92e5-72d2189f822c",
   "metadata": {},
   "outputs": [],
   "source": [
    "# 灵巧手init()，注意可以根据返回值判断是否init成功\n",
    "ret = dexhand.init()\n",
    "ret"
   ]
  },
  {
   "cell_type": "code",
   "execution_count": null,
   "id": "aad11dfd-e8ca-40cf-8e6c-120a9e82d269",
   "metadata": {},
   "outputs": [],
   "source": [
    "if ret == fourier_hardware_py.DexRet.FAIL:\n",
    "    print(\"dexhand init failed\")\n",
    "elif ret == fourier_hardware_py.DexRet.SUCCESS:\n",
    "    print(\"dexhand init success\")"
   ]
  },
  {
   "cell_type": "code",
   "execution_count": null,
   "id": "76d3c5ca-7c93-499c-b380-0ce5c4fbd95c",
   "metadata": {},
   "outputs": [],
   "source": [
    "# 获取灵巧手init时检测到的ip，可以配置文件中的ip比较，确定ip是否正确\n",
    "ip_list = dexhand.get_ip_list()\n",
    "ip_list"
   ]
  },
  {
   "cell_type": "code",
   "execution_count": null,
   "id": "9c32624c",
   "metadata": {},
   "outputs": [],
   "source": [
    "# position (in radians), velocity, and current values for finger joints. \n",
    "\n",
    "# FDH12 Default Mode: Position control (radians) using P parameter. In PD control mode, uses PVC parameters (Position/Velocity feedforward/Current feedforward).\n",
    "# FDH12 Joint Range Limits (Radians):\n",
    "# Index1-3：0.2～1.69, 0.01～1.43, -0.04～0.26\n",
    "# Middle4-5：0.2～1.69, 0.01～1.43\n",
    "# Ring6-7：0.2～1.69, 0.01～1.43\n",
    "# Little8-9：0.2～1.69, 0.01～1.43\n",
    "# Thumb10-12：-0.02～1.23, 0.14～1.35, 0.2～1.57\n",
    "\n",
    "# FDH6 Default Mode: Position-Velocity control (PV parameters).\n",
    "# FDH6 Joint Range Limits (Radians):\n",
    "# Index1：0.17～1.78\n",
    "# Middle2：0.17～1.78\n",
    "# Ring3：0.17～1.78\n",
    "# Little4：0.17～1.78\n",
    "# Thumb5-6：0.12-1.28, 0.0-1.68\n",
    "\n",
    "print(dexhand.get_pvc(left_hand_ip))\n",
    "print(dexhand.get_pvc(right_hand_ip))\n",
    "\n",
    "command_list = [[0]*6, [0]*6, [0]*6]\n",
    "dexhand.set_pvc(left_hand_ip, command_list)\n",
    "dexhand.set_pvc(right_hand_ip, command_list)"
   ]
  },
  {
   "cell_type": "code",
   "execution_count": null,
   "id": "e3ce6331",
   "metadata": {},
   "outputs": [],
   "source": [
    "# 获取灵巧手位置，返回一个数组，空代表获取失败，最大等待时间100ms \n",
    "# 50 hz 频率get pos，1000次中平均有10次超时，超时时间平均为0.022s，没有发现大规模超时，平均单手get时间约为0.01s，建议一手一线程，get和set不要再一个线程。\n",
    "# set线程很快，不会造成线程堵塞，但是会受到get函数的影响。\n",
    "import threading\n",
    "import time\n",
    "import math\n",
    "\n",
    "# 生成一个放缩到规定范围内的sin函数\n",
    "def rescale_sinus (phase, min_value, max_value):\n",
    "    y = (max_value - min_value)/2*math.sin(phase) + (max_value + min_value)/2\n",
    "    return y\n",
    "\n",
    "\n",
    "def hand_loop(name, ip):\n",
    "    count = 0\n",
    "    start_time = time.perf_counter()\n",
    "    phase = -1.57\n",
    "\n",
    "    while True:\n",
    "        loop_start = time.perf_counter()\n",
    "\n",
    "        # 控制值可变化（模拟控制）\n",
    "        phase += 0.02\n",
    "      \n",
    "        # 以pvc(position, velocity, current)的形式生成控制指令，position是一个正弦曲线，velocity和current为0\n",
    "        command_p = [rescale_sinus(phase,0.17,1.78), # Index1\n",
    "            rescale_sinus(phase,0.17,1.78),          # Middle2\n",
    "            rescale_sinus(phase,0.17,1.78),          # Ring3\n",
    "            rescale_sinus(phase,0.17,1.78),          # Little4\n",
    "            rescale_sinus(phase,0.12,1.28),          # Thumb5\n",
    "            0,                                       # Thumb6\n",
    "            ]\n",
    "        command_v = [0]*6\n",
    "        command_c = [0]*6\n",
    "        command_list = [command_p, command_v, command_c]\n",
    "                \n",
    "        dexhand.set_pvc(ip, command_list)\n",
    "\n",
    "        count += 1\n",
    "        now = time.perf_counter()\n",
    "\n",
    "        if now - start_time >= 1.0:\n",
    "            freq = count / (now - start_time)\n",
    "            # print(f\"[{name}] 频率: {freq:.2f} Hz\")\n",
    "            start_time = now\n",
    "            count = 0\n",
    "\n",
    "        # 精准睡眠（尝试压到100Hz）\n",
    "        duration = time.perf_counter() - loop_start\n",
    "        if duration < 0.01:\n",
    "            time.sleep(0.01 - duration)\n",
    "\n",
    "# 启动两个线程\n",
    "threading.Thread(target=hand_loop, args=(\"left\", left_hand_ip), daemon=True).start()\n",
    "threading.Thread(target=hand_loop, args=(\"right\", right_hand_ip), daemon=True).start()\n"
   ]
  },
  {
   "cell_type": "code",
   "execution_count": 63,
   "id": "317b4317-e2ae-4973-b7c2-3bd74140296b",
   "metadata": {},
   "outputs": [
    {
     "data": {
      "text/plain": [
       "<DexRet.SUCCESS: 0>"
      ]
     },
     "execution_count": 63,
     "metadata": {},
     "output_type": "execute_result"
    }
   ],
   "source": [
    "# 上电自动enable\n",
    "# disable之后需要enable\n",
    "dexhand.enable()"
   ]
  },
  {
   "cell_type": "code",
   "execution_count": null,
   "id": "98ce5ab3-399c-48fa-a156-0a3b1b14729f",
   "metadata": {},
   "outputs": [
    {
     "data": {
      "text/plain": [
       "<DexRet.SUCCESS: 0>"
      ]
     },
     "execution_count": 64,
     "metadata": {},
     "output_type": "execute_result"
    }
   ],
   "source": [
    "# 去使能\n",
    "dexhand.disable()"
   ]
  }
 ],
 "metadata": {
  "kernelspec": {
   "display_name": "Python 3 (ipykernel)",
   "language": "python",
   "name": "python3"
  },
  "language_info": {
   "codemirror_mode": {
    "name": "ipython",
    "version": 3
   },
   "file_extension": ".py",
   "mimetype": "text/x-python",
   "name": "python",
   "nbconvert_exporter": "python",
   "pygments_lexer": "ipython3",
   "version": "3.10.12"
  }
 },
 "nbformat": 4,
 "nbformat_minor": 5
}
