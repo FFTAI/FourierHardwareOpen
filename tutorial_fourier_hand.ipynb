{
 "cells": [
  {
   "cell_type": "code",
   "execution_count": 12,
   "id": "b15f92d8-e4ae-4a1b-8f68-dc400201f74f",
   "metadata": {},
   "outputs": [
    {
     "data": {
      "text/plain": [
       "['left_hand', 'right_hand']"
      ]
     },
     "execution_count": 12,
     "metadata": {},
     "output_type": "execute_result"
    }
   ],
   "source": [
    "import fourier_hardware_py\n",
    "config = fourier_hardware_py.HardwareConfigHelper(\"/usr/local/config/fourier_hardware/gr2t2v2\")\n",
    "# 配置文件中有灵巧手相关字段 \n",
    "config.getHandNames()\n"
   ]
  },
  {
   "cell_type": "code",
   "execution_count": 13,
   "id": "d9dbb55d-b510-4899-bd42-982a205076d7",
   "metadata": {},
   "outputs": [
    {
     "data": {
      "text/plain": [
       "'FDH-6L'"
      ]
     },
     "execution_count": 13,
     "metadata": {},
     "output_type": "execute_result"
    }
   ],
   "source": [
    "left_hand_type = config.getHandType(\"left_hand\")\n",
    "# 灵巧手类型，有FDH-6L,FDH-6R,FDH-12L,FDH-12R\n",
    "left_hand_type"
   ]
  },
  {
   "cell_type": "code",
   "execution_count": 14,
   "id": "83fb7afe-3f26-463d-8a32-cba13dbe818f",
   "metadata": {},
   "outputs": [
    {
     "data": {
      "text/plain": [
       "'FDH-6R'"
      ]
     },
     "execution_count": 14,
     "metadata": {},
     "output_type": "execute_result"
    }
   ],
   "source": [
    "right_hand_type = config.getHandType(\"right_hand\")\n",
    "right_hand_type"
   ]
  },
  {
   "cell_type": "code",
   "execution_count": 15,
   "id": "ed1bfeac-71b2-4604-a21f-e43454e8b4cc",
   "metadata": {},
   "outputs": [
    {
     "data": {
      "text/plain": [
       "'192.168.137.19'"
      ]
     },
     "execution_count": 15,
     "metadata": {},
     "output_type": "execute_result"
    }
   ],
   "source": [
    "# 根据灵巧手的名字获得灵巧手的ip\n",
    "left_hand_ip = config.getHandIP(\"left_hand\")\n",
    "left_hand_ip"
   ]
  },
  {
   "cell_type": "code",
   "execution_count": 16,
   "id": "4961fe57-2eb4-45c7-aaf7-81ab13de06dd",
   "metadata": {},
   "outputs": [
    {
     "data": {
      "text/plain": [
       "'192.168.137.39'"
      ]
     },
     "execution_count": 16,
     "metadata": {},
     "output_type": "execute_result"
    }
   ],
   "source": [
    "right_hand_ip = config.getHandIP(\"right_hand\")\n",
    "right_hand_ip"
   ]
  },
  {
   "cell_type": "code",
   "execution_count": 17,
   "id": "42400780-9f45-4eb2-9c79-465c32c691f3",
   "metadata": {},
   "outputs": [],
   "source": [
    "# 构造灵巧手的控制对象\n",
    "dexhand = fourier_hardware_py.DexHand()"
   ]
  },
  {
   "cell_type": "code",
   "execution_count": 18,
   "id": "14e05169-c1eb-4b3e-92e5-72d2189f822c",
   "metadata": {},
   "outputs": [
    {
     "data": {
      "text/plain": [
       "<DexRet.SUCCESS: 0>"
      ]
     },
     "execution_count": 18,
     "metadata": {},
     "output_type": "execute_result"
    }
   ],
   "source": [
    "# 灵巧手init()，注意可以根据返回值判断是否init成功\n",
    "ret = dexhand.init()\n",
    "ret"
   ]
  },
  {
   "cell_type": "code",
   "execution_count": 19,
   "id": "aad11dfd-e8ca-40cf-8e6c-120a9e82d269",
   "metadata": {},
   "outputs": [
    {
     "name": "stdout",
     "output_type": "stream",
     "text": [
      "dexhand init success\n"
     ]
    }
   ],
   "source": [
    "if ret == fourier_hardware_py.DexRet.FAIL:\n",
    "    print(\"dexhand init failed\")\n",
    "elif ret == fourier_hardware_py.DexRet.SUCCESS:\n",
    "    print(\"dexhand init success\")"
   ]
  },
  {
   "cell_type": "code",
   "execution_count": 20,
   "id": "76d3c5ca-7c93-499c-b380-0ce5c4fbd95c",
   "metadata": {},
   "outputs": [
    {
     "data": {
      "text/plain": [
       "['192.168.137.39', '192.168.137.19']"
      ]
     },
     "execution_count": 20,
     "metadata": {},
     "output_type": "execute_result"
    }
   ],
   "source": [
    "# 获取灵巧手init时检测到的ip，可以配置文件中的ip比较，确定ip是否正确\n",
    "ip_list = dexhand.get_ip_list()\n",
    "ip_list"
   ]
  },
  {
   "cell_type": "code",
   "execution_count": 21,
   "id": "bb9ec69d-65c3-484b-b64a-cef59c65dad7",
   "metadata": {},
   "outputs": [],
   "source": [
    "# 使用前进行标定\n",
    "ret = dexhand.calibration()"
   ]
  },
  {
   "cell_type": "code",
   "execution_count": 42,
   "id": "e55ac92a-8654-44d0-b2a8-939071d60dfa",
   "metadata": {},
   "outputs": [
    {
     "name": "stdout",
     "output_type": "stream",
     "text": [
      "errorcde: 0x3020 0x3020 0x3020 0x3020 0x3020 0x3020 \n",
      "errorcde: 0x3020 0x3020 0x3020 0x3020 0x3020 0x3020 \n"
     ]
    }
   ],
   "source": [
    "# 获取错误码，目前错误码作用不大\n",
    "left_hand_err = dexhand.get_errorcode(left_hand_ip);\n",
    "right_hand_err = dexhand.get_errorcode(right_hand_ip);"
   ]
  },
  {
   "cell_type": "code",
   "execution_count": 45,
   "id": "f841bb09-c9dc-4573-9864-b88c316e33eb",
   "metadata": {},
   "outputs": [
    {
     "data": {
      "text/plain": [
       "[0.8971115946769714,\n",
       " 0.9443215727806091,\n",
       " 0.9434749484062195,\n",
       " 0.9446600675582886,\n",
       " 0.5023151636123657,\n",
       " 0.9425405859947205]"
      ]
     },
     "execution_count": 45,
     "metadata": {},
     "output_type": "execute_result"
    }
   ],
   "source": [
    "# 获取灵巧手位置，返回一个数组，空代表获取失败，最大等待时间100ms \n",
    "dexhand.get_pos(left_hand_ip)"
   ]
  },
  {
   "cell_type": "code",
   "execution_count": 47,
   "id": "5c369d1c-f577-4dee-aae6-d32562d596db",
   "metadata": {},
   "outputs": [
    {
     "data": {
      "text/plain": [
       "<DexRet.FAIL: -1>"
      ]
     },
     "execution_count": 47,
     "metadata": {},
     "output_type": "execute_result"
    }
   ],
   "source": [
    "# 设置灵巧手位置，返回只代表消息是否发送成功，可能由于丢包导致设置失败，可以通过get_pos函数判断网络是否畅通 ，-1 代表不控制该自由度\n",
    "# 六自由度灵巧手控制范围为0-1\n",
    "# 12自由度范围为\n",
    "# 食指1-3：0-1750，0-1780，0-576\n",
    "# 中指4-5：0-1750，0-1780\n",
    "# 无名指6-7：0-1750， 0-1780\n",
    "# 小指8-9：0-1750， 0-1780\n",
    "# 拇指10-12：0-1700，0-1700，0-1700\n",
    "ret = dexhand.set_pos(left_hand_ip,[0.9,-1,-1,-1,0.5,-1])"
   ]
  },
  {
   "cell_type": "code",
   "execution_count": 28,
   "id": "096e4541-9368-4083-a775-436daf14e535",
   "metadata": {},
   "outputs": [],
   "source": [
    "dexhand.clear_errorcode(left_hand_ip);\n"
   ]
  },
  {
   "cell_type": "code",
   "execution_count": 33,
   "id": "317b4317-e2ae-4973-b7c2-3bd74140296b",
   "metadata": {},
   "outputs": [
    {
     "data": {
      "text/plain": [
       "<DexRet.SUCCESS: 0>"
      ]
     },
     "execution_count": 33,
     "metadata": {},
     "output_type": "execute_result"
    }
   ],
   "source": [
    "# calibration 时自动enable\n",
    "dexhand.enable()"
   ]
  },
  {
   "cell_type": "code",
   "execution_count": 36,
   "id": "98ce5ab3-399c-48fa-a156-0a3b1b14729f",
   "metadata": {},
   "outputs": [
    {
     "data": {
      "text/plain": [
       "<DexRet.SUCCESS: 0>"
      ]
     },
     "execution_count": 36,
     "metadata": {},
     "output_type": "execute_result"
    }
   ],
   "source": [
    "# 12 自由度可用\n",
    "dexhand.disable()"
   ]
  },
  {
   "cell_type": "code",
   "execution_count": null,
   "id": "f8185b61-e80b-4c12-bd1e-78320214ad4c",
   "metadata": {},
   "outputs": [],
   "source": []
  }
 ],
 "metadata": {
  "kernelspec": {
   "display_name": "Python 3 (ipykernel)",
   "language": "python",
   "name": "python3"
  },
  "language_info": {
   "codemirror_mode": {
    "name": "ipython",
    "version": 3
   },
   "file_extension": ".py",
   "mimetype": "text/x-python",
   "name": "python",
   "nbconvert_exporter": "python",
   "pygments_lexer": "ipython3",
   "version": "3.10.12"
  }
 },
 "nbformat": 4,
 "nbformat_minor": 5
}
