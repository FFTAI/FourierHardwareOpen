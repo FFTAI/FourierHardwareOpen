{
 "cells": [
  {
   "cell_type": "code",
   "execution_count": 49,
   "id": "b15f92d8-e4ae-4a1b-8f68-dc400201f74f",
   "metadata": {},
   "outputs": [
    {
     "data": {
      "text/plain": [
       "['left_hand', 'right_hand']"
      ]
     },
     "execution_count": 49,
     "metadata": {},
     "output_type": "execute_result"
    }
   ],
   "source": [
    "import fourier_hardware_py\n",
    "config = fourier_hardware_py.HardwareConfigHelper(\"/usr/local/config/fourier_hardware/gr2t2v2\")\n",
    "# 配置文件中有灵巧手相关字段 \n",
    "config.getHandNames()\n"
   ]
  },
  {
   "cell_type": "code",
   "execution_count": 50,
   "id": "d9dbb55d-b510-4899-bd42-982a205076d7",
   "metadata": {},
   "outputs": [
    {
     "data": {
      "text/plain": [
       "'FDH-6L'"
      ]
     },
     "execution_count": 50,
     "metadata": {},
     "output_type": "execute_result"
    }
   ],
   "source": [
    "left_hand_type = config.getHandType(\"left_hand\")\n",
    "# 灵巧手类型，有FDH-6L,FDH-6R,FDH-12L,FDH-12R\n",
    "left_hand_type"
   ]
  },
  {
   "cell_type": "code",
   "execution_count": 51,
   "id": "83fb7afe-3f26-463d-8a32-cba13dbe818f",
   "metadata": {},
   "outputs": [
    {
     "data": {
      "text/plain": [
       "'FDH-6R'"
      ]
     },
     "execution_count": 51,
     "metadata": {},
     "output_type": "execute_result"
    }
   ],
   "source": [
    "right_hand_type = config.getHandType(\"right_hand\")\n",
    "right_hand_type"
   ]
  },
  {
   "cell_type": "code",
   "execution_count": 52,
   "id": "ed1bfeac-71b2-4604-a21f-e43454e8b4cc",
   "metadata": {},
   "outputs": [
    {
     "data": {
      "text/plain": [
       "'192.168.137.19'"
      ]
     },
     "execution_count": 52,
     "metadata": {},
     "output_type": "execute_result"
    }
   ],
   "source": [
    "# 根据灵巧手的名字获得灵巧手的ip\n",
    "left_hand_ip = config.getHandIP(\"left_hand\")\n",
    "left_hand_ip"
   ]
  },
  {
   "cell_type": "code",
   "execution_count": 53,
   "id": "4961fe57-2eb4-45c7-aaf7-81ab13de06dd",
   "metadata": {},
   "outputs": [
    {
     "data": {
      "text/plain": [
       "'192.168.137.39'"
      ]
     },
     "execution_count": 53,
     "metadata": {},
     "output_type": "execute_result"
    }
   ],
   "source": [
    "right_hand_ip = config.getHandIP(\"right_hand\")\n",
    "right_hand_ip"
   ]
  },
  {
   "cell_type": "code",
   "execution_count": 54,
   "id": "42400780-9f45-4eb2-9c79-465c32c691f3",
   "metadata": {},
   "outputs": [
    {
     "name": "stdout",
     "output_type": "stream",
     "text": [
      "[2025-05-30 05:44:19.327] [I:fhand.cpp:15] fhand version: 0.2.0\n"
     ]
    }
   ],
   "source": [
    "# 构造灵巧手的控制对象\n",
    "dexhand = fourier_hardware_py.DexHand()"
   ]
  },
  {
   "cell_type": "code",
   "execution_count": 55,
   "id": "14e05169-c1eb-4b3e-92e5-72d2189f822c",
   "metadata": {},
   "outputs": [
    {
     "name": "stdout",
     "output_type": "stream",
     "text": [
      "[2025-05-30 05:44:20.347] [W:fhand.cpp:164] broadcase receive timeout\n"
     ]
    },
    {
     "data": {
      "text/plain": [
       "<DexRet.FAIL: -1>"
      ]
     },
     "execution_count": 55,
     "metadata": {},
     "output_type": "execute_result"
    },
    {
     "name": "stdout",
     "output_type": "stream",
     "text": [
      "[2025-05-30 05:44:20.347] [E:fhand.cpp:228] Connot find server\n"
     ]
    }
   ],
   "source": [
    "# 灵巧手init()，注意可以根据返回值判断是否init成功\n",
    "ret = dexhand.init()\n",
    "ret"
   ]
  },
  {
   "cell_type": "code",
   "execution_count": 56,
   "id": "aad11dfd-e8ca-40cf-8e6c-120a9e82d269",
   "metadata": {},
   "outputs": [
    {
     "name": "stdout",
     "output_type": "stream",
     "text": [
      "dexhand init failed\n"
     ]
    }
   ],
   "source": [
    "if ret == fourier_hardware_py.DexRet.FAIL:\n",
    "    print(\"dexhand init failed\")\n",
    "elif ret == fourier_hardware_py.DexRet.SUCCESS:\n",
    "    print(\"dexhand init success\")"
   ]
  },
  {
   "cell_type": "code",
   "execution_count": 57,
   "id": "76d3c5ca-7c93-499c-b380-0ce5c4fbd95c",
   "metadata": {},
   "outputs": [
    {
     "data": {
      "text/plain": [
       "[]"
      ]
     },
     "execution_count": 57,
     "metadata": {},
     "output_type": "execute_result"
    }
   ],
   "source": [
    "# 获取灵巧手init时检测到的ip，可以配置文件中的ip比较，确定ip是否正确\n",
    "ip_list = dexhand.get_ip_list()\n",
    "ip_list"
   ]
  },
  {
   "cell_type": "code",
   "execution_count": 58,
   "id": "f841bb09-c9dc-4573-9864-b88c316e33eb",
   "metadata": {},
   "outputs": [],
   "source": [
    "# 获取灵巧手位置，返回一个数组，空代表获取失败，最大等待时间100ms \n",
    "# 50 hz 频率get pos，1000次中平均有10次超时，超时时间平均为0.022s，没有发现大规模超时，平均单手get时间约为0.01s，建议一手一线程，get和set不要再一个线程。\n",
    "# set线程很快，不会造成线程堵塞，但是会受到get函数的影响。\n",
    "import threading\n",
    "import time\n",
    "import math\n",
    "\n",
    "left_hand_ip = \"192.168.137.19\"\n",
    "right_hand_ip = \"192.168.137.39\"\n",
    "\n",
    "def hand_loop(name, ip):\n",
    "    count = 0\n",
    "    start_time = time.perf_counter()\n",
    "    phase = 0.0\n",
    "\n",
    "    while True:\n",
    "        loop_start = time.perf_counter()\n",
    "\n",
    "        # 控制值可变化（模拟控制）\n",
    "        phase += 0.02\n",
    "        command = (math.sin(phase) + 1) / 2\n",
    "        command_array = [command]*5 + [-1]\n",
    "\n",
    "        pos = dexhand.get_pos(ip)\n",
    "        # print(f\"[{name}] get_pos耗时: {(time.perf_counter() - loop_start)*1000:.2f} ms\")\n",
    "        dexhand.set_pos(ip, command_array)\n",
    "\n",
    "        count += 1\n",
    "        now = time.perf_counter()\n",
    "\n",
    "        if now - start_time >= 1.0:\n",
    "            freq = count / (now - start_time)\n",
    "            # print(f\"[{name}] 频率: {freq:.2f} Hz\")\n",
    "            start_time = now\n",
    "            count = 0\n",
    "\n",
    "        # 精准睡眠（尝试压到100Hz）\n",
    "        duration = time.perf_counter() - loop_start\n",
    "        if duration < 0.01:\n",
    "            time.sleep(0.01 - duration)\n",
    "\n",
    "# 启动两个线程\n",
    "threading.Thread(target=hand_loop, args=(\"left\", left_hand_ip), daemon=True).start()\n",
    "threading.Thread(target=hand_loop, args=(\"right\", right_hand_ip), daemon=True).start()\n"
   ]
  },
  {
   "cell_type": "code",
   "execution_count": 59,
   "id": "5c369d1c-f577-4dee-aae6-d32562d596db",
   "metadata": {},
   "outputs": [],
   "source": [
    "# 设置灵巧手位置，返回只代表消息是否发送成功，可能由于丢包导致设置失败，可以通过get_pos函数判断网络是否畅通 ，-1 代表不控制该自由度\n",
    "# 六自由度灵巧手控制范围为0-1\n",
    "# 12自由度范围为\n",
    "# 食指1-3：0-1750，0-1780，0-576\n",
    "# 中指4-5：0-1750，0-1780\n",
    "# 无名指6-7：0-1750， 0-1780\n",
    "# 小指8-9：0-1750， 0-1780\n",
    "# 拇指10-12：0-1700，0-1700，0-1700\n",
    "ret = dexhand.set_pos(left_hand_ip,[0.9,-1,-1,-1,0.5,-1])"
   ]
  },
  {
   "cell_type": "code",
   "execution_count": 60,
   "id": "096e4541-9368-4083-a775-436daf14e535",
   "metadata": {},
   "outputs": [
    {
     "name": "stdout",
     "output_type": "stream",
     "text": [
      "[2025-05-30 05:44:20.385] [W:fhand.cpp:272] clear_errorcode 192.168.137.19 IP not found.\n",
      "[2025-05-30 05:44:20.385] [W:fhand.cpp:258] get_errorcode 192.168.137.19 IP not found.\n"
     ]
    },
    {
     "data": {
      "text/plain": [
       "[]"
      ]
     },
     "execution_count": 60,
     "metadata": {},
     "output_type": "execute_result"
    }
   ],
   "source": [
    "dexhand.clear_errorcode(left_hand_ip)\n",
    "dexhand.get_errorcode(left_hand_ip)"
   ]
  },
  {
   "cell_type": "code",
   "execution_count": 61,
   "id": "f421a15d",
   "metadata": {},
   "outputs": [
    {
     "name": "stdout",
     "output_type": "stream",
     "text": [
      "[]\n"
     ]
    }
   ],
   "source": [
    "# pvc 单位为rad,rad/s,mA\n",
    "pvc = dexhand.get_pvc(left_hand_ip)\n",
    "print(pvc)"
   ]
  },
  {
   "cell_type": "code",
   "execution_count": 62,
   "id": "bac17bdf",
   "metadata": {},
   "outputs": [
    {
     "data": {
      "text/plain": [
       "<DexRet.FAIL: -1>"
      ]
     },
     "execution_count": 62,
     "metadata": {},
     "output_type": "execute_result"
    }
   ],
   "source": [
    "dexhand.set_pvc(left_hand_ip,pvc)"
   ]
  },
  {
   "cell_type": "code",
   "execution_count": 63,
   "id": "317b4317-e2ae-4973-b7c2-3bd74140296b",
   "metadata": {},
   "outputs": [
    {
     "data": {
      "text/plain": [
       "<DexRet.SUCCESS: 0>"
      ]
     },
     "execution_count": 63,
     "metadata": {},
     "output_type": "execute_result"
    }
   ],
   "source": [
    "# 上电自动enable\n",
    "# disable之后需要enable\n",
    "dexhand.enable()"
   ]
  },
  {
   "cell_type": "code",
   "execution_count": 64,
   "id": "98ce5ab3-399c-48fa-a156-0a3b1b14729f",
   "metadata": {},
   "outputs": [
    {
     "data": {
      "text/plain": [
       "<DexRet.SUCCESS: 0>"
      ]
     },
     "execution_count": 64,
     "metadata": {},
     "output_type": "execute_result"
    }
   ],
   "source": [
    "# 12 自由度可用,去使能\n",
    "dexhand.disable()"
   ]
  },
  {
   "cell_type": "code",
   "execution_count": null,
   "id": "f8185b61-e80b-4c12-bd1e-78320214ad4c",
   "metadata": {},
   "outputs": [],
   "source": []
  }
 ],
 "metadata": {
  "kernelspec": {
   "display_name": "Python 3 (ipykernel)",
   "language": "python",
   "name": "python3"
  },
  "language_info": {
   "codemirror_mode": {
    "name": "ipython",
    "version": 3
   },
   "file_extension": ".py",
   "mimetype": "text/x-python",
   "name": "python",
   "nbconvert_exporter": "python",
   "pygments_lexer": "ipython3",
   "version": "3.10.12"
  }
 },
 "nbformat": 4,
 "nbformat_minor": 5
}
